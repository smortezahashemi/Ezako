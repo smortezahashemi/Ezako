{
 "cells": [
  {
   "cell_type": "code",
   "execution_count": 1,
   "metadata": {
    "collapsed": true
   },
   "outputs": [],
   "source": [
    "\n",
    "\"\"\"\n",
    "Created on Sun Oct 14 14:28:29 2018\n",
    "\n",
    "@author: Morteza HASHEMI\n",
    "\"\"\"\n",
    "#-------Import needed libraries\n",
    "\n",
    "import pandas as pd\n",
    "import numpy as np\n",
    "import matplotlib.pyplot as plt\n",
    "\n",
    "\n",
    "\n",
    "#-------Load dataset into Pandas Dataframe \n",
    "\n",
    "views = pd.read_csv(\"C:/Users/Spa-Francorchamps/Downloads/eco_v0.2/all_product_2018.csv\")\n",
    "carts = pd.read_csv(\"C:/Users/Spa-Francorchamps/Downloads/eco_v0.2/all_order_2018.csv\")\n"
   ]
  },
  {
   "cell_type": "code",
   "execution_count": 2,
   "metadata": {
    "collapsed": true
   },
   "outputs": [],
   "source": [
    "#-------Convert timestamp to human readable time units\n",
    "\n",
    "carts.index = pd.to_datetime(carts['timestamp'], unit='ms')\n",
    "views.index = pd.to_datetime(views['timestamp'], unit='ms')\n",
    "\n",
    "carts = carts.drop(['timestamp'], axis=1)\n",
    "views = views.drop(['timestamp'], axis=1)\n",
    "\n",
    "\n",
    "#-------Small optimization & cleaning\n",
    "\n",
    "carts.dropna(subset=[\"product_ids\"], inplace=True)\n",
    "views['product_id'] = views['product_id'].astype('int')"
   ]
  },
  {
   "cell_type": "code",
   "execution_count": 4,
   "metadata": {},
   "outputs": [
    {
     "data": {
      "text/html": [
       "<div>\n",
       "<style scoped>\n",
       "    .dataframe tbody tr th:only-of-type {\n",
       "        vertical-align: middle;\n",
       "    }\n",
       "\n",
       "    .dataframe tbody tr th {\n",
       "        vertical-align: top;\n",
       "    }\n",
       "\n",
       "    .dataframe thead th {\n",
       "        text-align: right;\n",
       "    }\n",
       "</style>\n",
       "<table border=\"1\" class=\"dataframe\">\n",
       "  <thead>\n",
       "    <tr style=\"text-align: right;\">\n",
       "      <th></th>\n",
       "      <th>customer_id</th>\n",
       "      <th>product_ids</th>\n",
       "      <th>cart_price</th>\n",
       "    </tr>\n",
       "  </thead>\n",
       "  <tbody>\n",
       "    <tr>\n",
       "      <th>0</th>\n",
       "      <td>401a01d8c3a64e11</td>\n",
       "      <td>188</td>\n",
       "      <td>28.89</td>\n",
       "    </tr>\n",
       "    <tr>\n",
       "      <th>1</th>\n",
       "      <td>401a01d8c3a64e11</td>\n",
       "      <td>1439</td>\n",
       "      <td>28.89</td>\n",
       "    </tr>\n",
       "    <tr>\n",
       "      <th>2</th>\n",
       "      <td>3e87edf753a9f1a1</td>\n",
       "      <td>2790</td>\n",
       "      <td>199.95</td>\n",
       "    </tr>\n",
       "    <tr>\n",
       "      <th>3</th>\n",
       "      <td>bd750602eac31a94</td>\n",
       "      <td>157</td>\n",
       "      <td>11.20</td>\n",
       "    </tr>\n",
       "    <tr>\n",
       "      <th>4</th>\n",
       "      <td>3e083e3a130b21b2</td>\n",
       "      <td>647</td>\n",
       "      <td>17.85</td>\n",
       "    </tr>\n",
       "  </tbody>\n",
       "</table>\n",
       "</div>"
      ],
      "text/plain": [
       "        customer_id product_ids  cart_price\n",
       "0  401a01d8c3a64e11         188       28.89\n",
       "1  401a01d8c3a64e11        1439       28.89\n",
       "2  3e87edf753a9f1a1        2790      199.95\n",
       "3  bd750602eac31a94         157       11.20\n",
       "4  3e083e3a130b21b2         647       17.85"
      ]
     },
     "execution_count": 4,
     "metadata": {},
     "output_type": "execute_result"
    }
   ],
   "source": [
    "#------Formatting \"product_ids\" column\n",
    "\n",
    "lst = []\n",
    "\n",
    "for row in carts.iterrows():\n",
    "    vals = row[1].values\n",
    "    product_ids = vals[1]\n",
    "    for id_prod in product_ids.split(\"|\"):\n",
    "        lst.append([vals[0], id_prod, vals[2]])\n",
    "#         current = pd.DataFrame([[vals[0], id_prod, vals[2]]], columns=cols)\n",
    "#         current.index = [row[0]] \n",
    "#         print(current)\n",
    "\n",
    "cols = carts.columns.tolist()\n",
    "cart_flatten = pd.DataFrame(lst, columns=cols)\n",
    "cart_flatten.head()"
   ]
  },
  {
   "cell_type": "code",
   "execution_count": 4,
   "metadata": {},
   "outputs": [
    {
     "name": "stdout",
     "output_type": "stream",
     "text": [
      "<class 'pandas.core.frame.DataFrame'>\n",
      "RangeIndex: 9666 entries, 0 to 9665\n",
      "Data columns (total 3 columns):\n",
      "customer_id    9666 non-null object\n",
      "product_ids    9666 non-null int32\n",
      "cart_price     9666 non-null float64\n",
      "dtypes: float64(1), int32(1), object(1)\n",
      "memory usage: 188.9+ KB\n"
     ]
    }
   ],
   "source": [
    "#------Convert the product_ids to int\n",
    "cart_flatten['product_ids'] = cart_flatten['product_ids'].astype('int')\n",
    "cart_flatten.info()"
   ]
  },
  {
   "cell_type": "code",
   "execution_count": 5,
   "metadata": {},
   "outputs": [
    {
     "data": {
      "text/html": [
       "<div>\n",
       "<style scoped>\n",
       "    .dataframe tbody tr th:only-of-type {\n",
       "        vertical-align: middle;\n",
       "    }\n",
       "\n",
       "    .dataframe tbody tr th {\n",
       "        vertical-align: top;\n",
       "    }\n",
       "\n",
       "    .dataframe thead th {\n",
       "        text-align: right;\n",
       "    }\n",
       "</style>\n",
       "<table border=\"1\" class=\"dataframe\">\n",
       "  <thead>\n",
       "    <tr style=\"text-align: right;\">\n",
       "      <th></th>\n",
       "      <th>customer_id</th>\n",
       "      <th>product_ids</th>\n",
       "      <th>cart_price</th>\n",
       "    </tr>\n",
       "    <tr>\n",
       "      <th>timestamp</th>\n",
       "      <th></th>\n",
       "      <th></th>\n",
       "      <th></th>\n",
       "    </tr>\n",
       "  </thead>\n",
       "  <tbody>\n",
       "    <tr>\n",
       "      <th>2017-12-31 23:41:11.712</th>\n",
       "      <td>401a01d8c3a64e11</td>\n",
       "      <td>188|1439</td>\n",
       "      <td>28.89</td>\n",
       "    </tr>\n",
       "    <tr>\n",
       "      <th>2018-01-01 11:56:16.242</th>\n",
       "      <td>3e87edf753a9f1a1</td>\n",
       "      <td>2790</td>\n",
       "      <td>199.95</td>\n",
       "    </tr>\n",
       "    <tr>\n",
       "      <th>2018-01-01 13:26:38.703</th>\n",
       "      <td>bd750602eac31a94</td>\n",
       "      <td>157</td>\n",
       "      <td>11.20</td>\n",
       "    </tr>\n",
       "    <tr>\n",
       "      <th>2018-01-01 13:40:24.978</th>\n",
       "      <td>3e083e3a130b21b2</td>\n",
       "      <td>647</td>\n",
       "      <td>17.85</td>\n",
       "    </tr>\n",
       "    <tr>\n",
       "      <th>2018-01-01 15:57:46.958</th>\n",
       "      <td>30fdc97b0eb7761b</td>\n",
       "      <td>2</td>\n",
       "      <td>28.70</td>\n",
       "    </tr>\n",
       "  </tbody>\n",
       "</table>\n",
       "</div>"
      ],
      "text/plain": [
       "                              customer_id product_ids  cart_price\n",
       "timestamp                                                        \n",
       "2017-12-31 23:41:11.712  401a01d8c3a64e11    188|1439       28.89\n",
       "2018-01-01 11:56:16.242  3e87edf753a9f1a1        2790      199.95\n",
       "2018-01-01 13:26:38.703  bd750602eac31a94         157       11.20\n",
       "2018-01-01 13:40:24.978  3e083e3a130b21b2         647       17.85\n",
       "2018-01-01 15:57:46.958  30fdc97b0eb7761b           2       28.70"
      ]
     },
     "execution_count": 5,
     "metadata": {},
     "output_type": "execute_result"
    }
   ],
   "source": [
    "carts.head()"
   ]
  },
  {
   "cell_type": "code",
   "execution_count": 6,
   "metadata": {},
   "outputs": [
    {
     "data": {
      "text/html": [
       "<div>\n",
       "<style scoped>\n",
       "    .dataframe tbody tr th:only-of-type {\n",
       "        vertical-align: middle;\n",
       "    }\n",
       "\n",
       "    .dataframe tbody tr th {\n",
       "        vertical-align: top;\n",
       "    }\n",
       "\n",
       "    .dataframe thead th {\n",
       "        text-align: right;\n",
       "    }\n",
       "</style>\n",
       "<table border=\"1\" class=\"dataframe\">\n",
       "  <thead>\n",
       "    <tr style=\"text-align: right;\">\n",
       "      <th></th>\n",
       "      <th>customer_id</th>\n",
       "      <th>product_id</th>\n",
       "      <th>full_price</th>\n",
       "      <th>actual_price</th>\n",
       "    </tr>\n",
       "    <tr>\n",
       "      <th>timestamp</th>\n",
       "      <th></th>\n",
       "      <th></th>\n",
       "      <th></th>\n",
       "      <th></th>\n",
       "    </tr>\n",
       "  </thead>\n",
       "  <tbody>\n",
       "    <tr>\n",
       "      <th>2017-12-31 23:00:21.389</th>\n",
       "      <td>a1768f6141ba9932</td>\n",
       "      <td>1962</td>\n",
       "      <td>238.842975</td>\n",
       "      <td>167.190083</td>\n",
       "    </tr>\n",
       "    <tr>\n",
       "      <th>2017-12-31 23:02:09.316</th>\n",
       "      <td>9afedb29c50f8ab9</td>\n",
       "      <td>804</td>\n",
       "      <td>57.024793</td>\n",
       "      <td>57.024793</td>\n",
       "    </tr>\n",
       "    <tr>\n",
       "      <th>2017-12-31 23:02:43.368</th>\n",
       "      <td>f5d79ddd326abb30</td>\n",
       "      <td>1681</td>\n",
       "      <td>57.851240</td>\n",
       "      <td>57.851240</td>\n",
       "    </tr>\n",
       "    <tr>\n",
       "      <th>2017-12-31 23:03:10.137</th>\n",
       "      <td>64937cc7dc6d57dd</td>\n",
       "      <td>2005</td>\n",
       "      <td>164.462810</td>\n",
       "      <td>115.123967</td>\n",
       "    </tr>\n",
       "    <tr>\n",
       "      <th>2017-12-31 23:03:17.932</th>\n",
       "      <td>9c4edff0e7e785e7</td>\n",
       "      <td>2546</td>\n",
       "      <td>681.820579</td>\n",
       "      <td>681.820579</td>\n",
       "    </tr>\n",
       "  </tbody>\n",
       "</table>\n",
       "</div>"
      ],
      "text/plain": [
       "                              customer_id  product_id  full_price  \\\n",
       "timestamp                                                           \n",
       "2017-12-31 23:00:21.389  a1768f6141ba9932        1962  238.842975   \n",
       "2017-12-31 23:02:09.316  9afedb29c50f8ab9         804   57.024793   \n",
       "2017-12-31 23:02:43.368  f5d79ddd326abb30        1681   57.851240   \n",
       "2017-12-31 23:03:10.137  64937cc7dc6d57dd        2005  164.462810   \n",
       "2017-12-31 23:03:17.932  9c4edff0e7e785e7        2546  681.820579   \n",
       "\n",
       "                         actual_price  \n",
       "timestamp                              \n",
       "2017-12-31 23:00:21.389    167.190083  \n",
       "2017-12-31 23:02:09.316     57.024793  \n",
       "2017-12-31 23:02:43.368     57.851240  \n",
       "2017-12-31 23:03:10.137    115.123967  \n",
       "2017-12-31 23:03:17.932    681.820579  "
      ]
     },
     "execution_count": 6,
     "metadata": {},
     "output_type": "execute_result"
    }
   ],
   "source": [
    "views.head()"
   ]
  },
  {
   "cell_type": "code",
   "execution_count": 7,
   "metadata": {},
   "outputs": [
    {
     "data": {
      "text/html": [
       "<div>\n",
       "<style scoped>\n",
       "    .dataframe tbody tr th:only-of-type {\n",
       "        vertical-align: middle;\n",
       "    }\n",
       "\n",
       "    .dataframe tbody tr th {\n",
       "        vertical-align: top;\n",
       "    }\n",
       "\n",
       "    .dataframe thead th {\n",
       "        text-align: right;\n",
       "    }\n",
       "</style>\n",
       "<table border=\"1\" class=\"dataframe\">\n",
       "  <thead>\n",
       "    <tr style=\"text-align: right;\">\n",
       "      <th></th>\n",
       "      <th>customer_id_cart</th>\n",
       "      <th>product_ids</th>\n",
       "      <th>cart_price</th>\n",
       "      <th>customer_id_view</th>\n",
       "      <th>product_id</th>\n",
       "      <th>full_price</th>\n",
       "      <th>actual_price</th>\n",
       "    </tr>\n",
       "  </thead>\n",
       "  <tbody>\n",
       "    <tr>\n",
       "      <th>0</th>\n",
       "      <td>401a01d8c3a64e11</td>\n",
       "      <td>188</td>\n",
       "      <td>28.89</td>\n",
       "      <td>7b4464d06d7ffbfb</td>\n",
       "      <td>188.0</td>\n",
       "      <td>4.950413</td>\n",
       "      <td>4.950413</td>\n",
       "    </tr>\n",
       "    <tr>\n",
       "      <th>1</th>\n",
       "      <td>401a01d8c3a64e11</td>\n",
       "      <td>188</td>\n",
       "      <td>28.89</td>\n",
       "      <td>75dd9fe3daae2927</td>\n",
       "      <td>188.0</td>\n",
       "      <td>4.950413</td>\n",
       "      <td>4.950413</td>\n",
       "    </tr>\n",
       "    <tr>\n",
       "      <th>2</th>\n",
       "      <td>401a01d8c3a64e11</td>\n",
       "      <td>188</td>\n",
       "      <td>28.89</td>\n",
       "      <td>ba557ca06e436eaf</td>\n",
       "      <td>188.0</td>\n",
       "      <td>4.950413</td>\n",
       "      <td>4.950413</td>\n",
       "    </tr>\n",
       "    <tr>\n",
       "      <th>3</th>\n",
       "      <td>401a01d8c3a64e11</td>\n",
       "      <td>188</td>\n",
       "      <td>28.89</td>\n",
       "      <td>485fbe5297fbeefa</td>\n",
       "      <td>188.0</td>\n",
       "      <td>4.950413</td>\n",
       "      <td>4.950413</td>\n",
       "    </tr>\n",
       "    <tr>\n",
       "      <th>4</th>\n",
       "      <td>401a01d8c3a64e11</td>\n",
       "      <td>188</td>\n",
       "      <td>28.89</td>\n",
       "      <td>c0e3a1443cb5d177</td>\n",
       "      <td>188.0</td>\n",
       "      <td>4.950413</td>\n",
       "      <td>4.950413</td>\n",
       "    </tr>\n",
       "  </tbody>\n",
       "</table>\n",
       "</div>"
      ],
      "text/plain": [
       "   customer_id_cart  product_ids  cart_price  customer_id_view  product_id  \\\n",
       "0  401a01d8c3a64e11          188       28.89  7b4464d06d7ffbfb       188.0   \n",
       "1  401a01d8c3a64e11          188       28.89  75dd9fe3daae2927       188.0   \n",
       "2  401a01d8c3a64e11          188       28.89  ba557ca06e436eaf       188.0   \n",
       "3  401a01d8c3a64e11          188       28.89  485fbe5297fbeefa       188.0   \n",
       "4  401a01d8c3a64e11          188       28.89  c0e3a1443cb5d177       188.0   \n",
       "\n",
       "   full_price  actual_price  \n",
       "0    4.950413      4.950413  \n",
       "1    4.950413      4.950413  \n",
       "2    4.950413      4.950413  \n",
       "3    4.950413      4.950413  \n",
       "4    4.950413      4.950413  "
      ]
     },
     "execution_count": 7,
     "metadata": {},
     "output_type": "execute_result"
    }
   ],
   "source": [
    "#-----------Merge the two datasets (cart_flatten and views)\n",
    "\n",
    "mergedProd = cart_flatten.merge(views, how='left', left_on='product_ids', right_on='product_id', \n",
    "                                suffixes=['_cart', '_view'])\n",
    "\n",
    "\n",
    "#-----------Locating rows where the \"product_id\" is null\n",
    "\n",
    "mergedProd[mergedProd['product_id'].isnull()]\n",
    "\n",
    "\n",
    "#----------Drop Na rows\n",
    "\n",
    "mergedProd.dropna(subset=['product_id'], inplace=True)\n",
    "\n",
    "mergedProd.head()"
   ]
  },
  {
   "cell_type": "code",
   "execution_count": 8,
   "metadata": {
    "collapsed": true
   },
   "outputs": [],
   "source": [
    "mergedProd['product_id'] = mergedProd['product_id'].astype('int')"
   ]
  },
  {
   "cell_type": "code",
   "execution_count": 9,
   "metadata": {
    "collapsed": true
   },
   "outputs": [],
   "source": [
    "grpByProductID = mergedProd.groupby(['product_ids'])"
   ]
  },
  {
   "cell_type": "code",
   "execution_count": 13,
   "metadata": {},
   "outputs": [
    {
     "data": {
      "text/plain": [
       "product_ids\n",
       "2     108\n",
       "3       5\n",
       "14      7\n",
       "15      2\n",
       "18      1\n",
       "Name: customer_id_cart, dtype: int64"
      ]
     },
     "execution_count": 13,
     "metadata": {},
     "output_type": "execute_result"
    }
   ],
   "source": [
    "#------Number of unique people ordered each individual product\n",
    "\n",
    "productPerCart = grpByProductID['customer_id_cart'].nunique()\n",
    "productPerCart.head()"
   ]
  },
  {
   "cell_type": "code",
   "execution_count": 14,
   "metadata": {},
   "outputs": [
    {
     "data": {
      "text/plain": [
       "product_ids\n",
       "2     2219\n",
       "3     2481\n",
       "14     673\n",
       "15     129\n",
       "18      58\n",
       "Name: customer_id_view, dtype: int64"
      ]
     },
     "execution_count": 14,
     "metadata": {},
     "output_type": "execute_result"
    }
   ],
   "source": [
    "#------Number of unique people viewed each individual product\n",
    "\n",
    "productPerView = grpByProductID['customer_id_view'].nunique()\n",
    "productPerView.head()"
   ]
  },
  {
   "cell_type": "code",
   "execution_count": 15,
   "metadata": {},
   "outputs": [
    {
     "data": {
      "text/html": [
       "<div>\n",
       "<style scoped>\n",
       "    .dataframe tbody tr th:only-of-type {\n",
       "        vertical-align: middle;\n",
       "    }\n",
       "\n",
       "    .dataframe tbody tr th {\n",
       "        vertical-align: top;\n",
       "    }\n",
       "\n",
       "    .dataframe thead th {\n",
       "        text-align: right;\n",
       "    }\n",
       "</style>\n",
       "<table border=\"1\" class=\"dataframe\">\n",
       "  <thead>\n",
       "    <tr style=\"text-align: right;\">\n",
       "      <th></th>\n",
       "      <th>per_cart</th>\n",
       "      <th>per_view</th>\n",
       "      <th>cart_per_view</th>\n",
       "      <th>view_per_cart</th>\n",
       "    </tr>\n",
       "    <tr>\n",
       "      <th>product_ids</th>\n",
       "      <th></th>\n",
       "      <th></th>\n",
       "      <th></th>\n",
       "      <th></th>\n",
       "    </tr>\n",
       "  </thead>\n",
       "  <tbody>\n",
       "    <tr>\n",
       "      <th>2</th>\n",
       "      <td>108</td>\n",
       "      <td>2219</td>\n",
       "      <td>0.048671</td>\n",
       "      <td>20.546296</td>\n",
       "    </tr>\n",
       "    <tr>\n",
       "      <th>3</th>\n",
       "      <td>5</td>\n",
       "      <td>2481</td>\n",
       "      <td>0.002015</td>\n",
       "      <td>496.200000</td>\n",
       "    </tr>\n",
       "    <tr>\n",
       "      <th>14</th>\n",
       "      <td>7</td>\n",
       "      <td>673</td>\n",
       "      <td>0.010401</td>\n",
       "      <td>96.142857</td>\n",
       "    </tr>\n",
       "    <tr>\n",
       "      <th>15</th>\n",
       "      <td>2</td>\n",
       "      <td>129</td>\n",
       "      <td>0.015504</td>\n",
       "      <td>64.500000</td>\n",
       "    </tr>\n",
       "    <tr>\n",
       "      <th>18</th>\n",
       "      <td>1</td>\n",
       "      <td>58</td>\n",
       "      <td>0.017241</td>\n",
       "      <td>58.000000</td>\n",
       "    </tr>\n",
       "  </tbody>\n",
       "</table>\n",
       "</div>"
      ],
      "text/plain": [
       "             per_cart  per_view  cart_per_view  view_per_cart\n",
       "product_ids                                                  \n",
       "2                 108      2219       0.048671      20.546296\n",
       "3                   5      2481       0.002015     496.200000\n",
       "14                  7       673       0.010401      96.142857\n",
       "15                  2       129       0.015504      64.500000\n",
       "18                  1        58       0.017241      58.000000"
      ]
     },
     "execution_count": 15,
     "metadata": {},
     "output_type": "execute_result"
    }
   ],
   "source": [
    "#--------Create a data frame and calculate the number of \"Cart Per View\" for each product\n",
    "#--------cart_per_view : (number of  / number of views)  for each product\n",
    "#--------view_per_cart : (number of views / number of purchases)  for each product\n",
    "\n",
    "cartPerView = pd.DataFrame({'per_cart': productPerCart, 'per_view': productPerView})\n",
    "cartPerView['cart_per_view'] = cartPerView['per_cart'] / cartPerView['per_view']\n",
    "cartPerView['view_per_cart'] = cartPerView['per_view'] / cartPerView['per_cart']\n",
    "cartPerView.head()"
   ]
  },
  {
   "cell_type": "code",
   "execution_count": 16,
   "metadata": {},
   "outputs": [
    {
     "data": {
      "text/plain": [
       "Text(0.5,0,'Product ID')"
      ]
     },
     "execution_count": 16,
     "metadata": {},
     "output_type": "execute_result"
    },
    {
     "data": {
      "image/png": "[encoded data removed]",
      "text/plain": [
       "<Figure size 1224x720 with 2 Axes>"
      ]
     },
     "metadata": {},
     "output_type": "display_data"
    }
   ],
   "source": [
    "plt.figure(figsize=(17,10))\n",
    "plt.subplot(2,1,1)\n",
    "plt.title('Ratio')\n",
    "plt.bar(cartPerView.index, cartPerView['cart_per_view'])\n",
    "plt.ylabel('Purchase Per View')\n",
    "plt.subplot(2,1,2)\n",
    "plt.bar(cartPerView.index, cartPerView['view_per_cart'])\n",
    "plt.ylabel('View Per Purchase')\n",
    "plt.xlabel('Product ID')"
   ]
  },
  {
   "cell_type": "code",
   "execution_count": 20,
   "metadata": {},
   "outputs": [
    {
     "data": {
      "text/plain": [
       "product_ids\n",
       "1731    1.000000\n",
       "3851    1.000000\n",
       "1809    0.500000\n",
       "2389    0.500000\n",
       "2637    0.500000\n",
       "3806    0.500000\n",
       "1353    0.333333\n",
       "1513    0.333333\n",
       "2929    0.333333\n",
       "3032    0.333333\n",
       "Name: cart_per_view, dtype: float64"
      ]
     },
     "execution_count": 20,
     "metadata": {},
     "output_type": "execute_result"
    }
   ],
   "source": [
    "#---------Top 10 best sellers\n",
    "\n",
    "popularProds = cartPerView['cart_per_view'].nlargest(10)\n",
    "popularProds"
   ]
  },
  {
   "cell_type": "code",
   "execution_count": 21,
   "metadata": {},
   "outputs": [
    {
     "data": {
      "text/plain": [
       "product_ids\n",
       "2184    2376.0\n",
       "1282    2294.0\n",
       "1501    1677.0\n",
       "1893    1503.0\n",
       "1738    1241.0\n",
       "3551    1240.0\n",
       "185     1207.0\n",
       "1675    1153.0\n",
       "2183    1096.0\n",
       "180     1084.0\n",
       "Name: view_per_cart, dtype: float64"
      ]
     },
     "execution_count": 21,
     "metadata": {},
     "output_type": "execute_result"
    }
   ],
   "source": [
    "#---------Bottom 10 least selling products\n",
    "\n",
    "unpopularProds = cartPerView['view_per_cart'].nlargest(10)\n",
    "unpopularProds"
   ]
  },
  {
   "cell_type": "code",
   "execution_count": null,
   "metadata": {
    "collapsed": true
   },
   "outputs": [],
   "source": []
  },
  {
   "cell_type": "code",
   "execution_count": null,
   "metadata": {
    "collapsed": true
   },
   "outputs": [],
   "source": []
  },
  {
   "cell_type": "code",
   "execution_count": null,
   "metadata": {
    "collapsed": true
   },
   "outputs": [],
   "source": [
    "# Dec 2nd"
   ]
  },
  {
   "cell_type": "code",
   "execution_count": 57,
   "metadata": {
    "collapsed": true
   },
   "outputs": [],
   "source": [
    "productFreq = views['product_id'].value_counts()"
   ]
  },
  {
   "cell_type": "code",
   "execution_count": 59,
   "metadata": {},
   "outputs": [
    {
     "data": {
      "text/plain": [
       "(array([1.263e+03, 7.470e+02, 3.790e+02, 2.240e+02, 1.190e+02, 1.040e+02,\n",
       "        7.100e+01, 6.000e+01, 3.500e+01, 2.800e+01, 2.500e+01, 1.400e+01,\n",
       "        1.600e+01, 8.000e+00, 1.200e+01, 9.000e+00, 1.300e+01, 7.000e+00,\n",
       "        3.000e+00, 8.000e+00, 3.000e+00, 4.000e+00, 2.000e+00, 8.000e+00,\n",
       "        2.000e+00, 1.000e+00, 1.000e+00, 1.000e+00, 1.000e+00, 1.000e+00,\n",
       "        0.000e+00, 1.000e+00, 1.000e+00, 1.000e+00, 0.000e+00, 1.000e+00,\n",
       "        2.000e+00, 0.000e+00, 3.000e+00, 0.000e+00, 0.000e+00, 1.000e+00,\n",
       "        0.000e+00, 0.000e+00, 0.000e+00, 0.000e+00, 0.000e+00, 0.000e+00,\n",
       "        0.000e+00, 2.000e+00]),\n",
       " array([1.00000e+00, 9.75400e+01, 1.94080e+02, 2.90620e+02, 3.87160e+02,\n",
       "        4.83700e+02, 5.80240e+02, 6.76780e+02, 7.73320e+02, 8.69860e+02,\n",
       "        9.66400e+02, 1.06294e+03, 1.15948e+03, 1.25602e+03, 1.35256e+03,\n",
       "        1.44910e+03, 1.54564e+03, 1.64218e+03, 1.73872e+03, 1.83526e+03,\n",
       "        1.93180e+03, 2.02834e+03, 2.12488e+03, 2.22142e+03, 2.31796e+03,\n",
       "        2.41450e+03, 2.51104e+03, 2.60758e+03, 2.70412e+03, 2.80066e+03,\n",
       "        2.89720e+03, 2.99374e+03, 3.09028e+03, 3.18682e+03, 3.28336e+03,\n",
       "        3.37990e+03, 3.47644e+03, 3.57298e+03, 3.66952e+03, 3.76606e+03,\n",
       "        3.86260e+03, 3.95914e+03, 4.05568e+03, 4.15222e+03, 4.24876e+03,\n",
       "        4.34530e+03, 4.44184e+03, 4.53838e+03, 4.63492e+03, 4.73146e+03,\n",
       "        4.82800e+03]),\n",
       " <a list of 50 Patch objects>)"
      ]
     },
     "execution_count": 59,
     "metadata": {},
     "output_type": "execute_result"
    },
    {
     "data": {
      "image/png": "[encoded data removed]",
      "text/plain": [
       "<Figure size 432x288 with 1 Axes>"
      ]
     },
     "metadata": {
      "needs_background": "light"
     },
     "output_type": "display_data"
    }
   ],
   "source": [
    "plt.hist(productFreq, bins=50)"
   ]
  },
  {
   "cell_type": "code",
   "execution_count": 64,
   "metadata": {},
   "outputs": [
    {
     "name": "stdout",
     "output_type": "stream",
     "text": [
      "Median:  132.0\n"
     ]
    },
    {
     "data": {
      "text/plain": [
       "count    3181.000000\n",
       "mean      260.152468\n",
       "std       403.532928\n",
       "min         1.000000\n",
       "25%        57.000000\n",
       "50%       132.000000\n",
       "75%       289.000000\n",
       "max      4828.000000\n",
       "Name: product_id, dtype: float64"
      ]
     },
     "execution_count": 64,
     "metadata": {},
     "output_type": "execute_result"
    }
   ],
   "source": [
    "median = np.median(productFreq)\n",
    "print(\"Median: \", median)\n",
    "productFreq.describe()"
   ]
  },
  {
   "cell_type": "code",
   "execution_count": 34,
   "metadata": {},
   "outputs": [
    {
     "data": {
      "text/plain": [
       "(array([   5.,   46.,  374., 1432., 3001., 2958., 1643.,  472.,   62.,\n",
       "           7.]), array([ 36.51137067,  49.01435503,  61.51733939,  74.02032375,\n",
       "         86.52330811,  99.02629246, 111.52927682, 124.03226118,\n",
       "        136.53524554, 149.0382299 , 161.54121426]), <a list of 10 Patch objects>)"
      ]
     },
     "execution_count": 34,
     "metadata": {},
     "output_type": "execute_result"
    },
    {
     "data": {
      "image/png": "[encoded data removed]",
      "text/plain": [
       "<Figure size 432x288 with 1 Axes>"
      ]
     },
     "metadata": {
      "needs_background": "light"
     },
     "output_type": "display_data"
    }
   ],
   "source": [
    "plt.hist(x)"
   ]
  },
  {
   "cell_type": "code",
   "execution_count": null,
   "metadata": {
    "collapsed": true
   },
   "outputs": [],
   "source": []
  },
  {
   "cell_type": "code",
   "execution_count": null,
   "metadata": {
    "collapsed": true
   },
   "outputs": [],
   "source": []
  },
  {
   "cell_type": "code",
   "execution_count": null,
   "metadata": {
    "collapsed": true
   },
   "outputs": [],
   "source": [
    "#---------------------------OLDER CODES------------------"
   ]
  },
  {
   "cell_type": "code",
   "execution_count": 12,
   "metadata": {},
   "outputs": [
    {
     "data": {
      "text/plain": [
       "'05ae14eada9a45ca'"
      ]
     },
     "execution_count": 12,
     "metadata": {},
     "output_type": "execute_result"
    }
   ],
   "source": [
    "personofInterest = carts['customer_id'].value_counts()\n",
    "personofInterest = personofInterest.index[0]\n",
    "personofInterest"
   ]
  },
  {
   "cell_type": "code",
   "execution_count": 99,
   "metadata": {},
   "outputs": [
    {
     "data": {
      "text/html": [
       "<div>\n",
       "<style scoped>\n",
       "    .dataframe tbody tr th:only-of-type {\n",
       "        vertical-align: middle;\n",
       "    }\n",
       "\n",
       "    .dataframe tbody tr th {\n",
       "        vertical-align: top;\n",
       "    }\n",
       "\n",
       "    .dataframe thead th {\n",
       "        text-align: right;\n",
       "    }\n",
       "</style>\n",
       "<table border=\"1\" class=\"dataframe\">\n",
       "  <thead>\n",
       "    <tr style=\"text-align: right;\">\n",
       "      <th></th>\n",
       "      <th>customer_id</th>\n",
       "      <th>product_ids</th>\n",
       "      <th>cart_price</th>\n",
       "    </tr>\n",
       "    <tr>\n",
       "      <th>timestamp</th>\n",
       "      <th></th>\n",
       "      <th></th>\n",
       "      <th></th>\n",
       "    </tr>\n",
       "  </thead>\n",
       "  <tbody>\n",
       "    <tr>\n",
       "      <th>2018-09-28 10:42:06.473</th>\n",
       "      <td>05ae14eada9a45ca</td>\n",
       "      <td>353</td>\n",
       "      <td>15.00</td>\n",
       "    </tr>\n",
       "    <tr>\n",
       "      <th>2018-10-02 08:22:03.518</th>\n",
       "      <td>05ae14eada9a45ca</td>\n",
       "      <td>47|56</td>\n",
       "      <td>23.70</td>\n",
       "    </tr>\n",
       "    <tr>\n",
       "      <th>2018-10-02 11:04:16.775</th>\n",
       "      <td>05ae14eada9a45ca</td>\n",
       "      <td>156|159</td>\n",
       "      <td>14.60</td>\n",
       "    </tr>\n",
       "    <tr>\n",
       "      <th>2018-10-02 17:04:00.242</th>\n",
       "      <td>05ae14eada9a45ca</td>\n",
       "      <td>681</td>\n",
       "      <td>12.95</td>\n",
       "    </tr>\n",
       "    <tr>\n",
       "      <th>2018-10-02 17:19:33.698</th>\n",
       "      <td>05ae14eada9a45ca</td>\n",
       "      <td>2785|1132|1129</td>\n",
       "      <td>316.85</td>\n",
       "    </tr>\n",
       "  </tbody>\n",
       "</table>\n",
       "</div>"
      ],
      "text/plain": [
       "                              customer_id     product_ids  cart_price\n",
       "timestamp                                                            \n",
       "2018-09-28 10:42:06.473  05ae14eada9a45ca             353       15.00\n",
       "2018-10-02 08:22:03.518  05ae14eada9a45ca           47|56       23.70\n",
       "2018-10-02 11:04:16.775  05ae14eada9a45ca         156|159       14.60\n",
       "2018-10-02 17:04:00.242  05ae14eada9a45ca             681       12.95\n",
       "2018-10-02 17:19:33.698  05ae14eada9a45ca  2785|1132|1129      316.85"
      ]
     },
     "execution_count": 99,
     "metadata": {},
     "output_type": "execute_result"
    }
   ],
   "source": [
    "personofInterestPurchases = carts.loc[carts['customer_id'] == personofInterest]\n",
    "personofInterestPurchases.tail()"
   ]
  },
  {
   "cell_type": "code",
   "execution_count": 120,
   "metadata": {},
   "outputs": [
    {
     "data": {
      "text/html": [
       "<div>\n",
       "<style scoped>\n",
       "    .dataframe tbody tr th:only-of-type {\n",
       "        vertical-align: middle;\n",
       "    }\n",
       "\n",
       "    .dataframe tbody tr th {\n",
       "        vertical-align: top;\n",
       "    }\n",
       "\n",
       "    .dataframe thead th {\n",
       "        text-align: right;\n",
       "    }\n",
       "</style>\n",
       "<table border=\"1\" class=\"dataframe\">\n",
       "  <thead>\n",
       "    <tr style=\"text-align: right;\">\n",
       "      <th></th>\n",
       "      <th>customer_id</th>\n",
       "      <th>product_ids</th>\n",
       "      <th>cart_price</th>\n",
       "    </tr>\n",
       "    <tr>\n",
       "      <th>timestamp</th>\n",
       "      <th></th>\n",
       "      <th></th>\n",
       "      <th></th>\n",
       "    </tr>\n",
       "  </thead>\n",
       "  <tbody>\n",
       "    <tr>\n",
       "      <th>2018-09-27 16:22:12.846</th>\n",
       "      <td>05ae14eada9a45ca</td>\n",
       "      <td>834|3849|2820|3793</td>\n",
       "      <td>608.98</td>\n",
       "    </tr>\n",
       "    <tr>\n",
       "      <th>2018-09-27 16:48:29.088</th>\n",
       "      <td>05ae14eada9a45ca</td>\n",
       "      <td>2837|1129</td>\n",
       "      <td>210.90</td>\n",
       "    </tr>\n",
       "    <tr>\n",
       "      <th>2018-09-27 16:59:23.318</th>\n",
       "      <td>05ae14eada9a45ca</td>\n",
       "      <td>2044</td>\n",
       "      <td>42.00</td>\n",
       "    </tr>\n",
       "    <tr>\n",
       "      <th>2018-09-27 17:19:41.511</th>\n",
       "      <td>05ae14eada9a45ca</td>\n",
       "      <td>453</td>\n",
       "      <td>28.00</td>\n",
       "    </tr>\n",
       "    <tr>\n",
       "      <th>2018-09-28 10:42:06.473</th>\n",
       "      <td>05ae14eada9a45ca</td>\n",
       "      <td>353</td>\n",
       "      <td>15.00</td>\n",
       "    </tr>\n",
       "  </tbody>\n",
       "</table>\n",
       "</div>"
      ],
      "text/plain": [
       "                              customer_id         product_ids  cart_price\n",
       "timestamp                                                                \n",
       "2018-09-27 16:22:12.846  05ae14eada9a45ca  834|3849|2820|3793      608.98\n",
       "2018-09-27 16:48:29.088  05ae14eada9a45ca           2837|1129      210.90\n",
       "2018-09-27 16:59:23.318  05ae14eada9a45ca                2044       42.00\n",
       "2018-09-27 17:19:41.511  05ae14eada9a45ca                 453       28.00\n",
       "2018-09-28 10:42:06.473  05ae14eada9a45ca                 353       15.00"
      ]
     },
     "execution_count": 120,
     "metadata": {},
     "output_type": "execute_result"
    }
   ],
   "source": [
    "#-----Extracting our person of interest purchases up till October 1st to have the balance in our dataframe\n",
    "\n",
    "df = personofInterestPurchases[:pd.to_datetime('Oct 2018')]\n",
    "df.tail()"
   ]
  },
  {
   "cell_type": "code",
   "execution_count": 121,
   "metadata": {},
   "outputs": [
    {
     "data": {
      "text/html": [
       "<div>\n",
       "<style scoped>\n",
       "    .dataframe tbody tr th:only-of-type {\n",
       "        vertical-align: middle;\n",
       "    }\n",
       "\n",
       "    .dataframe tbody tr th {\n",
       "        vertical-align: top;\n",
       "    }\n",
       "\n",
       "    .dataframe thead th {\n",
       "        text-align: right;\n",
       "    }\n",
       "</style>\n",
       "<table border=\"1\" class=\"dataframe\">\n",
       "  <thead>\n",
       "    <tr style=\"text-align: right;\">\n",
       "      <th></th>\n",
       "      <th>cart_price</th>\n",
       "    </tr>\n",
       "    <tr>\n",
       "      <th>timestamp</th>\n",
       "      <th></th>\n",
       "    </tr>\n",
       "  </thead>\n",
       "  <tbody>\n",
       "    <tr>\n",
       "      <th>2018-04-30</th>\n",
       "      <td>106.80</td>\n",
       "    </tr>\n",
       "    <tr>\n",
       "      <th>2018-05-31</th>\n",
       "      <td>2333.11</td>\n",
       "    </tr>\n",
       "    <tr>\n",
       "      <th>2018-06-30</th>\n",
       "      <td>2394.98</td>\n",
       "    </tr>\n",
       "    <tr>\n",
       "      <th>2018-07-31</th>\n",
       "      <td>1943.39</td>\n",
       "    </tr>\n",
       "    <tr>\n",
       "      <th>2018-08-31</th>\n",
       "      <td>4138.55</td>\n",
       "    </tr>\n",
       "    <tr>\n",
       "      <th>2018-09-30</th>\n",
       "      <td>4050.03</td>\n",
       "    </tr>\n",
       "  </tbody>\n",
       "</table>\n",
       "</div>"
      ],
      "text/plain": [
       "            cart_price\n",
       "timestamp             \n",
       "2018-04-30      106.80\n",
       "2018-05-31     2333.11\n",
       "2018-06-30     2394.98\n",
       "2018-07-31     1943.39\n",
       "2018-08-31     4138.55\n",
       "2018-09-30     4050.03"
      ]
     },
     "execution_count": 121,
     "metadata": {},
     "output_type": "execute_result"
    }
   ],
   "source": [
    "#-----Calculating our person of interest monthly purchases\n",
    "\n",
    "personofInterestPurchasesPerMonth = personofInterestPurchases[:pd.to_datetime('Oct 2018')].resample('M').sum()\n",
    "personofInterestPurchasesPerMonth"
   ]
  },
  {
   "cell_type": "code",
   "execution_count": 132,
   "metadata": {},
   "outputs": [
    {
     "data": {
      "text/plain": [
       "<matplotlib.legend.Legend at 0x206af7b4390>"
      ]
     },
     "execution_count": 132,
     "metadata": {},
     "output_type": "execute_result"
    },
    {
     "data": {
      "image/png": "[encoded data removed]",
      "text/plain": [
       "<Figure size 1080x504 with 1 Axes>"
      ]
     },
     "metadata": {},
     "output_type": "display_data"
    }
   ],
   "source": [
    "#------Plot a bar chart for monthly purchases and a normal plot of purchases throughout the period\n",
    "\n",
    "plt.figure(figsize=(15,7))\n",
    "plt.bar(personofInterestPurchasesPerMonth.index, personofInterestPurchasesPerMonth['cart_price'],\n",
    "        width=1.5, label='Monthly Purchases')\n",
    "plt.plot(df.index, df['cart_price'], 'c', label='Purchases')\n",
    "plt.legend(loc='upper left')"
   ]
  },
  {
   "cell_type": "code",
   "execution_count": 20,
   "metadata": {},
   "outputs": [
    {
     "data": {
      "text/plain": [
       "180"
      ]
     },
     "execution_count": 20,
     "metadata": {},
     "output_type": "execute_result"
    }
   ],
   "source": [
    "#------Find the product with the most number of views\n",
    "\n",
    "productsPerView = views['product_id'].value_counts()\n",
    "productofInterest = productsPerView.index[0]\n",
    "productofInterest"
   ]
  },
  {
   "cell_type": "code",
   "execution_count": 37,
   "metadata": {},
   "outputs": [
    {
     "data": {
      "text/html": [
       "<div>\n",
       "<style scoped>\n",
       "    .dataframe tbody tr th:only-of-type {\n",
       "        vertical-align: middle;\n",
       "    }\n",
       "\n",
       "    .dataframe tbody tr th {\n",
       "        vertical-align: top;\n",
       "    }\n",
       "\n",
       "    .dataframe thead th {\n",
       "        text-align: right;\n",
       "    }\n",
       "</style>\n",
       "<table border=\"1\" class=\"dataframe\">\n",
       "  <thead>\n",
       "    <tr style=\"text-align: right;\">\n",
       "      <th></th>\n",
       "      <th>customer_id</th>\n",
       "      <th>product_id</th>\n",
       "      <th>full_price</th>\n",
       "      <th>actual_price</th>\n",
       "    </tr>\n",
       "    <tr>\n",
       "      <th>timestamp</th>\n",
       "      <th></th>\n",
       "      <th></th>\n",
       "      <th></th>\n",
       "      <th></th>\n",
       "    </tr>\n",
       "  </thead>\n",
       "  <tbody>\n",
       "    <tr>\n",
       "      <th>2018-10-03 05:43:46.731</th>\n",
       "      <td>185d619075f1d426</td>\n",
       "      <td>180</td>\n",
       "      <td>304.958678</td>\n",
       "      <td>304.958678</td>\n",
       "    </tr>\n",
       "    <tr>\n",
       "      <th>2018-10-03 06:16:29.292</th>\n",
       "      <td>185d619075f1d426</td>\n",
       "      <td>180</td>\n",
       "      <td>304.958678</td>\n",
       "      <td>304.958678</td>\n",
       "    </tr>\n",
       "    <tr>\n",
       "      <th>2018-10-03 10:26:35.697</th>\n",
       "      <td>b2af6476eb75d119</td>\n",
       "      <td>180</td>\n",
       "      <td>304.958678</td>\n",
       "      <td>304.958678</td>\n",
       "    </tr>\n",
       "    <tr>\n",
       "      <th>2018-10-03 10:34:11.094</th>\n",
       "      <td>185d619075f1d426</td>\n",
       "      <td>180</td>\n",
       "      <td>304.958678</td>\n",
       "      <td>304.958678</td>\n",
       "    </tr>\n",
       "    <tr>\n",
       "      <th>2018-10-03 10:36:31.285</th>\n",
       "      <td>185d619075f1d426</td>\n",
       "      <td>180</td>\n",
       "      <td>304.958678</td>\n",
       "      <td>304.958678</td>\n",
       "    </tr>\n",
       "  </tbody>\n",
       "</table>\n",
       "</div>"
      ],
      "text/plain": [
       "                              customer_id  product_id  full_price  \\\n",
       "timestamp                                                           \n",
       "2018-10-03 05:43:46.731  185d619075f1d426         180  304.958678   \n",
       "2018-10-03 06:16:29.292  185d619075f1d426         180  304.958678   \n",
       "2018-10-03 10:26:35.697  b2af6476eb75d119         180  304.958678   \n",
       "2018-10-03 10:34:11.094  185d619075f1d426         180  304.958678   \n",
       "2018-10-03 10:36:31.285  185d619075f1d426         180  304.958678   \n",
       "\n",
       "                         actual_price  \n",
       "timestamp                              \n",
       "2018-10-03 05:43:46.731    304.958678  \n",
       "2018-10-03 06:16:29.292    304.958678  \n",
       "2018-10-03 10:26:35.697    304.958678  \n",
       "2018-10-03 10:34:11.094    304.958678  \n",
       "2018-10-03 10:36:31.285    304.958678  "
      ]
     },
     "execution_count": 37,
     "metadata": {},
     "output_type": "execute_result"
    }
   ],
   "source": [
    "#------A time series dataframe of the infamous product\n",
    "\n",
    "df = views[views['product_id'] == productofInterest]\n",
    "df.tail()"
   ]
  },
  {
   "cell_type": "code",
   "execution_count": 47,
   "metadata": {},
   "outputs": [
    {
     "data": {
      "text/plain": [
       "timestamp\n",
       "2018-01-01     5\n",
       "2018-01-02    26\n",
       "2018-01-03    21\n",
       "2018-01-04    15\n",
       "2018-01-05    11\n",
       "Freq: D, Name: customer_id, dtype: int64"
      ]
     },
     "execution_count": 47,
     "metadata": {},
     "output_type": "execute_result"
    }
   ],
   "source": [
    "#------Resample the dataframe to get the daily number of visits\n",
    "\n",
    "dailyView = df[ pd.to_datetime('Jan 2018') : pd.to_datetime('Oct 2018') ]['customer_id'].resample('D').count()\n",
    "dailyView.head()"
   ]
  },
  {
   "cell_type": "code",
   "execution_count": 49,
   "metadata": {},
   "outputs": [
    {
     "data": {
      "text/plain": [
       "[<matplotlib.lines.Line2D at 0x188c5c86a58>]"
      ]
     },
     "execution_count": 49,
     "metadata": {},
     "output_type": "execute_result"
    },
    {
     "data": {
      "image/png": "[encoded data removed]",
      "text/plain": [
       "<Figure size 1080x504 with 1 Axes>"
      ]
     },
     "metadata": {},
     "output_type": "display_data"
    }
   ],
   "source": [
    "#-----Plot the number of views againts days\n",
    "\n",
    "plt.figure(figsize=(15,7))\n",
    "plt.plot(dailyView.index, dailyView, label='daily View')"
   ]
  },
  {
   "cell_type": "code",
   "execution_count": 51,
   "metadata": {},
   "outputs": [
    {
     "data": {
      "text/plain": [
       "17.494505494505493"
      ]
     },
     "execution_count": 51,
     "metadata": {},
     "output_type": "execute_result"
    }
   ],
   "source": [
    "mean = dailyView.mean()\n",
    "mean"
   ]
  },
  {
   "cell_type": "code",
   "execution_count": 53,
   "metadata": {},
   "outputs": [
    {
     "data": {
      "text/plain": [
       "16.0"
      ]
     },
     "execution_count": 53,
     "metadata": {},
     "output_type": "execute_result"
    }
   ],
   "source": [
    "median = dailyView.median()\n",
    "median"
   ]
  },
  {
   "cell_type": "code",
   "execution_count": 61,
   "metadata": {},
   "outputs": [
    {
     "data": {
      "text/plain": [
       "(array([ 1.,  1.,  0.,  2.,  1.,  0.,  4.,  7.,  0., 11.,  0., 11., 13.,\n",
       "         0., 15., 16.,  0., 18., 21.,  0., 19.,  0., 11., 11.,  0., 12.,\n",
       "        15.,  0., 14.,  0., 11., 10.,  0.,  9.,  6.,  0.,  9.,  2.,  0.,\n",
       "         4.,  0.,  5.,  3.,  0.,  1.,  3.,  0.,  1.,  2.,  0.,  0.,  0.,\n",
       "         2.,  1.,  0.,  0.,  0.,  0.,  0.,  1.]),\n",
       " array([ 3.        ,  3.63333333,  4.26666667,  4.9       ,  5.53333333,\n",
       "         6.16666667,  6.8       ,  7.43333333,  8.06666667,  8.7       ,\n",
       "         9.33333333,  9.96666667, 10.6       , 11.23333333, 11.86666667,\n",
       "        12.5       , 13.13333333, 13.76666667, 14.4       , 15.03333333,\n",
       "        15.66666667, 16.3       , 16.93333333, 17.56666667, 18.2       ,\n",
       "        18.83333333, 19.46666667, 20.1       , 20.73333333, 21.36666667,\n",
       "        22.        , 22.63333333, 23.26666667, 23.9       , 24.53333333,\n",
       "        25.16666667, 25.8       , 26.43333333, 27.06666667, 27.7       ,\n",
       "        28.33333333, 28.96666667, 29.6       , 30.23333333, 30.86666667,\n",
       "        31.5       , 32.13333333, 32.76666667, 33.4       , 34.03333333,\n",
       "        34.66666667, 35.3       , 35.93333333, 36.56666667, 37.2       ,\n",
       "        37.83333333, 38.46666667, 39.1       , 39.73333333, 40.36666667,\n",
       "        41.        ]),\n",
       " <a list of 60 Patch objects>)"
      ]
     },
     "execution_count": 61,
     "metadata": {},
     "output_type": "execute_result"
    },
    {
     "data": {
      "image/png": "[encoded data removed]",
      "text/plain": [
       "<Figure size 432x288 with 1 Axes>"
      ]
     },
     "metadata": {},
     "output_type": "display_data"
    }
   ],
   "source": [
    "plt.hist(dailyView, bins=60)"
   ]
  },
  {
   "cell_type": "code",
   "execution_count": null,
   "metadata": {
    "collapsed": true
   },
   "outputs": [],
   "source": []
  }
 ],
 "metadata": {
  "kernelspec": {
   "display_name": "Python 3",
   "language": "python",
   "name": "python3"
  },
  "language_info": {
   "codemirror_mode": {
    "name": "ipython",
    "version": 3
   },
   "file_extension": ".py",
   "mimetype": "text/x-python",
   "name": "python",
   "nbconvert_exporter": "python",
   "pygments_lexer": "ipython3",
   "version": "3.7.0"
  }
 },
 "nbformat": 4,
 "nbformat_minor": 2
}
