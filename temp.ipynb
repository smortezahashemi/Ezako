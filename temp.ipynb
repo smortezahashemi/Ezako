{
 "cells": [
  {
   "cell_type": "code",
   "execution_count": 1,
   "metadata": {},
   "outputs": [],
   "source": [
    "\n",
    "\"\"\"\n",
    "Created on Sun Oct 14 14:28:29 2018\n",
    "\n",
    "@author: Morteza HASHEMI\n",
    "\"\"\"\n",
    "#-------Import needed libraries\n",
    "\n",
    "import pandas as pd\n",
    "import numpy as np\n",
    "import matplotlib.pyplot as plt\n",
    "\n",
    "\n",
    "\n",
    "#-------Load dataset into Pandas Dataframe \n",
    "\n",
    "views = pd.read_csv(\"C:/Users/Spa-Francorchamps/Downloads/eco_v0.2/all_product_2018.csv\")\n",
    "carts = pd.read_csv(\"C:/Users/Spa-Francorchamps/Downloads/eco_v0.2/all_order_2018.csv\")"
   ]
  },
  {
   "cell_type": "code",
   "execution_count": 2,
   "metadata": {},
   "outputs": [],
   "source": [
    "#-------Convert timestamp to human readable time units\n",
    "\n",
    "carts.index = pd.to_datetime(carts['timestamp'], unit='ms')\n",
    "views.index = pd.to_datetime(views['timestamp'], unit='ms')\n",
    "\n",
    "carts = carts.drop(['timestamp'], axis=1)\n",
    "views = views.drop(['timestamp'], axis=1)\n",
    "\n",
    "\n",
    "#-------Small optimization & cleaning\n",
    "\n",
    "carts.dropna(subset=[\"product_ids\"], inplace=True)\n",
    "views['product_id'] = views['product_id'].astype('int')"
   ]
  },
  {
   "cell_type": "code",
   "execution_count": 3,
   "metadata": {},
   "outputs": [
    {
     "data": {
      "text/html": [
       "<div>\n",
       "<style scoped>\n",
       "    .dataframe tbody tr th:only-of-type {\n",
       "        vertical-align: middle;\n",
       "    }\n",
       "\n",
       "    .dataframe tbody tr th {\n",
       "        vertical-align: top;\n",
       "    }\n",
       "\n",
       "    .dataframe thead th {\n",
       "        text-align: right;\n",
       "    }\n",
       "</style>\n",
       "<table border=\"1\" class=\"dataframe\">\n",
       "  <thead>\n",
       "    <tr style=\"text-align: right;\">\n",
       "      <th></th>\n",
       "      <th>customer_id</th>\n",
       "      <th>product_ids</th>\n",
       "      <th>cart_price</th>\n",
       "    </tr>\n",
       "    <tr>\n",
       "      <th>timestamp</th>\n",
       "      <th></th>\n",
       "      <th></th>\n",
       "      <th></th>\n",
       "    </tr>\n",
       "  </thead>\n",
       "  <tbody>\n",
       "    <tr>\n",
       "      <th>2017-12-31 23:41:11.712</th>\n",
       "      <td>401a01d8c3a64e11</td>\n",
       "      <td>188|1439</td>\n",
       "      <td>28.89</td>\n",
       "    </tr>\n",
       "    <tr>\n",
       "      <th>2018-01-01 11:56:16.242</th>\n",
       "      <td>3e87edf753a9f1a1</td>\n",
       "      <td>2790</td>\n",
       "      <td>199.95</td>\n",
       "    </tr>\n",
       "    <tr>\n",
       "      <th>2018-01-01 13:26:38.703</th>\n",
       "      <td>bd750602eac31a94</td>\n",
       "      <td>157</td>\n",
       "      <td>11.20</td>\n",
       "    </tr>\n",
       "    <tr>\n",
       "      <th>2018-01-01 13:40:24.978</th>\n",
       "      <td>3e083e3a130b21b2</td>\n",
       "      <td>647</td>\n",
       "      <td>17.85</td>\n",
       "    </tr>\n",
       "    <tr>\n",
       "      <th>2018-01-01 15:57:46.958</th>\n",
       "      <td>30fdc97b0eb7761b</td>\n",
       "      <td>2</td>\n",
       "      <td>28.70</td>\n",
       "    </tr>\n",
       "  </tbody>\n",
       "</table>\n",
       "</div>"
      ],
      "text/plain": [
       "                              customer_id product_ids  cart_price\n",
       "timestamp                                                        \n",
       "2017-12-31 23:41:11.712  401a01d8c3a64e11    188|1439       28.89\n",
       "2018-01-01 11:56:16.242  3e87edf753a9f1a1        2790      199.95\n",
       "2018-01-01 13:26:38.703  bd750602eac31a94         157       11.20\n",
       "2018-01-01 13:40:24.978  3e083e3a130b21b2         647       17.85\n",
       "2018-01-01 15:57:46.958  30fdc97b0eb7761b           2       28.70"
      ]
     },
     "execution_count": 3,
     "metadata": {},
     "output_type": "execute_result"
    }
   ],
   "source": [
    "carts.head()"
   ]
  },
  {
   "cell_type": "code",
   "execution_count": 4,
   "metadata": {},
   "outputs": [
    {
     "data": {
      "text/html": [
       "<div>\n",
       "<style scoped>\n",
       "    .dataframe tbody tr th:only-of-type {\n",
       "        vertical-align: middle;\n",
       "    }\n",
       "\n",
       "    .dataframe tbody tr th {\n",
       "        vertical-align: top;\n",
       "    }\n",
       "\n",
       "    .dataframe thead th {\n",
       "        text-align: right;\n",
       "    }\n",
       "</style>\n",
       "<table border=\"1\" class=\"dataframe\">\n",
       "  <thead>\n",
       "    <tr style=\"text-align: right;\">\n",
       "      <th></th>\n",
       "      <th>customer_id</th>\n",
       "      <th>product_ids</th>\n",
       "      <th>cart_price</th>\n",
       "    </tr>\n",
       "  </thead>\n",
       "  <tbody>\n",
       "    <tr>\n",
       "      <th>2017-12-31 23:41:11.712</th>\n",
       "      <td>401a01d8c3a64e11</td>\n",
       "      <td>188</td>\n",
       "      <td>28.89</td>\n",
       "    </tr>\n",
       "    <tr>\n",
       "      <th>2017-12-31 23:41:11.712</th>\n",
       "      <td>401a01d8c3a64e11</td>\n",
       "      <td>1439</td>\n",
       "      <td>28.89</td>\n",
       "    </tr>\n",
       "    <tr>\n",
       "      <th>2018-01-01 11:56:16.242</th>\n",
       "      <td>3e87edf753a9f1a1</td>\n",
       "      <td>2790</td>\n",
       "      <td>199.95</td>\n",
       "    </tr>\n",
       "    <tr>\n",
       "      <th>2018-01-01 13:26:38.703</th>\n",
       "      <td>bd750602eac31a94</td>\n",
       "      <td>157</td>\n",
       "      <td>11.20</td>\n",
       "    </tr>\n",
       "    <tr>\n",
       "      <th>2018-01-01 13:40:24.978</th>\n",
       "      <td>3e083e3a130b21b2</td>\n",
       "      <td>647</td>\n",
       "      <td>17.85</td>\n",
       "    </tr>\n",
       "  </tbody>\n",
       "</table>\n",
       "</div>"
      ],
      "text/plain": [
       "                              customer_id product_ids  cart_price\n",
       "2017-12-31 23:41:11.712  401a01d8c3a64e11         188       28.89\n",
       "2017-12-31 23:41:11.712  401a01d8c3a64e11        1439       28.89\n",
       "2018-01-01 11:56:16.242  3e87edf753a9f1a1        2790      199.95\n",
       "2018-01-01 13:26:38.703  bd750602eac31a94         157       11.20\n",
       "2018-01-01 13:40:24.978  3e083e3a130b21b2         647       17.85"
      ]
     },
     "execution_count": 4,
     "metadata": {},
     "output_type": "execute_result"
    }
   ],
   "source": [
    "#------Formatting \"product_ids\" column\n",
    "\n",
    "lst = []\n",
    "index = []\n",
    "\n",
    "for row in carts.iterrows():\n",
    "    vals = row[1].values\n",
    "    product_ids = vals[1]\n",
    "    for id_prod in product_ids.split(\"|\"):\n",
    "        lst.append([vals[0], id_prod, vals[2]])\n",
    "        index.append(row[0])\n",
    "#         current = pd.DataFrame([[vals[0], id_prod, vals[2]]], columns=cols)\n",
    "#         current.index = [row[0]] \n",
    "#         print(current)\n",
    "\n",
    "cols = carts.columns.tolist()\n",
    "cart_flatten = pd.DataFrame(lst, columns=cols, index=index)\n",
    "cart_flatten.head()"
   ]
  },
  {
   "cell_type": "code",
   "execution_count": 5,
   "metadata": {},
   "outputs": [
    {
     "name": "stdout",
     "output_type": "stream",
     "text": [
      "<class 'pandas.core.frame.DataFrame'>\n",
      "DatetimeIndex: 9666 entries, 2017-12-31 23:41:11.712000 to 2018-10-03 11:28:07.719000\n",
      "Data columns (total 3 columns):\n",
      "customer_id    9666 non-null object\n",
      "product_ids    9666 non-null int32\n",
      "cart_price     9666 non-null float64\n",
      "dtypes: float64(1), int32(1), object(1)\n",
      "memory usage: 264.3+ KB\n"
     ]
    }
   ],
   "source": [
    "#------Convert the product_ids to int\n",
    "cart_flatten['product_ids'] = cart_flatten['product_ids'].astype('int')\n",
    "cart_flatten.info()"
   ]
  },
  {
   "cell_type": "code",
   "execution_count": 6,
   "metadata": {},
   "outputs": [
    {
     "data": {
      "text/html": [
       "<div>\n",
       "<style scoped>\n",
       "    .dataframe tbody tr th:only-of-type {\n",
       "        vertical-align: middle;\n",
       "    }\n",
       "\n",
       "    .dataframe tbody tr th {\n",
       "        vertical-align: top;\n",
       "    }\n",
       "\n",
       "    .dataframe thead th {\n",
       "        text-align: right;\n",
       "    }\n",
       "</style>\n",
       "<table border=\"1\" class=\"dataframe\">\n",
       "  <thead>\n",
       "    <tr style=\"text-align: right;\">\n",
       "      <th></th>\n",
       "      <th>customer_id_cart</th>\n",
       "      <th>product_ids</th>\n",
       "      <th>cart_price</th>\n",
       "      <th>customer_id_view</th>\n",
       "      <th>product_id</th>\n",
       "      <th>full_price</th>\n",
       "      <th>actual_price</th>\n",
       "    </tr>\n",
       "  </thead>\n",
       "  <tbody>\n",
       "    <tr>\n",
       "      <th>0</th>\n",
       "      <td>401a01d8c3a64e11</td>\n",
       "      <td>188</td>\n",
       "      <td>28.89</td>\n",
       "      <td>7b4464d06d7ffbfb</td>\n",
       "      <td>188.0</td>\n",
       "      <td>4.950413</td>\n",
       "      <td>4.950413</td>\n",
       "    </tr>\n",
       "    <tr>\n",
       "      <th>1</th>\n",
       "      <td>401a01d8c3a64e11</td>\n",
       "      <td>188</td>\n",
       "      <td>28.89</td>\n",
       "      <td>75dd9fe3daae2927</td>\n",
       "      <td>188.0</td>\n",
       "      <td>4.950413</td>\n",
       "      <td>4.950413</td>\n",
       "    </tr>\n",
       "    <tr>\n",
       "      <th>2</th>\n",
       "      <td>401a01d8c3a64e11</td>\n",
       "      <td>188</td>\n",
       "      <td>28.89</td>\n",
       "      <td>ba557ca06e436eaf</td>\n",
       "      <td>188.0</td>\n",
       "      <td>4.950413</td>\n",
       "      <td>4.950413</td>\n",
       "    </tr>\n",
       "    <tr>\n",
       "      <th>3</th>\n",
       "      <td>401a01d8c3a64e11</td>\n",
       "      <td>188</td>\n",
       "      <td>28.89</td>\n",
       "      <td>485fbe5297fbeefa</td>\n",
       "      <td>188.0</td>\n",
       "      <td>4.950413</td>\n",
       "      <td>4.950413</td>\n",
       "    </tr>\n",
       "    <tr>\n",
       "      <th>4</th>\n",
       "      <td>401a01d8c3a64e11</td>\n",
       "      <td>188</td>\n",
       "      <td>28.89</td>\n",
       "      <td>c0e3a1443cb5d177</td>\n",
       "      <td>188.0</td>\n",
       "      <td>4.950413</td>\n",
       "      <td>4.950413</td>\n",
       "    </tr>\n",
       "  </tbody>\n",
       "</table>\n",
       "</div>"
      ],
      "text/plain": [
       "   customer_id_cart  product_ids  cart_price  customer_id_view  product_id  \\\n",
       "0  401a01d8c3a64e11          188       28.89  7b4464d06d7ffbfb       188.0   \n",
       "1  401a01d8c3a64e11          188       28.89  75dd9fe3daae2927       188.0   \n",
       "2  401a01d8c3a64e11          188       28.89  ba557ca06e436eaf       188.0   \n",
       "3  401a01d8c3a64e11          188       28.89  485fbe5297fbeefa       188.0   \n",
       "4  401a01d8c3a64e11          188       28.89  c0e3a1443cb5d177       188.0   \n",
       "\n",
       "   full_price  actual_price  \n",
       "0    4.950413      4.950413  \n",
       "1    4.950413      4.950413  \n",
       "2    4.950413      4.950413  \n",
       "3    4.950413      4.950413  \n",
       "4    4.950413      4.950413  "
      ]
     },
     "execution_count": 6,
     "metadata": {},
     "output_type": "execute_result"
    }
   ],
   "source": [
    "#-----------Merge the two datasets (cart_flatten and views)\n",
    "\n",
    "mergedProd = cart_flatten.merge(views, how='left', left_on='product_ids', right_on='product_id', \n",
    "                                suffixes=['_cart', '_view'])\n",
    "\n",
    "\n",
    "# #-----------Locating rows where the \"product_id\" is null\n",
    "\n",
    "# mergedProd[mergedProd['product_id'].isnull()]\n",
    "\n",
    "\n",
    "# #----------Drop Na rows\n",
    "\n",
    "# mergedProd.dropna(subset=['product_id'], inplace=True)\n",
    "\n",
    "mergedProd.head()"
   ]
  },
  {
   "cell_type": "code",
   "execution_count": 203,
   "metadata": {},
   "outputs": [
    {
     "name": "stdout",
     "output_type": "stream",
     "text": [
      "<class 'pandas.core.frame.DataFrame'>\n",
      "Int64Index: 7726292 entries, 0 to 7726291\n",
      "Data columns (total 7 columns):\n",
      "customer_id_cart    object\n",
      "product_ids         int32\n",
      "cart_price          float64\n",
      "customer_id_view    object\n",
      "product_id          float64\n",
      "full_price          float64\n",
      "actual_price        float64\n",
      "dtypes: float64(4), int32(1), object(2)\n",
      "memory usage: 442.1+ MB\n",
      "None\n",
      "<class 'pandas.core.frame.DataFrame'>\n",
      "DatetimeIndex: 827545 entries, 2017-12-31 23:00:21.389000 to 2018-10-03 11:29:30.731000\n",
      "Data columns (total 4 columns):\n",
      "customer_id     827545 non-null object\n",
      "product_id      827545 non-null int32\n",
      "full_price      827451 non-null float64\n",
      "actual_price    827451 non-null float64\n",
      "dtypes: float64(2), int32(1), object(1)\n",
      "memory usage: 68.4+ MB\n",
      "None\n",
      "        cart_price\n",
      "count  5149.000000\n",
      "mean    130.288153\n",
      "std     175.639687\n",
      "min       0.500000\n",
      "25%      35.000000\n",
      "50%      68.920000\n",
      "75%     159.400000\n",
      "max    4158.100000\n"
     ]
    }
   ],
   "source": [
    "print(mergedProd.info())\n",
    "print(views.info())\n",
    "print(carts.describe())"
   ]
  },
  {
   "cell_type": "code",
   "execution_count": 8,
   "metadata": {},
   "outputs": [],
   "source": [
    "groupedView = views.groupby('product_id')\n",
    "groupedCart = cart_flatten.groupby('product_ids')"
   ]
  },
  {
   "cell_type": "code",
   "execution_count": 9,
   "metadata": {},
   "outputs": [
    {
     "data": {
      "text/plain": [
       "product_id\n",
       "2     3762\n",
       "3     3960\n",
       "8       11\n",
       "14    1164\n",
       "15     156\n",
       "Name: customer_id, dtype: int64"
      ]
     },
     "execution_count": 9,
     "metadata": {},
     "output_type": "execute_result"
    }
   ],
   "source": [
    "numOfViewsPerProd = groupedView.count()['customer_id']\n",
    "numOfPurchasesPerProd = groupedCart.count()['customer_id']\n",
    "numOfPurchasesPerProd.head()\n",
    "numOfViewsPerProd.head()"
   ]
  },
  {
   "cell_type": "code",
   "execution_count": 10,
   "metadata": {},
   "outputs": [
    {
     "data": {
      "text/plain": [
       "<matplotlib.axes._subplots.AxesSubplot at 0x23363b20630>"
      ]
     },
     "execution_count": 10,
     "metadata": {},
     "output_type": "execute_result"
    },
    {
     "data": {
      "image/png": "[encoded data removed]",
      "text/plain": [
       "<Figure size 1080x432 with 1 Axes>"
      ]
     },
     "metadata": {
      "needs_background": "light"
     },
     "output_type": "display_data"
    }
   ],
   "source": [
    "numOfViewsPerProd.hist(bins=60, figsize=(15,6))"
   ]
  },
  {
   "cell_type": "code",
   "execution_count": 11,
   "metadata": {},
   "outputs": [
    {
     "data": {
      "text/plain": [
       "count    3181.000000\n",
       "mean      260.152468\n",
       "std       403.532928\n",
       "min         1.000000\n",
       "25%        57.000000\n",
       "50%       132.000000\n",
       "75%       289.000000\n",
       "max      4828.000000\n",
       "Name: customer_id, dtype: float64"
      ]
     },
     "execution_count": 11,
     "metadata": {},
     "output_type": "execute_result"
    }
   ],
   "source": [
    "numOfViewsPerProd.describe()"
   ]
  },
  {
   "cell_type": "code",
   "execution_count": 11,
   "metadata": {},
   "outputs": [
    {
     "data": {
      "text/plain": [
       "132.0"
      ]
     },
     "execution_count": 11,
     "metadata": {},
     "output_type": "execute_result"
    }
   ],
   "source": [
    "numOfViewsPerProd.median()"
   ]
  },
  {
   "cell_type": "code",
   "execution_count": 13,
   "metadata": {},
   "outputs": [
    {
     "data": {
      "text/plain": [
       "158"
      ]
     },
     "execution_count": 13,
     "metadata": {},
     "output_type": "execute_result"
    }
   ],
   "source": [
    "numOfViewsPerProd[numOfViewsPerProd<10].count()"
   ]
  },
  {
   "cell_type": "code",
   "execution_count": 14,
   "metadata": {},
   "outputs": [
    {
     "data": {
      "text/plain": [
       "count    1910.000000\n",
       "mean        5.060733\n",
       "std        11.945023\n",
       "min         1.000000\n",
       "25%         1.000000\n",
       "50%         2.000000\n",
       "75%         5.000000\n",
       "max       165.000000\n",
       "Name: customer_id, dtype: float64"
      ]
     },
     "execution_count": 14,
     "metadata": {},
     "output_type": "execute_result"
    }
   ],
   "source": [
    "numOfPurchasesPerProd.describe()"
   ]
  },
  {
   "cell_type": "code",
   "execution_count": 99,
   "metadata": {},
   "outputs": [
    {
     "data": {
      "text/plain": [
       "2.0"
      ]
     },
     "execution_count": 99,
     "metadata": {},
     "output_type": "execute_result"
    }
   ],
   "source": [
    "numOfPurchasesPerProd.median()"
   ]
  },
  {
   "cell_type": "code",
   "execution_count": 12,
   "metadata": {},
   "outputs": [
    {
     "data": {
      "text/plain": [
       "Int64Index([  36,   70,   80,  231,  283,  286,  323,  346,  397,  461,\n",
       "            ...\n",
       "            3843, 3844, 3845, 3848, 3851, 3852, 3854, 3855, 3856, 3857],\n",
       "           dtype='int64', name='product_id', length=158)"
      ]
     },
     "execution_count": 12,
     "metadata": {},
     "output_type": "execute_result"
    }
   ],
   "source": [
    "indRemove = numOfViewsPerProd[numOfViewsPerProd<10].index\n",
    "indRemove"
   ]
  },
  {
   "cell_type": "code",
   "execution_count": 13,
   "metadata": {},
   "outputs": [
    {
     "data": {
      "text/plain": [
       "1883"
      ]
     },
     "execution_count": 13,
     "metadata": {},
     "output_type": "execute_result"
    }
   ],
   "source": [
    "numOfPurchasesPerProd[~numOfPurchasesPerProd.index.isin(indRemove)].count()"
   ]
  },
  {
   "cell_type": "code",
   "execution_count": 14,
   "metadata": {},
   "outputs": [],
   "source": [
    "normalizedViews = numOfViewsPerProd[-(numOfViewsPerProd<10)]\n",
    "normalizedPurchases = numOfPurchasesPerProd[~numOfPurchasesPerProd.index.isin(indRemove)]"
   ]
  },
  {
   "cell_type": "code",
   "execution_count": 15,
   "metadata": {},
   "outputs": [],
   "source": [
    "df = pd.DataFrame({'view': normalizedViews, 'purchase': normalizedPurchases})"
   ]
  },
  {
   "cell_type": "code",
   "execution_count": 16,
   "metadata": {},
   "outputs": [
    {
     "data": {
      "text/html": [
       "<div>\n",
       "<style scoped>\n",
       "    .dataframe tbody tr th:only-of-type {\n",
       "        vertical-align: middle;\n",
       "    }\n",
       "\n",
       "    .dataframe tbody tr th {\n",
       "        vertical-align: top;\n",
       "    }\n",
       "\n",
       "    .dataframe thead th {\n",
       "        text-align: right;\n",
       "    }\n",
       "</style>\n",
       "<table border=\"1\" class=\"dataframe\">\n",
       "  <thead>\n",
       "    <tr style=\"text-align: right;\">\n",
       "      <th></th>\n",
       "      <th>view</th>\n",
       "      <th>purchase</th>\n",
       "    </tr>\n",
       "  </thead>\n",
       "  <tbody>\n",
       "    <tr>\n",
       "      <th>2</th>\n",
       "      <td>3762.0</td>\n",
       "      <td>126.0</td>\n",
       "    </tr>\n",
       "    <tr>\n",
       "      <th>3</th>\n",
       "      <td>3960.0</td>\n",
       "      <td>6.0</td>\n",
       "    </tr>\n",
       "    <tr>\n",
       "      <th>8</th>\n",
       "      <td>11.0</td>\n",
       "      <td>NaN</td>\n",
       "    </tr>\n",
       "    <tr>\n",
       "      <th>14</th>\n",
       "      <td>1164.0</td>\n",
       "      <td>11.0</td>\n",
       "    </tr>\n",
       "    <tr>\n",
       "      <th>15</th>\n",
       "      <td>156.0</td>\n",
       "      <td>2.0</td>\n",
       "    </tr>\n",
       "  </tbody>\n",
       "</table>\n",
       "</div>"
      ],
      "text/plain": [
       "      view  purchase\n",
       "2   3762.0     126.0\n",
       "3   3960.0       6.0\n",
       "8     11.0       NaN\n",
       "14  1164.0      11.0\n",
       "15   156.0       2.0"
      ]
     },
     "execution_count": 16,
     "metadata": {},
     "output_type": "execute_result"
    }
   ],
   "source": [
    "df.head()"
   ]
  },
  {
   "cell_type": "code",
   "execution_count": 17,
   "metadata": {},
   "outputs": [
    {
     "data": {
      "text/plain": [
       "2     0.033493\n",
       "3     0.001515\n",
       "8          NaN\n",
       "14    0.009450\n",
       "15    0.012821\n",
       "dtype: float64"
      ]
     },
     "execution_count": 17,
     "metadata": {},
     "output_type": "execute_result"
    }
   ],
   "source": [
    "purchasePerView = df['purchase'] / df['view']\n",
    "viewPerPurchase = df['view'] / df['purchase']\n",
    "purchasePerView.head()"
   ]
  },
  {
   "cell_type": "code",
   "execution_count": 18,
   "metadata": {},
   "outputs": [
    {
     "name": "stdout",
     "output_type": "stream",
     "text": [
      "Best Seller Ratio: 0.5\n",
      "Least Seller Ratio: 3571.0\n"
     ]
    }
   ],
   "source": [
    "print(\"Best Seller Ratio: {}\".format(purchasePerView.max()))\n",
    "print(\"Least Seller Ratio: {}\".format(viewPerPurchase.max()))"
   ]
  },
  {
   "cell_type": "code",
   "execution_count": 20,
   "metadata": {},
   "outputs": [
    {
     "data": {
      "text/plain": [
       "<BarContainer object of 3024 artists>"
      ]
     },
     "execution_count": 20,
     "metadata": {},
     "output_type": "execute_result"
    },
    {
     "data": {
      "image/png": "[encoded data removed]",
      "text/plain": [
       "<Figure size 1080x360 with 1 Axes>"
      ]
     },
     "metadata": {
      "needs_background": "light"
     },
     "output_type": "display_data"
    }
   ],
   "source": [
    "plt.figure(figsize=(15,5))\n",
    "plt.bar(purchasePerView.index, purchasePerView, width=5)"
   ]
  },
  {
   "cell_type": "code",
   "execution_count": 21,
   "metadata": {
    "scrolled": true
   },
   "outputs": [
    {
     "data": {
      "text/plain": [
       "<BarContainer object of 3024 artists>"
      ]
     },
     "execution_count": 21,
     "metadata": {},
     "output_type": "execute_result"
    },
    {
     "data": {
      "image/png": "[encoded data removed]",
      "text/plain": [
       "<Figure size 1080x360 with 1 Axes>"
      ]
     },
     "metadata": {
      "needs_background": "light"
     },
     "output_type": "display_data"
    }
   ],
   "source": [
    "plt.figure(figsize=(15,5))\n",
    "plt.bar(viewPerPurchase.index, viewPerPurchase, width=5)"
   ]
  },
  {
   "cell_type": "code",
   "execution_count": 72,
   "metadata": {},
   "outputs": [
    {
     "data": {
      "text/plain": [
       "2184    3571.0\n",
       "1282    3225.0\n",
       "1501    2820.0\n",
       "1893    2313.0\n",
       "1738    1849.0\n",
       "dtype: float64"
      ]
     },
     "execution_count": 72,
     "metadata": {},
     "output_type": "execute_result"
    }
   ],
   "source": [
    "viewPerPurchase.nlargest(5)"
   ]
  },
  {
   "cell_type": "code",
   "execution_count": 209,
   "metadata": {},
   "outputs": [
    {
     "data": {
      "text/html": [
       "<div>\n",
       "<style scoped>\n",
       "    .dataframe tbody tr th:only-of-type {\n",
       "        vertical-align: middle;\n",
       "    }\n",
       "\n",
       "    .dataframe tbody tr th {\n",
       "        vertical-align: top;\n",
       "    }\n",
       "\n",
       "    .dataframe thead th {\n",
       "        text-align: right;\n",
       "    }\n",
       "</style>\n",
       "<table border=\"1\" class=\"dataframe\">\n",
       "  <thead>\n",
       "    <tr style=\"text-align: right;\">\n",
       "      <th></th>\n",
       "      <th>customer_id</th>\n",
       "      <th>product_ids</th>\n",
       "      <th>cart_price</th>\n",
       "    </tr>\n",
       "  </thead>\n",
       "  <tbody>\n",
       "    <tr>\n",
       "      <th>2018-01-31 15:48:26.388</th>\n",
       "      <td>6e7792695c700721</td>\n",
       "      <td>2469</td>\n",
       "      <td>42.88</td>\n",
       "    </tr>\n",
       "    <tr>\n",
       "      <th>2018-01-31 15:51:41.150</th>\n",
       "      <td>6e7792695c700721</td>\n",
       "      <td>2469</td>\n",
       "      <td>42.88</td>\n",
       "    </tr>\n",
       "    <tr>\n",
       "      <th>2018-01-31 15:51:43.618</th>\n",
       "      <td>6e7792695c700721</td>\n",
       "      <td>2469</td>\n",
       "      <td>42.88</td>\n",
       "    </tr>\n",
       "    <tr>\n",
       "      <th>2018-01-31 15:53:06.415</th>\n",
       "      <td>6e7792695c700721</td>\n",
       "      <td>2469</td>\n",
       "      <td>42.88</td>\n",
       "    </tr>\n",
       "    <tr>\n",
       "      <th>2018-01-31 15:53:31.383</th>\n",
       "      <td>6e7792695c700721</td>\n",
       "      <td>2469</td>\n",
       "      <td>42.88</td>\n",
       "    </tr>\n",
       "    <tr>\n",
       "      <th>2018-01-31 15:53:33.415</th>\n",
       "      <td>6e7792695c700721</td>\n",
       "      <td>2469</td>\n",
       "      <td>42.88</td>\n",
       "    </tr>\n",
       "    <tr>\n",
       "      <th>2018-01-31 15:54:00.051</th>\n",
       "      <td>6e7792695c700721</td>\n",
       "      <td>2469</td>\n",
       "      <td>42.88</td>\n",
       "    </tr>\n",
       "    <tr>\n",
       "      <th>2018-01-31 15:54:40.887</th>\n",
       "      <td>6e7792695c700721</td>\n",
       "      <td>2469</td>\n",
       "      <td>42.88</td>\n",
       "    </tr>\n",
       "    <tr>\n",
       "      <th>2018-01-31 15:54:43.218</th>\n",
       "      <td>6e7792695c700721</td>\n",
       "      <td>2469</td>\n",
       "      <td>42.88</td>\n",
       "    </tr>\n",
       "    <tr>\n",
       "      <th>2018-01-31 15:55:56.298</th>\n",
       "      <td>6e7792695c700721</td>\n",
       "      <td>2469</td>\n",
       "      <td>42.88</td>\n",
       "    </tr>\n",
       "    <tr>\n",
       "      <th>2018-01-31 15:55:58.528</th>\n",
       "      <td>6e7792695c700721</td>\n",
       "      <td>2469</td>\n",
       "      <td>42.88</td>\n",
       "    </tr>\n",
       "    <tr>\n",
       "      <th>2018-01-31 15:56:18.321</th>\n",
       "      <td>6e7792695c700721</td>\n",
       "      <td>2469</td>\n",
       "      <td>42.88</td>\n",
       "    </tr>\n",
       "    <tr>\n",
       "      <th>2018-02-25 17:58:19.486</th>\n",
       "      <td>46be3304c4b1c53e</td>\n",
       "      <td>2469</td>\n",
       "      <td>783.70</td>\n",
       "    </tr>\n",
       "  </tbody>\n",
       "</table>\n",
       "</div>"
      ],
      "text/plain": [
       "                              customer_id  product_ids  cart_price\n",
       "2018-01-31 15:48:26.388  6e7792695c700721         2469       42.88\n",
       "2018-01-31 15:51:41.150  6e7792695c700721         2469       42.88\n",
       "2018-01-31 15:51:43.618  6e7792695c700721         2469       42.88\n",
       "2018-01-31 15:53:06.415  6e7792695c700721         2469       42.88\n",
       "2018-01-31 15:53:31.383  6e7792695c700721         2469       42.88\n",
       "2018-01-31 15:53:33.415  6e7792695c700721         2469       42.88\n",
       "2018-01-31 15:54:00.051  6e7792695c700721         2469       42.88\n",
       "2018-01-31 15:54:40.887  6e7792695c700721         2469       42.88\n",
       "2018-01-31 15:54:43.218  6e7792695c700721         2469       42.88\n",
       "2018-01-31 15:55:56.298  6e7792695c700721         2469       42.88\n",
       "2018-01-31 15:55:58.528  6e7792695c700721         2469       42.88\n",
       "2018-01-31 15:56:18.321  6e7792695c700721         2469       42.88\n",
       "2018-02-25 17:58:19.486  46be3304c4b1c53e         2469      783.70"
      ]
     },
     "execution_count": 209,
     "metadata": {},
     "output_type": "execute_result"
    }
   ],
   "source": [
    "cart_flatten[cart_flatten['product_ids'] == 2469]"
   ]
  },
  {
   "cell_type": "code",
   "execution_count": 103,
   "metadata": {},
   "outputs": [
    {
     "data": {
      "text/plain": [
       "2469    0.500000\n",
       "3085    0.454545\n",
       "2929    0.384615\n",
       "1364    0.230769\n",
       "2359    0.208333\n",
       "3406    0.200000\n",
       "3714    0.200000\n",
       "1425    0.181818\n",
       "825     0.179348\n",
       "3517    0.177215\n",
       "dtype: float64"
      ]
     },
     "execution_count": 103,
     "metadata": {},
     "output_type": "execute_result"
    }
   ],
   "source": [
    "purchasePerView.nlargest(10)"
   ]
  },
  {
   "cell_type": "code",
   "execution_count": 101,
   "metadata": {},
   "outputs": [
    {
     "data": {
      "text/html": [
       "<div>\n",
       "<style scoped>\n",
       "    .dataframe tbody tr th:only-of-type {\n",
       "        vertical-align: middle;\n",
       "    }\n",
       "\n",
       "    .dataframe tbody tr th {\n",
       "        vertical-align: top;\n",
       "    }\n",
       "\n",
       "    .dataframe thead th {\n",
       "        text-align: right;\n",
       "    }\n",
       "</style>\n",
       "<table border=\"1\" class=\"dataframe\">\n",
       "  <thead>\n",
       "    <tr style=\"text-align: right;\">\n",
       "      <th></th>\n",
       "      <th>customer_id</th>\n",
       "      <th>product_id</th>\n",
       "      <th>full_price</th>\n",
       "      <th>actual_price</th>\n",
       "    </tr>\n",
       "    <tr>\n",
       "      <th>timestamp</th>\n",
       "      <th></th>\n",
       "      <th></th>\n",
       "      <th></th>\n",
       "      <th></th>\n",
       "    </tr>\n",
       "  </thead>\n",
       "  <tbody>\n",
       "    <tr>\n",
       "      <th>2018-01-01 00:23:49.626</th>\n",
       "      <td>a02b997bf5257800</td>\n",
       "      <td>2184</td>\n",
       "      <td>321.487603</td>\n",
       "      <td>321.487603</td>\n",
       "    </tr>\n",
       "    <tr>\n",
       "      <th>2018-01-01 00:37:32.533</th>\n",
       "      <td>a02b997bf5257800</td>\n",
       "      <td>2184</td>\n",
       "      <td>321.487603</td>\n",
       "      <td>321.487603</td>\n",
       "    </tr>\n",
       "    <tr>\n",
       "      <th>2018-01-01 13:10:54.466</th>\n",
       "      <td>bc5ba20b1f3183f1</td>\n",
       "      <td>2184</td>\n",
       "      <td>321.487603</td>\n",
       "      <td>321.487603</td>\n",
       "    </tr>\n",
       "    <tr>\n",
       "      <th>2018-01-01 13:11:38.016</th>\n",
       "      <td>bc5ba20b1f3183f1</td>\n",
       "      <td>2184</td>\n",
       "      <td>321.487603</td>\n",
       "      <td>321.487603</td>\n",
       "    </tr>\n",
       "    <tr>\n",
       "      <th>2018-01-01 15:07:16.085</th>\n",
       "      <td>081c3a51286a088a</td>\n",
       "      <td>2184</td>\n",
       "      <td>321.487603</td>\n",
       "      <td>321.487603</td>\n",
       "    </tr>\n",
       "  </tbody>\n",
       "</table>\n",
       "</div>"
      ],
      "text/plain": [
       "                              customer_id  product_id  full_price  \\\n",
       "timestamp                                                           \n",
       "2018-01-01 00:23:49.626  a02b997bf5257800        2184  321.487603   \n",
       "2018-01-01 00:37:32.533  a02b997bf5257800        2184  321.487603   \n",
       "2018-01-01 13:10:54.466  bc5ba20b1f3183f1        2184  321.487603   \n",
       "2018-01-01 13:11:38.016  bc5ba20b1f3183f1        2184  321.487603   \n",
       "2018-01-01 15:07:16.085  081c3a51286a088a        2184  321.487603   \n",
       "\n",
       "                         actual_price  \n",
       "timestamp                              \n",
       "2018-01-01 00:23:49.626    321.487603  \n",
       "2018-01-01 00:37:32.533    321.487603  \n",
       "2018-01-01 13:10:54.466    321.487603  \n",
       "2018-01-01 13:11:38.016    321.487603  \n",
       "2018-01-01 15:07:16.085    321.487603  "
      ]
     },
     "execution_count": 101,
     "metadata": {},
     "output_type": "execute_result"
    }
   ],
   "source": [
    "noSell = views[views['product_id'] == 2184]\n",
    "noSell.head()"
   ]
  },
  {
   "cell_type": "code",
   "execution_count": 97,
   "metadata": {},
   "outputs": [],
   "source": [
    "noSellByDay = noSell.resample('W').count()['customer_id']"
   ]
  },
  {
   "cell_type": "code",
   "execution_count": 98,
   "metadata": {},
   "outputs": [
    {
     "data": {
      "text/plain": [
       "[<matplotlib.lines.Line2D at 0x2330f31e9b0>]"
      ]
     },
     "execution_count": 98,
     "metadata": {},
     "output_type": "execute_result"
    },
    {
     "data": {
      "image/png": "[encoded data removed]",
      "text/plain": [
       "<Figure size 1080x360 with 1 Axes>"
      ]
     },
     "metadata": {
      "needs_background": "light"
     },
     "output_type": "display_data"
    }
   ],
   "source": [
    "plt.figure(figsize=(15,5))\n",
    "plt.plot(noSellByDay.index, noSellByDay)"
   ]
  },
  {
   "cell_type": "code",
   "execution_count": 108,
   "metadata": {},
   "outputs": [
    {
     "data": {
      "text/html": [
       "<div>\n",
       "<style scoped>\n",
       "    .dataframe tbody tr th:only-of-type {\n",
       "        vertical-align: middle;\n",
       "    }\n",
       "\n",
       "    .dataframe tbody tr th {\n",
       "        vertical-align: top;\n",
       "    }\n",
       "\n",
       "    .dataframe thead th {\n",
       "        text-align: right;\n",
       "    }\n",
       "</style>\n",
       "<table border=\"1\" class=\"dataframe\">\n",
       "  <thead>\n",
       "    <tr style=\"text-align: right;\">\n",
       "      <th></th>\n",
       "      <th>customer_id</th>\n",
       "      <th>product_ids</th>\n",
       "      <th>cart_price</th>\n",
       "    </tr>\n",
       "  </thead>\n",
       "  <tbody>\n",
       "    <tr>\n",
       "      <th>2018-01-04 16:50:39.608</th>\n",
       "      <td>80df2f97917306bb</td>\n",
       "      <td>825</td>\n",
       "      <td>42.00</td>\n",
       "    </tr>\n",
       "    <tr>\n",
       "      <th>2018-01-19 17:27:35.528</th>\n",
       "      <td>ff56e18147723fa4</td>\n",
       "      <td>825</td>\n",
       "      <td>879.84</td>\n",
       "    </tr>\n",
       "    <tr>\n",
       "      <th>2018-02-05 22:20:38.771</th>\n",
       "      <td>0030800434897a86</td>\n",
       "      <td>825</td>\n",
       "      <td>30.90</td>\n",
       "    </tr>\n",
       "    <tr>\n",
       "      <th>2018-02-23 17:19:49.206</th>\n",
       "      <td>548d7b3e16143c18</td>\n",
       "      <td>825</td>\n",
       "      <td>1391.92</td>\n",
       "    </tr>\n",
       "    <tr>\n",
       "      <th>2018-03-20 15:28:46.281</th>\n",
       "      <td>4cc26592cce2de11</td>\n",
       "      <td>825</td>\n",
       "      <td>38.20</td>\n",
       "    </tr>\n",
       "  </tbody>\n",
       "</table>\n",
       "</div>"
      ],
      "text/plain": [
       "                              customer_id  product_ids  cart_price\n",
       "2018-01-04 16:50:39.608  80df2f97917306bb          825       42.00\n",
       "2018-01-19 17:27:35.528  ff56e18147723fa4          825      879.84\n",
       "2018-02-05 22:20:38.771  0030800434897a86          825       30.90\n",
       "2018-02-23 17:19:49.206  548d7b3e16143c18          825     1391.92\n",
       "2018-03-20 15:28:46.281  4cc26592cce2de11          825       38.20"
      ]
     },
     "execution_count": 108,
     "metadata": {},
     "output_type": "execute_result"
    }
   ],
   "source": [
    "# product id 825 with purchase ration: 0.179348\n",
    "\n",
    "bestSellerCart = cart_flatten[cart_flatten['product_ids'] == 825]\n",
    "bestSellerCart.head()"
   ]
  },
  {
   "cell_type": "code",
   "execution_count": 107,
   "metadata": {},
   "outputs": [
    {
     "data": {
      "text/html": [
       "<div>\n",
       "<style scoped>\n",
       "    .dataframe tbody tr th:only-of-type {\n",
       "        vertical-align: middle;\n",
       "    }\n",
       "\n",
       "    .dataframe tbody tr th {\n",
       "        vertical-align: top;\n",
       "    }\n",
       "\n",
       "    .dataframe thead th {\n",
       "        text-align: right;\n",
       "    }\n",
       "</style>\n",
       "<table border=\"1\" class=\"dataframe\">\n",
       "  <thead>\n",
       "    <tr style=\"text-align: right;\">\n",
       "      <th></th>\n",
       "      <th>customer_id</th>\n",
       "      <th>product_id</th>\n",
       "      <th>full_price</th>\n",
       "      <th>actual_price</th>\n",
       "    </tr>\n",
       "    <tr>\n",
       "      <th>timestamp</th>\n",
       "      <th></th>\n",
       "      <th></th>\n",
       "      <th></th>\n",
       "      <th></th>\n",
       "    </tr>\n",
       "  </thead>\n",
       "  <tbody>\n",
       "    <tr>\n",
       "      <th>2018-01-02 22:34:16.429</th>\n",
       "      <td>47350a2ef01a48cf</td>\n",
       "      <td>825</td>\n",
       "      <td>1.652893</td>\n",
       "      <td>1.652893</td>\n",
       "    </tr>\n",
       "    <tr>\n",
       "      <th>2018-01-04 12:06:05.701</th>\n",
       "      <td>1024d82c0cd28c4e</td>\n",
       "      <td>825</td>\n",
       "      <td>1.652893</td>\n",
       "      <td>1.652893</td>\n",
       "    </tr>\n",
       "    <tr>\n",
       "      <th>2018-01-04 16:45:52.040</th>\n",
       "      <td>80df2f97917306bb</td>\n",
       "      <td>825</td>\n",
       "      <td>1.652893</td>\n",
       "      <td>1.652893</td>\n",
       "    </tr>\n",
       "    <tr>\n",
       "      <th>2018-01-06 01:49:42.030</th>\n",
       "      <td>b10758cb254bc4a1</td>\n",
       "      <td>825</td>\n",
       "      <td>1.652893</td>\n",
       "      <td>1.652893</td>\n",
       "    </tr>\n",
       "    <tr>\n",
       "      <th>2018-01-10 01:33:00.186</th>\n",
       "      <td>b10c18fb4fcb6570</td>\n",
       "      <td>825</td>\n",
       "      <td>1.652893</td>\n",
       "      <td>1.652893</td>\n",
       "    </tr>\n",
       "  </tbody>\n",
       "</table>\n",
       "</div>"
      ],
      "text/plain": [
       "                              customer_id  product_id  full_price  \\\n",
       "timestamp                                                           \n",
       "2018-01-02 22:34:16.429  47350a2ef01a48cf         825    1.652893   \n",
       "2018-01-04 12:06:05.701  1024d82c0cd28c4e         825    1.652893   \n",
       "2018-01-04 16:45:52.040  80df2f97917306bb         825    1.652893   \n",
       "2018-01-06 01:49:42.030  b10758cb254bc4a1         825    1.652893   \n",
       "2018-01-10 01:33:00.186  b10c18fb4fcb6570         825    1.652893   \n",
       "\n",
       "                         actual_price  \n",
       "timestamp                              \n",
       "2018-01-02 22:34:16.429      1.652893  \n",
       "2018-01-04 12:06:05.701      1.652893  \n",
       "2018-01-04 16:45:52.040      1.652893  \n",
       "2018-01-06 01:49:42.030      1.652893  \n",
       "2018-01-10 01:33:00.186      1.652893  "
      ]
     },
     "execution_count": 107,
     "metadata": {},
     "output_type": "execute_result"
    }
   ],
   "source": [
    "bestSellerView = views[views['product_id'] == 825]\n",
    "bestSellerView.head()"
   ]
  },
  {
   "cell_type": "code",
   "execution_count": 201,
   "metadata": {},
   "outputs": [],
   "source": [
    "bestSellerCartByWeek = bestSellerCart.resample('W').count()['customer_id']\n",
    "bestSellerViewByWeek = bestSellerView.resample('W').count()['customer_id']"
   ]
  },
  {
   "cell_type": "code",
   "execution_count": 202,
   "metadata": {},
   "outputs": [
    {
     "data": {
      "text/plain": [
       "<matplotlib.legend.Legend at 0x2331883fcc0>"
      ]
     },
     "execution_count": 202,
     "metadata": {},
     "output_type": "execute_result"
    },
    {
     "data": {
      "image/png": "[encoded data removed]",
      "text/plain": [
       "<Figure size 1080x360 with 1 Axes>"
      ]
     },
     "metadata": {
      "needs_background": "light"
     },
     "output_type": "display_data"
    }
   ],
   "source": [
    "plt.figure(figsize=(15,5))\n",
    "plt.plot(bestSellerCartByWeek.index, bestSellerCartByWeek, label='Product Cart')\n",
    "plt.plot(bestSellerViewByWeek.index, bestSellerViewByWeek, label='Product View')\n",
    "plt.legend(loc='upper left')"
   ]
  },
  {
   "cell_type": "code",
   "execution_count": 130,
   "metadata": {},
   "outputs": [
    {
     "data": {
      "text/plain": [
       "44      165.0\n",
       "47      154.0\n",
       "1129    154.0\n",
       "46      153.0\n",
       "53      145.0\n",
       "Name: purchase, dtype: float64"
      ]
     },
     "execution_count": 130,
     "metadata": {},
     "output_type": "execute_result"
    }
   ],
   "source": [
    "df['purchase'].nlargest()"
   ]
  },
  {
   "cell_type": "code",
   "execution_count": 136,
   "metadata": {},
   "outputs": [],
   "source": [
    "cartID44 = cart_flatten[cart_flatten['product_ids'] == 44]\n",
    "viewID44 = views[views['product_id'] == 44]"
   ]
  },
  {
   "cell_type": "code",
   "execution_count": 151,
   "metadata": {},
   "outputs": [],
   "source": [
    "cartID44ByDay = cartID44.resample('W').count()['customer_id']\n",
    "viewID44ByDay = viewID44.resample('W').count()['customer_id']"
   ]
  },
  {
   "cell_type": "code",
   "execution_count": 152,
   "metadata": {},
   "outputs": [
    {
     "data": {
      "text/plain": [
       "<matplotlib.legend.Legend at 0x23311df3630>"
      ]
     },
     "execution_count": 152,
     "metadata": {},
     "output_type": "execute_result"
    },
    {
     "data": {
      "image/png": "[encoded data removed]",
      "text/plain": [
       "<Figure size 1080x360 with 1 Axes>"
      ]
     },
     "metadata": {
      "needs_background": "light"
     },
     "output_type": "display_data"
    }
   ],
   "source": [
    "plt.figure(figsize=(15,5))\n",
    "plt.plot(cartID44ByDay.index, cartID44ByDay, label='Product Cart')\n",
    "plt.plot(viewID44ByDay.index, viewID44ByDay, label='Product View')\n",
    "plt.legend(loc='upper left')"
   ]
  },
  {
   "cell_type": "code",
   "execution_count": 160,
   "metadata": {},
   "outputs": [],
   "source": [
    "cartID_1129 = cart_flatten[cart_flatten['product_ids'] == 1129]\n",
    "viewID_1129 = views[views['product_id'] == 1129]"
   ]
  },
  {
   "cell_type": "code",
   "execution_count": 170,
   "metadata": {},
   "outputs": [],
   "source": [
    "cartID_1129_ByDay = cartID_1129.resample('2W').count()['customer_id']\n",
    "viewID_1129_ByDay = viewID_1129.resample('2W').count()['customer_id']"
   ]
  },
  {
   "cell_type": "code",
   "execution_count": 171,
   "metadata": {},
   "outputs": [
    {
     "data": {
      "text/plain": [
       "<matplotlib.legend.Legend at 0x233125a0588>"
      ]
     },
     "execution_count": 171,
     "metadata": {},
     "output_type": "execute_result"
    },
    {
     "data": {
      "image/png": "[encoded data removed]",
      "text/plain": [
       "<Figure size 1080x360 with 1 Axes>"
      ]
     },
     "metadata": {
      "needs_background": "light"
     },
     "output_type": "display_data"
    }
   ],
   "source": [
    "plt.figure(figsize=(15,5))\n",
    "plt.plot(cartID_1129_ByDay.index, cartID_1129_ByDay, label='Product Cart')\n",
    "plt.plot(viewID_1129_ByDay.index, viewID_1129_ByDay, label='Product View')\n",
    "plt.legend(loc='upper left')"
   ]
  },
  {
   "cell_type": "code",
   "execution_count": 187,
   "metadata": {},
   "outputs": [],
   "source": [
    "a = views['jan 2018':'sep 2018']"
   ]
  },
  {
   "cell_type": "code",
   "execution_count": 199,
   "metadata": {},
   "outputs": [
    {
     "data": {
      "text/plain": [
       "<matplotlib.axes._subplots.AxesSubplot at 0x23318687048>"
      ]
     },
     "execution_count": 199,
     "metadata": {},
     "output_type": "execute_result"
    },
    {
     "data": {
      "image/png": "[encoded data removed]",
      "text/plain": [
       "<Figure size 432x288 with 1 Axes>"
      ]
     },
     "metadata": {
      "needs_background": "light"
     },
     "output_type": "display_data"
    }
   ],
   "source": [
    "a.resample('W').count()['customer_id'].plot()"
   ]
  },
  {
   "cell_type": "code",
   "execution_count": 200,
   "metadata": {},
   "outputs": [
    {
     "data": {
      "text/plain": [
       "<matplotlib.axes._subplots.AxesSubplot at 0x23318768c50>"
      ]
     },
     "execution_count": 200,
     "metadata": {},
     "output_type": "execute_result"
    },
    {
     "data": {
      "image/png": "[encoded data removed]",
      "text/plain": [
       "<Figure size 432x288 with 1 Axes>"
      ]
     },
     "metadata": {
      "needs_background": "light"
     },
     "output_type": "display_data"
    }
   ],
   "source": [
    "\n",
    "a.resample('W').sum()['actual_price']"
   ]
  },
  {
   "cell_type": "code",
   "execution_count": 206,
   "metadata": {},
   "outputs": [
    {
     "data": {
      "text/plain": [
       "<matplotlib.axes._subplots.AxesSubplot at 0x233188ff7f0>"
      ]
     },
     "execution_count": 206,
     "metadata": {},
     "output_type": "execute_result"
    },
    {
     "data": {
      "image/png": "[encoded data removed]",
      "text/plain": [
       "<Figure size 432x288 with 1 Axes>"
      ]
     },
     "metadata": {
      "needs_background": "light"
     },
     "output_type": "display_data"
    }
   ],
   "source": [
    "carts.resample('2W').sum()['cart_price'].plot()"
   ]
  },
  {
   "cell_type": "code",
   "execution_count": null,
   "metadata": {},
   "outputs": [],
   "source": []
  }
 ],
 "metadata": {
  "kernelspec": {
   "display_name": "Python 3",
   "language": "python",
   "name": "python3"
  },
  "language_info": {
   "codemirror_mode": {
    "name": "ipython",
    "version": 3
   },
   "file_extension": ".py",
   "mimetype": "text/x-python",
   "name": "python",
   "nbconvert_exporter": "python",
   "pygments_lexer": "ipython3",
   "version": "3.7.0"
  }
 },
 "nbformat": 4,
 "nbformat_minor": 2
}
