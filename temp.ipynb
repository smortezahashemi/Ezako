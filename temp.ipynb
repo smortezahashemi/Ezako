{
 "cells": [
  {
   "cell_type": "code",
   "execution_count": 1,
   "metadata": {},
   "outputs": [],
   "source": [
    "\n",
    "\"\"\"\n",
    "Created on Sun Oct 14 14:28:29 2018\n",
    "\n",
    "@author: Morteza HASHEMI\n",
    "\"\"\"\n",
    "#-------Import needed libraries\n",
    "\n",
    "import pandas as pd\n",
    "import numpy as np\n",
    "import matplotlib.pyplot as plt\n",
    "\n",
    "\n",
    "#-------Load dataset into Pandas Dataframe \n",
    "\n",
    "views = pd.read_csv(\"C:/Users/Spa-Francorchamps/Downloads/eco_v0.2/all_product_2018.csv\")\n",
    "carts = pd.read_csv(\"C:/Users/Spa-Francorchamps/Downloads/eco_v0.2/all_order_2018.csv\")"
   ]
  },
  {
   "cell_type": "code",
   "execution_count": 2,
   "metadata": {},
   "outputs": [],
   "source": [
    "plt.rcParams['figure.figsize'] = 15, 5"
   ]
  },
  {
   "cell_type": "code",
   "execution_count": 3,
   "metadata": {},
   "outputs": [],
   "source": [
    "#-------Convert timestamp to human readable time units\n",
    "\n",
    "carts.index = pd.to_datetime(carts['timestamp'], unit='ms')\n",
    "views.index = pd.to_datetime(views['timestamp'], unit='ms')\n",
    "\n",
    "carts = carts.drop(['timestamp'], axis=1)\n",
    "views = views.drop(['timestamp'], axis=1)\n",
    "\n",
    "\n",
    "#-------Small optimization & cleaning\n",
    "\n",
    "carts.dropna(subset=[\"product_ids\"], inplace=True)\n",
    "views['product_id'] = views['product_id'].astype('int')"
   ]
  },
  {
   "cell_type": "code",
   "execution_count": 4,
   "metadata": {},
   "outputs": [
    {
     "data": {
      "text/html": [
       "<div>\n",
       "<style scoped>\n",
       "    .dataframe tbody tr th:only-of-type {\n",
       "        vertical-align: middle;\n",
       "    }\n",
       "\n",
       "    .dataframe tbody tr th {\n",
       "        vertical-align: top;\n",
       "    }\n",
       "\n",
       "    .dataframe thead th {\n",
       "        text-align: right;\n",
       "    }\n",
       "</style>\n",
       "<table border=\"1\" class=\"dataframe\">\n",
       "  <thead>\n",
       "    <tr style=\"text-align: right;\">\n",
       "      <th></th>\n",
       "      <th>customer_id</th>\n",
       "      <th>product_ids</th>\n",
       "      <th>cart_price</th>\n",
       "    </tr>\n",
       "    <tr>\n",
       "      <th>timestamp</th>\n",
       "      <th></th>\n",
       "      <th></th>\n",
       "      <th></th>\n",
       "    </tr>\n",
       "  </thead>\n",
       "  <tbody>\n",
       "    <tr>\n",
       "      <th>2017-12-31 23:41:11.712</th>\n",
       "      <td>401a01d8c3a64e11</td>\n",
       "      <td>188|1439</td>\n",
       "      <td>28.89</td>\n",
       "    </tr>\n",
       "    <tr>\n",
       "      <th>2018-01-01 11:56:16.242</th>\n",
       "      <td>3e87edf753a9f1a1</td>\n",
       "      <td>2790</td>\n",
       "      <td>199.95</td>\n",
       "    </tr>\n",
       "    <tr>\n",
       "      <th>2018-01-01 13:26:38.703</th>\n",
       "      <td>bd750602eac31a94</td>\n",
       "      <td>157</td>\n",
       "      <td>11.20</td>\n",
       "    </tr>\n",
       "    <tr>\n",
       "      <th>2018-01-01 13:40:24.978</th>\n",
       "      <td>3e083e3a130b21b2</td>\n",
       "      <td>647</td>\n",
       "      <td>17.85</td>\n",
       "    </tr>\n",
       "    <tr>\n",
       "      <th>2018-01-01 15:57:46.958</th>\n",
       "      <td>30fdc97b0eb7761b</td>\n",
       "      <td>2</td>\n",
       "      <td>28.70</td>\n",
       "    </tr>\n",
       "  </tbody>\n",
       "</table>\n",
       "</div>"
      ],
      "text/plain": [
       "                              customer_id product_ids  cart_price\n",
       "timestamp                                                        \n",
       "2017-12-31 23:41:11.712  401a01d8c3a64e11    188|1439       28.89\n",
       "2018-01-01 11:56:16.242  3e87edf753a9f1a1        2790      199.95\n",
       "2018-01-01 13:26:38.703  bd750602eac31a94         157       11.20\n",
       "2018-01-01 13:40:24.978  3e083e3a130b21b2         647       17.85\n",
       "2018-01-01 15:57:46.958  30fdc97b0eb7761b           2       28.70"
      ]
     },
     "execution_count": 4,
     "metadata": {},
     "output_type": "execute_result"
    }
   ],
   "source": [
    "carts.head()"
   ]
  },
  {
   "cell_type": "code",
   "execution_count": 26,
   "metadata": {},
   "outputs": [
    {
     "data": {
      "text/html": [
       "<div>\n",
       "<style scoped>\n",
       "    .dataframe tbody tr th:only-of-type {\n",
       "        vertical-align: middle;\n",
       "    }\n",
       "\n",
       "    .dataframe tbody tr th {\n",
       "        vertical-align: top;\n",
       "    }\n",
       "\n",
       "    .dataframe thead th {\n",
       "        text-align: right;\n",
       "    }\n",
       "</style>\n",
       "<table border=\"1\" class=\"dataframe\">\n",
       "  <thead>\n",
       "    <tr style=\"text-align: right;\">\n",
       "      <th></th>\n",
       "      <th>customer_id</th>\n",
       "      <th>product_ids</th>\n",
       "      <th>cart_price</th>\n",
       "    </tr>\n",
       "  </thead>\n",
       "  <tbody>\n",
       "    <tr>\n",
       "      <th>2017-12-31 23:41:11.712</th>\n",
       "      <td>401a01d8c3a64e11</td>\n",
       "      <td>188</td>\n",
       "      <td>28.89</td>\n",
       "    </tr>\n",
       "    <tr>\n",
       "      <th>2017-12-31 23:41:11.712</th>\n",
       "      <td>401a01d8c3a64e11</td>\n",
       "      <td>1439</td>\n",
       "      <td>28.89</td>\n",
       "    </tr>\n",
       "    <tr>\n",
       "      <th>2018-01-01 11:56:16.242</th>\n",
       "      <td>3e87edf753a9f1a1</td>\n",
       "      <td>2790</td>\n",
       "      <td>199.95</td>\n",
       "    </tr>\n",
       "    <tr>\n",
       "      <th>2018-01-01 13:26:38.703</th>\n",
       "      <td>bd750602eac31a94</td>\n",
       "      <td>157</td>\n",
       "      <td>11.20</td>\n",
       "    </tr>\n",
       "    <tr>\n",
       "      <th>2018-01-01 13:40:24.978</th>\n",
       "      <td>3e083e3a130b21b2</td>\n",
       "      <td>647</td>\n",
       "      <td>17.85</td>\n",
       "    </tr>\n",
       "  </tbody>\n",
       "</table>\n",
       "</div>"
      ],
      "text/plain": [
       "                              customer_id  product_ids  cart_price\n",
       "2017-12-31 23:41:11.712  401a01d8c3a64e11          188       28.89\n",
       "2017-12-31 23:41:11.712  401a01d8c3a64e11         1439       28.89\n",
       "2018-01-01 11:56:16.242  3e87edf753a9f1a1         2790      199.95\n",
       "2018-01-01 13:26:38.703  bd750602eac31a94          157       11.20\n",
       "2018-01-01 13:40:24.978  3e083e3a130b21b2          647       17.85"
      ]
     },
     "execution_count": 26,
     "metadata": {},
     "output_type": "execute_result"
    }
   ],
   "source": [
    "#------Formatting \"product_ids\" column\n",
    "#------We split carts Dataframe product_ids column by delimiter \"|\"\n",
    "\n",
    "lst = []\n",
    "index = []\n",
    "\n",
    "for row in carts.iterrows():\n",
    "    vals = row[1].values\n",
    "    product_ids = vals[1]\n",
    "    for id_prod in product_ids.split(\"|\"):\n",
    "        lst.append([vals[0], int(id_prod), vals[2]])\n",
    "        index.append(row[0])\n",
    "#         current = pd.DataFrame([[vals[0], id_prod, vals[2]]], columns=cols)\n",
    "#         current.index = [row[0]] \n",
    "#         print(current)\n",
    "\n",
    "cols = carts.columns.tolist()\n",
    "cart_flatten = pd.DataFrame(lst, columns=cols, index=index)\n",
    "cart_flatten.head()"
   ]
  },
  {
   "cell_type": "code",
   "execution_count": 6,
   "metadata": {},
   "outputs": [
    {
     "data": {
      "text/html": [
       "<div>\n",
       "<style scoped>\n",
       "    .dataframe tbody tr th:only-of-type {\n",
       "        vertical-align: middle;\n",
       "    }\n",
       "\n",
       "    .dataframe tbody tr th {\n",
       "        vertical-align: top;\n",
       "    }\n",
       "\n",
       "    .dataframe thead th {\n",
       "        text-align: right;\n",
       "    }\n",
       "</style>\n",
       "<table border=\"1\" class=\"dataframe\">\n",
       "  <thead>\n",
       "    <tr style=\"text-align: right;\">\n",
       "      <th></th>\n",
       "      <th>customer_id_cart</th>\n",
       "      <th>product_ids</th>\n",
       "      <th>cart_price</th>\n",
       "      <th>customer_id_view</th>\n",
       "      <th>product_id</th>\n",
       "      <th>full_price</th>\n",
       "      <th>actual_price</th>\n",
       "    </tr>\n",
       "  </thead>\n",
       "  <tbody>\n",
       "    <tr>\n",
       "      <th>0</th>\n",
       "      <td>401a01d8c3a64e11</td>\n",
       "      <td>188</td>\n",
       "      <td>28.89</td>\n",
       "      <td>7b4464d06d7ffbfb</td>\n",
       "      <td>188.0</td>\n",
       "      <td>4.950413</td>\n",
       "      <td>4.950413</td>\n",
       "    </tr>\n",
       "    <tr>\n",
       "      <th>1</th>\n",
       "      <td>401a01d8c3a64e11</td>\n",
       "      <td>188</td>\n",
       "      <td>28.89</td>\n",
       "      <td>75dd9fe3daae2927</td>\n",
       "      <td>188.0</td>\n",
       "      <td>4.950413</td>\n",
       "      <td>4.950413</td>\n",
       "    </tr>\n",
       "    <tr>\n",
       "      <th>2</th>\n",
       "      <td>401a01d8c3a64e11</td>\n",
       "      <td>188</td>\n",
       "      <td>28.89</td>\n",
       "      <td>ba557ca06e436eaf</td>\n",
       "      <td>188.0</td>\n",
       "      <td>4.950413</td>\n",
       "      <td>4.950413</td>\n",
       "    </tr>\n",
       "    <tr>\n",
       "      <th>3</th>\n",
       "      <td>401a01d8c3a64e11</td>\n",
       "      <td>188</td>\n",
       "      <td>28.89</td>\n",
       "      <td>485fbe5297fbeefa</td>\n",
       "      <td>188.0</td>\n",
       "      <td>4.950413</td>\n",
       "      <td>4.950413</td>\n",
       "    </tr>\n",
       "    <tr>\n",
       "      <th>4</th>\n",
       "      <td>401a01d8c3a64e11</td>\n",
       "      <td>188</td>\n",
       "      <td>28.89</td>\n",
       "      <td>c0e3a1443cb5d177</td>\n",
       "      <td>188.0</td>\n",
       "      <td>4.950413</td>\n",
       "      <td>4.950413</td>\n",
       "    </tr>\n",
       "  </tbody>\n",
       "</table>\n",
       "</div>"
      ],
      "text/plain": [
       "   customer_id_cart  product_ids  cart_price  customer_id_view  product_id  \\\n",
       "0  401a01d8c3a64e11          188       28.89  7b4464d06d7ffbfb       188.0   \n",
       "1  401a01d8c3a64e11          188       28.89  75dd9fe3daae2927       188.0   \n",
       "2  401a01d8c3a64e11          188       28.89  ba557ca06e436eaf       188.0   \n",
       "3  401a01d8c3a64e11          188       28.89  485fbe5297fbeefa       188.0   \n",
       "4  401a01d8c3a64e11          188       28.89  c0e3a1443cb5d177       188.0   \n",
       "\n",
       "   full_price  actual_price  \n",
       "0    4.950413      4.950413  \n",
       "1    4.950413      4.950413  \n",
       "2    4.950413      4.950413  \n",
       "3    4.950413      4.950413  \n",
       "4    4.950413      4.950413  "
      ]
     },
     "execution_count": 6,
     "metadata": {},
     "output_type": "execute_result"
    }
   ],
   "source": [
    "#-----------Merge the two datasets (cart_flatten and views)\n",
    "mergedProd = cart_flatten.merge(views, how='left', left_on='product_ids', right_on='product_id', \n",
    "                                suffixes=['_cart', '_view'])\n",
    "\n",
    "\n",
    "#-----------Locating rows where the \"product_id\" is null\n",
    "mergedProd[mergedProd['product_id'].isnull()]\n",
    "\n",
    "\n",
    "#----------Drop Na rows\n",
    "mergedProd.dropna(subset=['product_id'], inplace=True)\n",
    "\n",
    "mergedProd.head()"
   ]
  },
  {
   "cell_type": "code",
   "execution_count": 7,
   "metadata": {},
   "outputs": [],
   "source": [
    "groupedView = views.groupby('product_id')\n",
    "groupedCart = cart_flatten.groupby('product_ids')"
   ]
  },
  {
   "cell_type": "code",
   "execution_count": 8,
   "metadata": {},
   "outputs": [
    {
     "data": {
      "text/plain": [
       "product_id\n",
       "180     4828\n",
       "1362    4765\n",
       "3       3960\n",
       "2       3762\n",
       "647     3753\n",
       "Name: customer_id, dtype: int64"
      ]
     },
     "execution_count": 8,
     "metadata": {},
     "output_type": "execute_result"
    }
   ],
   "source": [
    "numOfViewsPerProd = groupedView.count()['customer_id']\n",
    "numOfPurchasesPerProd = groupedCart.count()['customer_id']\n",
    "numOfViewsPerProdSorted = numOfViewsPerProd.sort_values(ascending=False)\n",
    "numOfPurchasesPerProdSorted = numOfPurchasesPerProd.sort_values(ascending=False)\n",
    "numOfViewsPerProdSorted.head()"
   ]
  },
  {
   "cell_type": "code",
   "execution_count": 9,
   "metadata": {},
   "outputs": [
    {
     "data": {
      "text/plain": [
       "<matplotlib.axes._subplots.AxesSubplot at 0x22c3f7664a8>"
      ]
     },
     "execution_count": 9,
     "metadata": {},
     "output_type": "execute_result"
    },
    {
     "data": {
      "image/png": "[encoded data removed]",
      "text/plain": [
       "<Figure size 1080x360 with 1 Axes>"
      ]
     },
     "metadata": {
      "needs_background": "light"
     },
     "output_type": "display_data"
    }
   ],
   "source": [
    "numOfViewsPerProd.hist(bins=60)"
   ]
  },
  {
   "cell_type": "code",
   "execution_count": 10,
   "metadata": {},
   "outputs": [
    {
     "data": {
      "text/plain": [
       "count    3181.000000\n",
       "mean      260.152468\n",
       "std       403.532928\n",
       "min         1.000000\n",
       "25%        57.000000\n",
       "50%       132.000000\n",
       "75%       289.000000\n",
       "max      4828.000000\n",
       "Name: customer_id, dtype: float64"
      ]
     },
     "execution_count": 10,
     "metadata": {},
     "output_type": "execute_result"
    }
   ],
   "source": [
    "numOfViewsPerProdSorted.describe()"
   ]
  },
  {
   "cell_type": "code",
   "execution_count": 11,
   "metadata": {},
   "outputs": [
    {
     "data": {
      "text/plain": [
       "132.0"
      ]
     },
     "execution_count": 11,
     "metadata": {},
     "output_type": "execute_result"
    }
   ],
   "source": [
    "numOfViewsPerProdSorted.median()"
   ]
  },
  {
   "cell_type": "code",
   "execution_count": 12,
   "metadata": {},
   "outputs": [
    {
     "data": {
      "text/plain": [
       "320"
      ]
     },
     "execution_count": 12,
     "metadata": {},
     "output_type": "execute_result"
    }
   ],
   "source": [
    "numOfViewsPerProd[numOfViewsPerProd<20].count()"
   ]
  },
  {
   "cell_type": "code",
   "execution_count": 13,
   "metadata": {},
   "outputs": [
    {
     "data": {
      "text/plain": [
       "count    1910.000000\n",
       "mean        5.060733\n",
       "std        11.945023\n",
       "min         1.000000\n",
       "25%         1.000000\n",
       "50%         2.000000\n",
       "75%         5.000000\n",
       "max       165.000000\n",
       "Name: customer_id, dtype: float64"
      ]
     },
     "execution_count": 13,
     "metadata": {},
     "output_type": "execute_result"
    }
   ],
   "source": [
    "numOfPurchasesPerProdSorted.describe()"
   ]
  },
  {
   "cell_type": "code",
   "execution_count": 18,
   "metadata": {},
   "outputs": [
    {
     "data": {
      "text/plain": [
       "2.0"
      ]
     },
     "execution_count": 18,
     "metadata": {},
     "output_type": "execute_result"
    }
   ],
   "source": [
    "numOfPurchasesPerProdSorted.median()"
   ]
  },
  {
   "cell_type": "code",
   "execution_count": 14,
   "metadata": {},
   "outputs": [
    {
     "data": {
      "text/plain": [
       "Int64Index([  36,   70,   80,  231,  283,  286,  323,  346,  397,  461,\n",
       "            ...\n",
       "            3843, 3844, 3845, 3848, 3851, 3852, 3854, 3855, 3856, 3857],\n",
       "           dtype='int64', name='product_id', length=158)"
      ]
     },
     "execution_count": 14,
     "metadata": {},
     "output_type": "execute_result"
    }
   ],
   "source": [
    "#-----------Specify the products that have had fewer than 20 views over the whole period\n",
    "indRemove = numOfViewsPerProd[numOfViewsPerProd<10].index\n",
    "indRemove"
   ]
  },
  {
   "cell_type": "code",
   "execution_count": 15,
   "metadata": {},
   "outputs": [
    {
     "data": {
      "text/plain": [
       "1883"
      ]
     },
     "execution_count": 15,
     "metadata": {},
     "output_type": "execute_result"
    }
   ],
   "source": [
    "numOfPurchasesPerProdSorted[~numOfPurchasesPerProdSorted.index.isin(indRemove)].count()"
   ]
  },
  {
   "cell_type": "code",
   "execution_count": 16,
   "metadata": {},
   "outputs": [],
   "source": [
    "normalizedViews = numOfViewsPerProdSorted[-(numOfViewsPerProdSorted<20)]\n",
    "normalizedPurchases = numOfPurchasesPerProdSorted[~numOfPurchasesPerProdSorted.index.isin(indRemove)]"
   ]
  },
  {
   "cell_type": "code",
   "execution_count": 18,
   "metadata": {},
   "outputs": [],
   "source": [
    "df = pd.DataFrame({'view': normalizedViews, 'purchase': normalizedPurchases})"
   ]
  },
  {
   "cell_type": "code",
   "execution_count": 19,
   "metadata": {},
   "outputs": [
    {
     "data": {
      "text/html": [
       "<div>\n",
       "<style scoped>\n",
       "    .dataframe tbody tr th:only-of-type {\n",
       "        vertical-align: middle;\n",
       "    }\n",
       "\n",
       "    .dataframe tbody tr th {\n",
       "        vertical-align: top;\n",
       "    }\n",
       "\n",
       "    .dataframe thead th {\n",
       "        text-align: right;\n",
       "    }\n",
       "</style>\n",
       "<table border=\"1\" class=\"dataframe\">\n",
       "  <thead>\n",
       "    <tr style=\"text-align: right;\">\n",
       "      <th></th>\n",
       "      <th>view</th>\n",
       "      <th>purchase</th>\n",
       "    </tr>\n",
       "  </thead>\n",
       "  <tbody>\n",
       "    <tr>\n",
       "      <th>2</th>\n",
       "      <td>3762.0</td>\n",
       "      <td>126.0</td>\n",
       "    </tr>\n",
       "    <tr>\n",
       "      <th>3</th>\n",
       "      <td>3960.0</td>\n",
       "      <td>6.0</td>\n",
       "    </tr>\n",
       "    <tr>\n",
       "      <th>14</th>\n",
       "      <td>1164.0</td>\n",
       "      <td>11.0</td>\n",
       "    </tr>\n",
       "    <tr>\n",
       "      <th>15</th>\n",
       "      <td>156.0</td>\n",
       "      <td>2.0</td>\n",
       "    </tr>\n",
       "    <tr>\n",
       "      <th>17</th>\n",
       "      <td>100.0</td>\n",
       "      <td>NaN</td>\n",
       "    </tr>\n",
       "  </tbody>\n",
       "</table>\n",
       "</div>"
      ],
      "text/plain": [
       "      view  purchase\n",
       "2   3762.0     126.0\n",
       "3   3960.0       6.0\n",
       "14  1164.0      11.0\n",
       "15   156.0       2.0\n",
       "17   100.0       NaN"
      ]
     },
     "execution_count": 19,
     "metadata": {},
     "output_type": "execute_result"
    }
   ],
   "source": [
    "df.head()"
   ]
  },
  {
   "cell_type": "code",
   "execution_count": 20,
   "metadata": {},
   "outputs": [
    {
     "data": {
      "text/plain": [
       "2469    0.500000\n",
       "1364    0.230769\n",
       "2359    0.208333\n",
       "1425    0.181818\n",
       "825     0.179348\n",
       "dtype: float64"
      ]
     },
     "execution_count": 20,
     "metadata": {},
     "output_type": "execute_result"
    }
   ],
   "source": [
    "purchasePerView = (df['purchase'] / df['view']).sort_values(ascending=False)\n",
    "viewPerPurchase = (df['view'] / df['purchase']).sort_values(ascending=False)\n",
    "purchasePerView.head()"
   ]
  },
  {
   "cell_type": "code",
   "execution_count": 21,
   "metadata": {},
   "outputs": [
    {
     "name": "stdout",
     "output_type": "stream",
     "text": [
      "Best Seller Ratio: 0.5\n",
      "Least Seller Ratio: 3571.0\n"
     ]
    }
   ],
   "source": [
    "print(\"Best Seller Ratio: {}\".format(purchasePerView.max()))\n",
    "print(\"Least Seller Ratio: {}\".format(viewPerPurchase.max()))"
   ]
  },
  {
   "cell_type": "code",
   "execution_count": 22,
   "metadata": {},
   "outputs": [],
   "source": [
    "purchasePerView.dropna(inplace=True)"
   ]
  },
  {
   "cell_type": "code",
   "execution_count": 23,
   "metadata": {},
   "outputs": [
    {
     "data": {
      "text/plain": [
       "<BarContainer object of 1847 artists>"
      ]
     },
     "execution_count": 23,
     "metadata": {},
     "output_type": "execute_result"
    },
    {
     "data": {
      "image/png": "[encoded data removed]",
      "text/plain": [
       "<Figure size 1080x360 with 1 Axes>"
      ]
     },
     "metadata": {
      "needs_background": "light"
     },
     "output_type": "display_data"
    }
   ],
   "source": [
    "plt.bar(purchasePerView.index, purchasePerView, width = 6)\n",
    "# purchasePerView.plot.bar(width=5)\n",
    "# ax1 = plt.gca()\n",
    "# ax1.axes.get_xaxis().set_visible(False)\n",
    "# plt.show()\n",
    "# plt.close()"
   ]
  },
  {
   "cell_type": "code",
   "execution_count": 24,
   "metadata": {
    "scrolled": true
   },
   "outputs": [
    {
     "data": {
      "text/plain": [
       "<BarContainer object of 2897 artists>"
      ]
     },
     "execution_count": 24,
     "metadata": {},
     "output_type": "execute_result"
    },
    {
     "data": {
      "image/png": "[encoded data removed]",
      "text/plain": [
       "<Figure size 1080x360 with 1 Axes>"
      ]
     },
     "metadata": {
      "needs_background": "light"
     },
     "output_type": "display_data"
    }
   ],
   "source": [
    "plt.bar(viewPerPurchase.index, viewPerPurchase, width=5)"
   ]
  },
  {
   "cell_type": "code",
   "execution_count": 25,
   "metadata": {},
   "outputs": [
    {
     "data": {
      "text/plain": [
       "2184    3571.0\n",
       "1282    3225.0\n",
       "1501    2820.0\n",
       "1893    2313.0\n",
       "1738    1849.0\n",
       "dtype: float64"
      ]
     },
     "execution_count": 25,
     "metadata": {},
     "output_type": "execute_result"
    }
   ],
   "source": [
    "viewPerPurchase.nlargest(5)"
   ]
  },
  {
   "cell_type": "code",
   "execution_count": 26,
   "metadata": {},
   "outputs": [
    {
     "data": {
      "text/plain": [
       "2469    0.500000\n",
       "1364    0.230769\n",
       "2359    0.208333\n",
       "1425    0.181818\n",
       "825     0.179348\n",
       "dtype: float64"
      ]
     },
     "execution_count": 26,
     "metadata": {},
     "output_type": "execute_result"
    }
   ],
   "source": [
    "purchasePerView.nlargest(5)"
   ]
  },
  {
   "cell_type": "code",
   "execution_count": 27,
   "metadata": {},
   "outputs": [
    {
     "data": {
      "text/html": [
       "<div>\n",
       "<style scoped>\n",
       "    .dataframe tbody tr th:only-of-type {\n",
       "        vertical-align: middle;\n",
       "    }\n",
       "\n",
       "    .dataframe tbody tr th {\n",
       "        vertical-align: top;\n",
       "    }\n",
       "\n",
       "    .dataframe thead th {\n",
       "        text-align: right;\n",
       "    }\n",
       "</style>\n",
       "<table border=\"1\" class=\"dataframe\">\n",
       "  <thead>\n",
       "    <tr style=\"text-align: right;\">\n",
       "      <th></th>\n",
       "      <th>customer_id</th>\n",
       "      <th>product_ids</th>\n",
       "      <th>cart_price</th>\n",
       "    </tr>\n",
       "  </thead>\n",
       "  <tbody>\n",
       "    <tr>\n",
       "      <th>2018-01-31 15:48:26.388</th>\n",
       "      <td>6e7792695c700721</td>\n",
       "      <td>2469</td>\n",
       "      <td>42.88</td>\n",
       "    </tr>\n",
       "    <tr>\n",
       "      <th>2018-01-31 15:51:41.150</th>\n",
       "      <td>6e7792695c700721</td>\n",
       "      <td>2469</td>\n",
       "      <td>42.88</td>\n",
       "    </tr>\n",
       "    <tr>\n",
       "      <th>2018-01-31 15:51:43.618</th>\n",
       "      <td>6e7792695c700721</td>\n",
       "      <td>2469</td>\n",
       "      <td>42.88</td>\n",
       "    </tr>\n",
       "    <tr>\n",
       "      <th>2018-01-31 15:53:06.415</th>\n",
       "      <td>6e7792695c700721</td>\n",
       "      <td>2469</td>\n",
       "      <td>42.88</td>\n",
       "    </tr>\n",
       "    <tr>\n",
       "      <th>2018-01-31 15:53:31.383</th>\n",
       "      <td>6e7792695c700721</td>\n",
       "      <td>2469</td>\n",
       "      <td>42.88</td>\n",
       "    </tr>\n",
       "    <tr>\n",
       "      <th>2018-01-31 15:53:33.415</th>\n",
       "      <td>6e7792695c700721</td>\n",
       "      <td>2469</td>\n",
       "      <td>42.88</td>\n",
       "    </tr>\n",
       "    <tr>\n",
       "      <th>2018-01-31 15:54:00.051</th>\n",
       "      <td>6e7792695c700721</td>\n",
       "      <td>2469</td>\n",
       "      <td>42.88</td>\n",
       "    </tr>\n",
       "    <tr>\n",
       "      <th>2018-01-31 15:54:40.887</th>\n",
       "      <td>6e7792695c700721</td>\n",
       "      <td>2469</td>\n",
       "      <td>42.88</td>\n",
       "    </tr>\n",
       "    <tr>\n",
       "      <th>2018-01-31 15:54:43.218</th>\n",
       "      <td>6e7792695c700721</td>\n",
       "      <td>2469</td>\n",
       "      <td>42.88</td>\n",
       "    </tr>\n",
       "    <tr>\n",
       "      <th>2018-01-31 15:55:56.298</th>\n",
       "      <td>6e7792695c700721</td>\n",
       "      <td>2469</td>\n",
       "      <td>42.88</td>\n",
       "    </tr>\n",
       "    <tr>\n",
       "      <th>2018-01-31 15:55:58.528</th>\n",
       "      <td>6e7792695c700721</td>\n",
       "      <td>2469</td>\n",
       "      <td>42.88</td>\n",
       "    </tr>\n",
       "    <tr>\n",
       "      <th>2018-01-31 15:56:18.321</th>\n",
       "      <td>6e7792695c700721</td>\n",
       "      <td>2469</td>\n",
       "      <td>42.88</td>\n",
       "    </tr>\n",
       "    <tr>\n",
       "      <th>2018-02-25 17:58:19.486</th>\n",
       "      <td>46be3304c4b1c53e</td>\n",
       "      <td>2469</td>\n",
       "      <td>783.70</td>\n",
       "    </tr>\n",
       "  </tbody>\n",
       "</table>\n",
       "</div>"
      ],
      "text/plain": [
       "                              customer_id  product_ids  cart_price\n",
       "2018-01-31 15:48:26.388  6e7792695c700721         2469       42.88\n",
       "2018-01-31 15:51:41.150  6e7792695c700721         2469       42.88\n",
       "2018-01-31 15:51:43.618  6e7792695c700721         2469       42.88\n",
       "2018-01-31 15:53:06.415  6e7792695c700721         2469       42.88\n",
       "2018-01-31 15:53:31.383  6e7792695c700721         2469       42.88\n",
       "2018-01-31 15:53:33.415  6e7792695c700721         2469       42.88\n",
       "2018-01-31 15:54:00.051  6e7792695c700721         2469       42.88\n",
       "2018-01-31 15:54:40.887  6e7792695c700721         2469       42.88\n",
       "2018-01-31 15:54:43.218  6e7792695c700721         2469       42.88\n",
       "2018-01-31 15:55:56.298  6e7792695c700721         2469       42.88\n",
       "2018-01-31 15:55:58.528  6e7792695c700721         2469       42.88\n",
       "2018-01-31 15:56:18.321  6e7792695c700721         2469       42.88\n",
       "2018-02-25 17:58:19.486  46be3304c4b1c53e         2469      783.70"
      ]
     },
     "execution_count": 27,
     "metadata": {},
     "output_type": "execute_result"
    }
   ],
   "source": [
    "cart_flatten[cart_flatten['product_ids'] == 2469]"
   ]
  },
  {
   "cell_type": "code",
   "execution_count": 34,
   "metadata": {},
   "outputs": [
    {
     "data": {
      "text/html": [
       "<div>\n",
       "<style scoped>\n",
       "    .dataframe tbody tr th:only-of-type {\n",
       "        vertical-align: middle;\n",
       "    }\n",
       "\n",
       "    .dataframe tbody tr th {\n",
       "        vertical-align: top;\n",
       "    }\n",
       "\n",
       "    .dataframe thead th {\n",
       "        text-align: right;\n",
       "    }\n",
       "</style>\n",
       "<table border=\"1\" class=\"dataframe\">\n",
       "  <thead>\n",
       "    <tr style=\"text-align: right;\">\n",
       "      <th></th>\n",
       "      <th>customer_id</th>\n",
       "      <th>product_id</th>\n",
       "      <th>full_price</th>\n",
       "      <th>actual_price</th>\n",
       "    </tr>\n",
       "    <tr>\n",
       "      <th>timestamp</th>\n",
       "      <th></th>\n",
       "      <th></th>\n",
       "      <th></th>\n",
       "      <th></th>\n",
       "    </tr>\n",
       "  </thead>\n",
       "  <tbody>\n",
       "    <tr>\n",
       "      <th>2018-01-01 00:23:49.626</th>\n",
       "      <td>a02b997bf5257800</td>\n",
       "      <td>2184</td>\n",
       "      <td>321.487603</td>\n",
       "      <td>321.487603</td>\n",
       "    </tr>\n",
       "    <tr>\n",
       "      <th>2018-01-01 00:37:32.533</th>\n",
       "      <td>a02b997bf5257800</td>\n",
       "      <td>2184</td>\n",
       "      <td>321.487603</td>\n",
       "      <td>321.487603</td>\n",
       "    </tr>\n",
       "    <tr>\n",
       "      <th>2018-01-01 13:10:54.466</th>\n",
       "      <td>bc5ba20b1f3183f1</td>\n",
       "      <td>2184</td>\n",
       "      <td>321.487603</td>\n",
       "      <td>321.487603</td>\n",
       "    </tr>\n",
       "    <tr>\n",
       "      <th>2018-01-01 13:11:38.016</th>\n",
       "      <td>bc5ba20b1f3183f1</td>\n",
       "      <td>2184</td>\n",
       "      <td>321.487603</td>\n",
       "      <td>321.487603</td>\n",
       "    </tr>\n",
       "    <tr>\n",
       "      <th>2018-01-01 15:07:16.085</th>\n",
       "      <td>081c3a51286a088a</td>\n",
       "      <td>2184</td>\n",
       "      <td>321.487603</td>\n",
       "      <td>321.487603</td>\n",
       "    </tr>\n",
       "  </tbody>\n",
       "</table>\n",
       "</div>"
      ],
      "text/plain": [
       "                              customer_id  product_id  full_price  \\\n",
       "timestamp                                                           \n",
       "2018-01-01 00:23:49.626  a02b997bf5257800        2184  321.487603   \n",
       "2018-01-01 00:37:32.533  a02b997bf5257800        2184  321.487603   \n",
       "2018-01-01 13:10:54.466  bc5ba20b1f3183f1        2184  321.487603   \n",
       "2018-01-01 13:11:38.016  bc5ba20b1f3183f1        2184  321.487603   \n",
       "2018-01-01 15:07:16.085  081c3a51286a088a        2184  321.487603   \n",
       "\n",
       "                         actual_price  \n",
       "timestamp                              \n",
       "2018-01-01 00:23:49.626    321.487603  \n",
       "2018-01-01 00:37:32.533    321.487603  \n",
       "2018-01-01 13:10:54.466    321.487603  \n",
       "2018-01-01 13:11:38.016    321.487603  \n",
       "2018-01-01 15:07:16.085    321.487603  "
      ]
     },
     "execution_count": 34,
     "metadata": {},
     "output_type": "execute_result"
    }
   ],
   "source": [
    "noSell = views[views['product_id'] == 2184]['Jan 2018':'Sep 2018']\n",
    "noSell.head()"
   ]
  },
  {
   "cell_type": "code",
   "execution_count": 35,
   "metadata": {},
   "outputs": [],
   "source": [
    "noSellByMonth = noSell.resample('M').count()['customer_id']"
   ]
  },
  {
   "cell_type": "code",
   "execution_count": 36,
   "metadata": {},
   "outputs": [
    {
     "data": {
      "text/plain": [
       "timestamp\n",
       "2018-01-31    250\n",
       "2018-02-28    224\n",
       "2018-03-31    301\n",
       "2018-04-30    299\n",
       "2018-05-31    312\n",
       "2018-06-30    358\n",
       "2018-07-31    510\n",
       "2018-08-31    642\n",
       "2018-09-30    629\n",
       "Freq: M, Name: customer_id, dtype: int64"
      ]
     },
     "execution_count": 36,
     "metadata": {},
     "output_type": "execute_result"
    }
   ],
   "source": [
    "noSellByMonth"
   ]
  },
  {
   "cell_type": "code",
   "execution_count": 37,
   "metadata": {},
   "outputs": [
    {
     "data": {
      "text/plain": [
       "[<matplotlib.lines.Line2D at 0x22c04c46f28>]"
      ]
     },
     "execution_count": 37,
     "metadata": {},
     "output_type": "execute_result"
    },
    {
     "data": {
      "image/png": "[encoded data removed]",
      "text/plain": [
       "<Figure size 1080x360 with 1 Axes>"
      ]
     },
     "metadata": {
      "needs_background": "light"
     },
     "output_type": "display_data"
    }
   ],
   "source": [
    "plt.plot(noSellByMonth.index, noSellByMonth)"
   ]
  },
  {
   "cell_type": "code",
   "execution_count": 38,
   "metadata": {},
   "outputs": [
    {
     "data": {
      "text/html": [
       "<div>\n",
       "<style scoped>\n",
       "    .dataframe tbody tr th:only-of-type {\n",
       "        vertical-align: middle;\n",
       "    }\n",
       "\n",
       "    .dataframe tbody tr th {\n",
       "        vertical-align: top;\n",
       "    }\n",
       "\n",
       "    .dataframe thead th {\n",
       "        text-align: right;\n",
       "    }\n",
       "</style>\n",
       "<table border=\"1\" class=\"dataframe\">\n",
       "  <thead>\n",
       "    <tr style=\"text-align: right;\">\n",
       "      <th></th>\n",
       "      <th>customer_id</th>\n",
       "      <th>product_ids</th>\n",
       "      <th>cart_price</th>\n",
       "    </tr>\n",
       "  </thead>\n",
       "  <tbody>\n",
       "    <tr>\n",
       "      <th>2018-01-04 16:50:39.608</th>\n",
       "      <td>80df2f97917306bb</td>\n",
       "      <td>825</td>\n",
       "      <td>42.00</td>\n",
       "    </tr>\n",
       "    <tr>\n",
       "      <th>2018-01-19 17:27:35.528</th>\n",
       "      <td>ff56e18147723fa4</td>\n",
       "      <td>825</td>\n",
       "      <td>879.84</td>\n",
       "    </tr>\n",
       "    <tr>\n",
       "      <th>2018-02-05 22:20:38.771</th>\n",
       "      <td>0030800434897a86</td>\n",
       "      <td>825</td>\n",
       "      <td>30.90</td>\n",
       "    </tr>\n",
       "    <tr>\n",
       "      <th>2018-02-23 17:19:49.206</th>\n",
       "      <td>548d7b3e16143c18</td>\n",
       "      <td>825</td>\n",
       "      <td>1391.92</td>\n",
       "    </tr>\n",
       "    <tr>\n",
       "      <th>2018-03-20 15:28:46.281</th>\n",
       "      <td>4cc26592cce2de11</td>\n",
       "      <td>825</td>\n",
       "      <td>38.20</td>\n",
       "    </tr>\n",
       "  </tbody>\n",
       "</table>\n",
       "</div>"
      ],
      "text/plain": [
       "                              customer_id  product_ids  cart_price\n",
       "2018-01-04 16:50:39.608  80df2f97917306bb          825       42.00\n",
       "2018-01-19 17:27:35.528  ff56e18147723fa4          825      879.84\n",
       "2018-02-05 22:20:38.771  0030800434897a86          825       30.90\n",
       "2018-02-23 17:19:49.206  548d7b3e16143c18          825     1391.92\n",
       "2018-03-20 15:28:46.281  4cc26592cce2de11          825       38.20"
      ]
     },
     "execution_count": 38,
     "metadata": {},
     "output_type": "execute_result"
    }
   ],
   "source": [
    "# product id 825 with purchase ration: 0.179348\n",
    "\n",
    "bestSellerCart = cart_flatten[cart_flatten['product_ids'] == 825]\n",
    "bestSellerCart = bestSellerCart['Jan 2018' : 'Sep 2018']\n",
    "bestSellerCart.head()"
   ]
  },
  {
   "cell_type": "code",
   "execution_count": 39,
   "metadata": {},
   "outputs": [
    {
     "data": {
      "text/html": [
       "<div>\n",
       "<style scoped>\n",
       "    .dataframe tbody tr th:only-of-type {\n",
       "        vertical-align: middle;\n",
       "    }\n",
       "\n",
       "    .dataframe tbody tr th {\n",
       "        vertical-align: top;\n",
       "    }\n",
       "\n",
       "    .dataframe thead th {\n",
       "        text-align: right;\n",
       "    }\n",
       "</style>\n",
       "<table border=\"1\" class=\"dataframe\">\n",
       "  <thead>\n",
       "    <tr style=\"text-align: right;\">\n",
       "      <th></th>\n",
       "      <th>customer_id</th>\n",
       "      <th>product_id</th>\n",
       "      <th>full_price</th>\n",
       "      <th>actual_price</th>\n",
       "    </tr>\n",
       "    <tr>\n",
       "      <th>timestamp</th>\n",
       "      <th></th>\n",
       "      <th></th>\n",
       "      <th></th>\n",
       "      <th></th>\n",
       "    </tr>\n",
       "  </thead>\n",
       "  <tbody>\n",
       "    <tr>\n",
       "      <th>2018-01-02 22:34:16.429</th>\n",
       "      <td>47350a2ef01a48cf</td>\n",
       "      <td>825</td>\n",
       "      <td>1.652893</td>\n",
       "      <td>1.652893</td>\n",
       "    </tr>\n",
       "    <tr>\n",
       "      <th>2018-01-04 12:06:05.701</th>\n",
       "      <td>1024d82c0cd28c4e</td>\n",
       "      <td>825</td>\n",
       "      <td>1.652893</td>\n",
       "      <td>1.652893</td>\n",
       "    </tr>\n",
       "    <tr>\n",
       "      <th>2018-01-04 16:45:52.040</th>\n",
       "      <td>80df2f97917306bb</td>\n",
       "      <td>825</td>\n",
       "      <td>1.652893</td>\n",
       "      <td>1.652893</td>\n",
       "    </tr>\n",
       "    <tr>\n",
       "      <th>2018-01-06 01:49:42.030</th>\n",
       "      <td>b10758cb254bc4a1</td>\n",
       "      <td>825</td>\n",
       "      <td>1.652893</td>\n",
       "      <td>1.652893</td>\n",
       "    </tr>\n",
       "    <tr>\n",
       "      <th>2018-01-10 01:33:00.186</th>\n",
       "      <td>b10c18fb4fcb6570</td>\n",
       "      <td>825</td>\n",
       "      <td>1.652893</td>\n",
       "      <td>1.652893</td>\n",
       "    </tr>\n",
       "  </tbody>\n",
       "</table>\n",
       "</div>"
      ],
      "text/plain": [
       "                              customer_id  product_id  full_price  \\\n",
       "timestamp                                                           \n",
       "2018-01-02 22:34:16.429  47350a2ef01a48cf         825    1.652893   \n",
       "2018-01-04 12:06:05.701  1024d82c0cd28c4e         825    1.652893   \n",
       "2018-01-04 16:45:52.040  80df2f97917306bb         825    1.652893   \n",
       "2018-01-06 01:49:42.030  b10758cb254bc4a1         825    1.652893   \n",
       "2018-01-10 01:33:00.186  b10c18fb4fcb6570         825    1.652893   \n",
       "\n",
       "                         actual_price  \n",
       "timestamp                              \n",
       "2018-01-02 22:34:16.429      1.652893  \n",
       "2018-01-04 12:06:05.701      1.652893  \n",
       "2018-01-04 16:45:52.040      1.652893  \n",
       "2018-01-06 01:49:42.030      1.652893  \n",
       "2018-01-10 01:33:00.186      1.652893  "
      ]
     },
     "execution_count": 39,
     "metadata": {},
     "output_type": "execute_result"
    }
   ],
   "source": [
    "bestSellerView = views[views['product_id'] == 825]\n",
    "bestSellerView = bestSellerView['Jan 2018' : 'Sep 2018']\n",
    "bestSellerView.head()"
   ]
  },
  {
   "cell_type": "code",
   "execution_count": 40,
   "metadata": {},
   "outputs": [],
   "source": [
    "bestSellerCartByWeek = bestSellerCart.resample('M').count()['customer_id']\n",
    "bestSellerViewByWeek = bestSellerView.resample('M').count()['customer_id']"
   ]
  },
  {
   "cell_type": "code",
   "execution_count": 41,
   "metadata": {},
   "outputs": [
    {
     "data": {
      "text/plain": [
       "<matplotlib.legend.Legend at 0x22c05392d68>"
      ]
     },
     "execution_count": 41,
     "metadata": {},
     "output_type": "execute_result"
    },
    {
     "data": {
      "image/png": "[encoded data removed]",
      "text/plain": [
       "<Figure size 1080x360 with 1 Axes>"
      ]
     },
     "metadata": {
      "needs_background": "light"
     },
     "output_type": "display_data"
    }
   ],
   "source": [
    "plt.plot(bestSellerCartByWeek.index, bestSellerCartByWeek, label='Product Cart')\n",
    "plt.plot(bestSellerViewByWeek.index, bestSellerViewByWeek, label='Product View')\n",
    "plt.legend(loc='upper left')"
   ]
  },
  {
   "cell_type": "code",
   "execution_count": 42,
   "metadata": {},
   "outputs": [
    {
     "data": {
      "text/plain": [
       "44      165.0\n",
       "47      154.0\n",
       "1129    154.0\n",
       "46      153.0\n",
       "53      145.0\n",
       "Name: purchase, dtype: float64"
      ]
     },
     "execution_count": 42,
     "metadata": {},
     "output_type": "execute_result"
    }
   ],
   "source": [
    "df['purchase'].nlargest()"
   ]
  },
  {
   "cell_type": "code",
   "execution_count": 43,
   "metadata": {},
   "outputs": [],
   "source": [
    "cartID44 = cart_flatten[cart_flatten['product_ids'] == 44]['Jan 2018' : 'Sep 2018']\n",
    "viewID44 = views[views['product_id'] == 44]['Jan 2018' : 'Sep 2018']"
   ]
  },
  {
   "cell_type": "code",
   "execution_count": 44,
   "metadata": {},
   "outputs": [],
   "source": [
    "cartID44ByDay = cartID44.resample('M').count()['customer_id']\n",
    "viewID44ByDay = viewID44.resample('M').count()['customer_id']"
   ]
  },
  {
   "cell_type": "code",
   "execution_count": 45,
   "metadata": {},
   "outputs": [
    {
     "data": {
      "text/plain": [
       "<matplotlib.legend.Legend at 0x22c05a43c88>"
      ]
     },
     "execution_count": 45,
     "metadata": {},
     "output_type": "execute_result"
    },
    {
     "data": {
      "image/png": "[encoded data removed]",
      "text/plain": [
       "<Figure size 1080x360 with 1 Axes>"
      ]
     },
     "metadata": {
      "needs_background": "light"
     },
     "output_type": "display_data"
    }
   ],
   "source": [
    "plt.plot(cartID44ByDay.index, cartID44ByDay, label='Product Cart')\n",
    "plt.plot(viewID44ByDay.index, viewID44ByDay, label='Product View')\n",
    "plt.legend(loc='upper left')"
   ]
  },
  {
   "cell_type": "code",
   "execution_count": 46,
   "metadata": {},
   "outputs": [],
   "source": [
    "cartID_1129 = cart_flatten[cart_flatten['product_ids'] == 1129]['Jan 2018' : 'Sep 2018']\n",
    "viewID_1129 = views[views['product_id'] == 1129]['Jan 2018' : 'Sep 2018']"
   ]
  },
  {
   "cell_type": "code",
   "execution_count": 47,
   "metadata": {},
   "outputs": [],
   "source": [
    "cartID_1129_ByDay = cartID_1129.resample('M').count()['customer_id']\n",
    "viewID_1129_ByDay = viewID_1129.resample('M').count()['customer_id']"
   ]
  },
  {
   "cell_type": "code",
   "execution_count": 48,
   "metadata": {},
   "outputs": [
    {
     "data": {
      "text/plain": [
       "<matplotlib.legend.Legend at 0x22c0629ccf8>"
      ]
     },
     "execution_count": 48,
     "metadata": {},
     "output_type": "execute_result"
    },
    {
     "data": {
      "image/png": "[encoded data removed]",
      "text/plain": [
       "<Figure size 1080x360 with 1 Axes>"
      ]
     },
     "metadata": {
      "needs_background": "light"
     },
     "output_type": "display_data"
    }
   ],
   "source": [
    "plt.plot(cartID_1129_ByDay.index, cartID_1129_ByDay, label='Product Cart')\n",
    "plt.plot(viewID_1129_ByDay.index, viewID_1129_ByDay, label='Product View')\n",
    "plt.legend(loc='upper left')"
   ]
  },
  {
   "cell_type": "code",
   "execution_count": 49,
   "metadata": {},
   "outputs": [],
   "source": [
    "a = views['jan 2018':'sep 2018']"
   ]
  },
  {
   "cell_type": "code",
   "execution_count": 50,
   "metadata": {},
   "outputs": [
    {
     "data": {
      "text/plain": [
       "<matplotlib.axes._subplots.AxesSubplot at 0x22c063dbf98>"
      ]
     },
     "execution_count": 50,
     "metadata": {},
     "output_type": "execute_result"
    },
    {
     "data": {
      "image/png": "[encoded data removed]",
      "text/plain": [
       "<Figure size 1080x360 with 1 Axes>"
      ]
     },
     "metadata": {
      "needs_background": "light"
     },
     "output_type": "display_data"
    }
   ],
   "source": [
    "a.resample('M').count()['customer_id'].plot()"
   ]
  },
  {
   "cell_type": "code",
   "execution_count": 51,
   "metadata": {},
   "outputs": [
    {
     "data": {
      "text/plain": [
       "<matplotlib.axes._subplots.AxesSubplot at 0x22c05eee7f0>"
      ]
     },
     "execution_count": 51,
     "metadata": {},
     "output_type": "execute_result"
    },
    {
     "data": {
      "image/png": "[encoded data removed]",
      "text/plain": [
       "<Figure size 1080x360 with 1 Axes>"
      ]
     },
     "metadata": {
      "needs_background": "light"
     },
     "output_type": "display_data"
    }
   ],
   "source": [
    "carts['Jan 2018' : 'Sep 2018'].resample('M').sum()['cart_price'].plot()"
   ]
  },
  {
   "cell_type": "code",
   "execution_count": 52,
   "metadata": {},
   "outputs": [],
   "source": [
    "viewCounts = (views[~views['product_id'].isin(indRemove)]['Jan 2018':'Sep 2018']\n",
    "              .groupby('product_id')\n",
    "              .resample('M')\n",
    "              .count()['customer_id'])"
   ]
  },
  {
   "cell_type": "code",
   "execution_count": 62,
   "metadata": {},
   "outputs": [
    {
     "data": {
      "text/plain": [
       "product_id  timestamp \n",
       "2           2018-01-31    463\n",
       "            2018-02-28    438\n",
       "            2018-03-31    320\n",
       "            2018-04-30    381\n",
       "            2018-05-31    328\n",
       "            2018-06-30    464\n",
       "            2018-07-31    528\n",
       "            2018-08-31    454\n",
       "            2018-09-30    362\n",
       "3           2018-01-31    346\n",
       "            2018-02-28    343\n",
       "            2018-03-31    324\n",
       "            2018-04-30    416\n",
       "            2018-05-31    395\n",
       "            2018-06-30    447\n",
       "Name: customer_id, dtype: int64"
      ]
     },
     "execution_count": 62,
     "metadata": {},
     "output_type": "execute_result"
    }
   ],
   "source": [
    "viewCounts.head(15)"
   ]
  },
  {
   "cell_type": "code",
   "execution_count": 74,
   "metadata": {},
   "outputs": [],
   "source": [
    "purchaseCount = (cart_flatten[~cart_flatten['product_ids'].isin(indRemove)]['Jan 2018':'Sep 2018']\n",
    "                 .groupby('product_ids')\n",
    "                 .resample('M')\n",
    "                 .count()['customer_id'])"
   ]
  },
  {
   "cell_type": "code",
   "execution_count": 75,
   "metadata": {},
   "outputs": [
    {
     "data": {
      "text/plain": [
       "product_ids            \n",
       "2            2018-01-31    16\n",
       "             2018-02-28    13\n",
       "             2018-03-31    15\n",
       "             2018-04-30    12\n",
       "             2018-05-31     9\n",
       "Name: customer_id, dtype: int64"
      ]
     },
     "execution_count": 75,
     "metadata": {},
     "output_type": "execute_result"
    }
   ],
   "source": [
    "purchaseCount.head()"
   ]
  },
  {
   "cell_type": "code",
   "execution_count": 97,
   "metadata": {},
   "outputs": [
    {
     "data": {
      "text/html": [
       "<div>\n",
       "<style scoped>\n",
       "    .dataframe tbody tr th:only-of-type {\n",
       "        vertical-align: middle;\n",
       "    }\n",
       "\n",
       "    .dataframe tbody tr th {\n",
       "        vertical-align: top;\n",
       "    }\n",
       "\n",
       "    .dataframe thead th {\n",
       "        text-align: right;\n",
       "    }\n",
       "</style>\n",
       "<table border=\"1\" class=\"dataframe\">\n",
       "  <thead>\n",
       "    <tr style=\"text-align: right;\">\n",
       "      <th></th>\n",
       "      <th></th>\n",
       "      <th>purchase</th>\n",
       "      <th>view</th>\n",
       "    </tr>\n",
       "  </thead>\n",
       "  <tbody>\n",
       "    <tr>\n",
       "      <th rowspan=\"5\" valign=\"top\">2</th>\n",
       "      <th>2018-01-31</th>\n",
       "      <td>16</td>\n",
       "      <td>463</td>\n",
       "    </tr>\n",
       "    <tr>\n",
       "      <th>2018-02-28</th>\n",
       "      <td>13</td>\n",
       "      <td>438</td>\n",
       "    </tr>\n",
       "    <tr>\n",
       "      <th>2018-03-31</th>\n",
       "      <td>15</td>\n",
       "      <td>320</td>\n",
       "    </tr>\n",
       "    <tr>\n",
       "      <th>2018-04-30</th>\n",
       "      <td>12</td>\n",
       "      <td>381</td>\n",
       "    </tr>\n",
       "    <tr>\n",
       "      <th>2018-05-31</th>\n",
       "      <td>9</td>\n",
       "      <td>328</td>\n",
       "    </tr>\n",
       "  </tbody>\n",
       "</table>\n",
       "</div>"
      ],
      "text/plain": [
       "              purchase  view\n",
       "2 2018-01-31        16   463\n",
       "  2018-02-28        13   438\n",
       "  2018-03-31        15   320\n",
       "  2018-04-30        12   381\n",
       "  2018-05-31         9   328"
      ]
     },
     "execution_count": 97,
     "metadata": {},
     "output_type": "execute_result"
    }
   ],
   "source": [
    "monthlyStat = pd.concat([purchaseCount, viewCounts], axis=1, join='inner', keys=['purchase', 'view'])\n",
    "monthlyStat.head()"
   ]
  },
  {
   "cell_type": "code",
   "execution_count": 98,
   "metadata": {},
   "outputs": [
    {
     "data": {
      "text/html": [
       "<div>\n",
       "<style scoped>\n",
       "    .dataframe tbody tr th:only-of-type {\n",
       "        vertical-align: middle;\n",
       "    }\n",
       "\n",
       "    .dataframe tbody tr th {\n",
       "        vertical-align: top;\n",
       "    }\n",
       "\n",
       "    .dataframe thead th {\n",
       "        text-align: right;\n",
       "    }\n",
       "</style>\n",
       "<table border=\"1\" class=\"dataframe\">\n",
       "  <thead>\n",
       "    <tr style=\"text-align: right;\">\n",
       "      <th></th>\n",
       "      <th>purchase</th>\n",
       "      <th>view</th>\n",
       "    </tr>\n",
       "  </thead>\n",
       "  <tbody>\n",
       "    <tr>\n",
       "      <th>2018-05-31</th>\n",
       "      <td>1</td>\n",
       "      <td>15</td>\n",
       "    </tr>\n",
       "    <tr>\n",
       "      <th>2018-06-30</th>\n",
       "      <td>1</td>\n",
       "      <td>19</td>\n",
       "    </tr>\n",
       "  </tbody>\n",
       "</table>\n",
       "</div>"
      ],
      "text/plain": [
       "            purchase  view\n",
       "2018-05-31         1    15\n",
       "2018-06-30         1    19"
      ]
     },
     "execution_count": 98,
     "metadata": {},
     "output_type": "execute_result"
    }
   ],
   "source": [
    "monthlyStat.loc[15]"
   ]
  },
  {
   "cell_type": "code",
   "execution_count": 99,
   "metadata": {},
   "outputs": [],
   "source": [
    "monthlyStat.reset_index(level=1,drop=True, inplace=True)"
   ]
  },
  {
   "cell_type": "code",
   "execution_count": 100,
   "metadata": {},
   "outputs": [
    {
     "data": {
      "text/html": [
       "<div>\n",
       "<style scoped>\n",
       "    .dataframe tbody tr th:only-of-type {\n",
       "        vertical-align: middle;\n",
       "    }\n",
       "\n",
       "    .dataframe tbody tr th {\n",
       "        vertical-align: top;\n",
       "    }\n",
       "\n",
       "    .dataframe thead th {\n",
       "        text-align: right;\n",
       "    }\n",
       "</style>\n",
       "<table border=\"1\" class=\"dataframe\">\n",
       "  <thead>\n",
       "    <tr style=\"text-align: right;\">\n",
       "      <th></th>\n",
       "      <th></th>\n",
       "      <th>purchase</th>\n",
       "      <th>view</th>\n",
       "    </tr>\n",
       "  </thead>\n",
       "  <tbody>\n",
       "    <tr>\n",
       "      <th rowspan=\"2\" valign=\"top\">2</th>\n",
       "      <th>purchase</th>\n",
       "      <td>1.000000</td>\n",
       "      <td>-0.110291</td>\n",
       "    </tr>\n",
       "    <tr>\n",
       "      <th>view</th>\n",
       "      <td>-0.110291</td>\n",
       "      <td>1.000000</td>\n",
       "    </tr>\n",
       "    <tr>\n",
       "      <th rowspan=\"2\" valign=\"top\">3</th>\n",
       "      <th>purchase</th>\n",
       "      <td>1.000000</td>\n",
       "      <td>0.196388</td>\n",
       "    </tr>\n",
       "    <tr>\n",
       "      <th>view</th>\n",
       "      <td>0.196388</td>\n",
       "      <td>1.000000</td>\n",
       "    </tr>\n",
       "    <tr>\n",
       "      <th rowspan=\"2\" valign=\"top\">14</th>\n",
       "      <th>purchase</th>\n",
       "      <td>1.000000</td>\n",
       "      <td>0.053417</td>\n",
       "    </tr>\n",
       "    <tr>\n",
       "      <th>view</th>\n",
       "      <td>0.053417</td>\n",
       "      <td>1.000000</td>\n",
       "    </tr>\n",
       "    <tr>\n",
       "      <th rowspan=\"2\" valign=\"top\">15</th>\n",
       "      <th>purchase</th>\n",
       "      <td>NaN</td>\n",
       "      <td>NaN</td>\n",
       "    </tr>\n",
       "    <tr>\n",
       "      <th>view</th>\n",
       "      <td>NaN</td>\n",
       "      <td>1.000000</td>\n",
       "    </tr>\n",
       "    <tr>\n",
       "      <th rowspan=\"2\" valign=\"top\">18</th>\n",
       "      <th>purchase</th>\n",
       "      <td>NaN</td>\n",
       "      <td>NaN</td>\n",
       "    </tr>\n",
       "    <tr>\n",
       "      <th>view</th>\n",
       "      <td>NaN</td>\n",
       "      <td>1.000000</td>\n",
       "    </tr>\n",
       "    <tr>\n",
       "      <th rowspan=\"2\" valign=\"top\">23</th>\n",
       "      <th>purchase</th>\n",
       "      <td>1.000000</td>\n",
       "      <td>-0.212022</td>\n",
       "    </tr>\n",
       "    <tr>\n",
       "      <th>view</th>\n",
       "      <td>-0.212022</td>\n",
       "      <td>1.000000</td>\n",
       "    </tr>\n",
       "    <tr>\n",
       "      <th rowspan=\"2\" valign=\"top\">24</th>\n",
       "      <th>purchase</th>\n",
       "      <td>NaN</td>\n",
       "      <td>NaN</td>\n",
       "    </tr>\n",
       "    <tr>\n",
       "      <th>view</th>\n",
       "      <td>NaN</td>\n",
       "      <td>NaN</td>\n",
       "    </tr>\n",
       "    <tr>\n",
       "      <th rowspan=\"2\" valign=\"top\">25</th>\n",
       "      <th>purchase</th>\n",
       "      <td>NaN</td>\n",
       "      <td>NaN</td>\n",
       "    </tr>\n",
       "    <tr>\n",
       "      <th>view</th>\n",
       "      <td>NaN</td>\n",
       "      <td>NaN</td>\n",
       "    </tr>\n",
       "    <tr>\n",
       "      <th rowspan=\"2\" valign=\"top\">27</th>\n",
       "      <th>purchase</th>\n",
       "      <td>NaN</td>\n",
       "      <td>NaN</td>\n",
       "    </tr>\n",
       "    <tr>\n",
       "      <th>view</th>\n",
       "      <td>NaN</td>\n",
       "      <td>NaN</td>\n",
       "    </tr>\n",
       "    <tr>\n",
       "      <th rowspan=\"2\" valign=\"top\">28</th>\n",
       "      <th>purchase</th>\n",
       "      <td>NaN</td>\n",
       "      <td>NaN</td>\n",
       "    </tr>\n",
       "    <tr>\n",
       "      <th>view</th>\n",
       "      <td>NaN</td>\n",
       "      <td>NaN</td>\n",
       "    </tr>\n",
       "    <tr>\n",
       "      <th rowspan=\"2\" valign=\"top\">32</th>\n",
       "      <th>purchase</th>\n",
       "      <td>NaN</td>\n",
       "      <td>NaN</td>\n",
       "    </tr>\n",
       "    <tr>\n",
       "      <th>view</th>\n",
       "      <td>NaN</td>\n",
       "      <td>NaN</td>\n",
       "    </tr>\n",
       "    <tr>\n",
       "      <th rowspan=\"2\" valign=\"top\">33</th>\n",
       "      <th>purchase</th>\n",
       "      <td>NaN</td>\n",
       "      <td>NaN</td>\n",
       "    </tr>\n",
       "    <tr>\n",
       "      <th>view</th>\n",
       "      <td>NaN</td>\n",
       "      <td>NaN</td>\n",
       "    </tr>\n",
       "    <tr>\n",
       "      <th rowspan=\"2\" valign=\"top\">34</th>\n",
       "      <th>purchase</th>\n",
       "      <td>NaN</td>\n",
       "      <td>NaN</td>\n",
       "    </tr>\n",
       "    <tr>\n",
       "      <th>view</th>\n",
       "      <td>NaN</td>\n",
       "      <td>NaN</td>\n",
       "    </tr>\n",
       "    <tr>\n",
       "      <th rowspan=\"2\" valign=\"top\">35</th>\n",
       "      <th>purchase</th>\n",
       "      <td>NaN</td>\n",
       "      <td>NaN</td>\n",
       "    </tr>\n",
       "    <tr>\n",
       "      <th>view</th>\n",
       "      <td>NaN</td>\n",
       "      <td>NaN</td>\n",
       "    </tr>\n",
       "    <tr>\n",
       "      <th rowspan=\"2\" valign=\"top\">37</th>\n",
       "      <th>purchase</th>\n",
       "      <td>1.000000</td>\n",
       "      <td>-0.516722</td>\n",
       "    </tr>\n",
       "    <tr>\n",
       "      <th>view</th>\n",
       "      <td>-0.516722</td>\n",
       "      <td>1.000000</td>\n",
       "    </tr>\n",
       "    <tr>\n",
       "      <th>...</th>\n",
       "      <th>...</th>\n",
       "      <td>...</td>\n",
       "      <td>...</td>\n",
       "    </tr>\n",
       "    <tr>\n",
       "      <th rowspan=\"2\" valign=\"top\">3701</th>\n",
       "      <th>purchase</th>\n",
       "      <td>NaN</td>\n",
       "      <td>NaN</td>\n",
       "    </tr>\n",
       "    <tr>\n",
       "      <th>view</th>\n",
       "      <td>NaN</td>\n",
       "      <td>NaN</td>\n",
       "    </tr>\n",
       "    <tr>\n",
       "      <th rowspan=\"2\" valign=\"top\">3703</th>\n",
       "      <th>purchase</th>\n",
       "      <td>NaN</td>\n",
       "      <td>NaN</td>\n",
       "    </tr>\n",
       "    <tr>\n",
       "      <th>view</th>\n",
       "      <td>NaN</td>\n",
       "      <td>NaN</td>\n",
       "    </tr>\n",
       "    <tr>\n",
       "      <th rowspan=\"2\" valign=\"top\">3717</th>\n",
       "      <th>purchase</th>\n",
       "      <td>NaN</td>\n",
       "      <td>NaN</td>\n",
       "    </tr>\n",
       "    <tr>\n",
       "      <th>view</th>\n",
       "      <td>NaN</td>\n",
       "      <td>NaN</td>\n",
       "    </tr>\n",
       "    <tr>\n",
       "      <th rowspan=\"2\" valign=\"top\">3720</th>\n",
       "      <th>purchase</th>\n",
       "      <td>NaN</td>\n",
       "      <td>NaN</td>\n",
       "    </tr>\n",
       "    <tr>\n",
       "      <th>view</th>\n",
       "      <td>NaN</td>\n",
       "      <td>NaN</td>\n",
       "    </tr>\n",
       "    <tr>\n",
       "      <th rowspan=\"2\" valign=\"top\">3722</th>\n",
       "      <th>purchase</th>\n",
       "      <td>NaN</td>\n",
       "      <td>NaN</td>\n",
       "    </tr>\n",
       "    <tr>\n",
       "      <th>view</th>\n",
       "      <td>NaN</td>\n",
       "      <td>NaN</td>\n",
       "    </tr>\n",
       "    <tr>\n",
       "      <th rowspan=\"2\" valign=\"top\">3742</th>\n",
       "      <th>purchase</th>\n",
       "      <td>1.000000</td>\n",
       "      <td>-1.000000</td>\n",
       "    </tr>\n",
       "    <tr>\n",
       "      <th>view</th>\n",
       "      <td>-1.000000</td>\n",
       "      <td>1.000000</td>\n",
       "    </tr>\n",
       "    <tr>\n",
       "      <th rowspan=\"2\" valign=\"top\">3743</th>\n",
       "      <th>purchase</th>\n",
       "      <td>NaN</td>\n",
       "      <td>NaN</td>\n",
       "    </tr>\n",
       "    <tr>\n",
       "      <th>view</th>\n",
       "      <td>NaN</td>\n",
       "      <td>NaN</td>\n",
       "    </tr>\n",
       "    <tr>\n",
       "      <th rowspan=\"2\" valign=\"top\">3771</th>\n",
       "      <th>purchase</th>\n",
       "      <td>NaN</td>\n",
       "      <td>NaN</td>\n",
       "    </tr>\n",
       "    <tr>\n",
       "      <th>view</th>\n",
       "      <td>NaN</td>\n",
       "      <td>NaN</td>\n",
       "    </tr>\n",
       "    <tr>\n",
       "      <th rowspan=\"2\" valign=\"top\">3789</th>\n",
       "      <th>purchase</th>\n",
       "      <td>NaN</td>\n",
       "      <td>NaN</td>\n",
       "    </tr>\n",
       "    <tr>\n",
       "      <th>view</th>\n",
       "      <td>NaN</td>\n",
       "      <td>NaN</td>\n",
       "    </tr>\n",
       "    <tr>\n",
       "      <th rowspan=\"2\" valign=\"top\">3793</th>\n",
       "      <th>purchase</th>\n",
       "      <td>NaN</td>\n",
       "      <td>NaN</td>\n",
       "    </tr>\n",
       "    <tr>\n",
       "      <th>view</th>\n",
       "      <td>NaN</td>\n",
       "      <td>NaN</td>\n",
       "    </tr>\n",
       "    <tr>\n",
       "      <th rowspan=\"2\" valign=\"top\">3794</th>\n",
       "      <th>purchase</th>\n",
       "      <td>NaN</td>\n",
       "      <td>NaN</td>\n",
       "    </tr>\n",
       "    <tr>\n",
       "      <th>view</th>\n",
       "      <td>NaN</td>\n",
       "      <td>NaN</td>\n",
       "    </tr>\n",
       "    <tr>\n",
       "      <th rowspan=\"2\" valign=\"top\">3801</th>\n",
       "      <th>purchase</th>\n",
       "      <td>NaN</td>\n",
       "      <td>NaN</td>\n",
       "    </tr>\n",
       "    <tr>\n",
       "      <th>view</th>\n",
       "      <td>NaN</td>\n",
       "      <td>NaN</td>\n",
       "    </tr>\n",
       "    <tr>\n",
       "      <th rowspan=\"2\" valign=\"top\">3804</th>\n",
       "      <th>purchase</th>\n",
       "      <td>NaN</td>\n",
       "      <td>NaN</td>\n",
       "    </tr>\n",
       "    <tr>\n",
       "      <th>view</th>\n",
       "      <td>NaN</td>\n",
       "      <td>NaN</td>\n",
       "    </tr>\n",
       "    <tr>\n",
       "      <th rowspan=\"2\" valign=\"top\">3815</th>\n",
       "      <th>purchase</th>\n",
       "      <td>NaN</td>\n",
       "      <td>NaN</td>\n",
       "    </tr>\n",
       "    <tr>\n",
       "      <th>view</th>\n",
       "      <td>NaN</td>\n",
       "      <td>NaN</td>\n",
       "    </tr>\n",
       "    <tr>\n",
       "      <th rowspan=\"2\" valign=\"top\">3849</th>\n",
       "      <th>purchase</th>\n",
       "      <td>NaN</td>\n",
       "      <td>NaN</td>\n",
       "    </tr>\n",
       "    <tr>\n",
       "      <th>view</th>\n",
       "      <td>NaN</td>\n",
       "      <td>NaN</td>\n",
       "    </tr>\n",
       "  </tbody>\n",
       "</table>\n",
       "<p>3754 rows × 2 columns</p>\n",
       "</div>"
      ],
      "text/plain": [
       "               purchase      view\n",
       "2    purchase  1.000000 -0.110291\n",
       "     view     -0.110291  1.000000\n",
       "3    purchase  1.000000  0.196388\n",
       "     view      0.196388  1.000000\n",
       "14   purchase  1.000000  0.053417\n",
       "     view      0.053417  1.000000\n",
       "15   purchase       NaN       NaN\n",
       "     view           NaN  1.000000\n",
       "18   purchase       NaN       NaN\n",
       "     view           NaN  1.000000\n",
       "23   purchase  1.000000 -0.212022\n",
       "     view     -0.212022  1.000000\n",
       "24   purchase       NaN       NaN\n",
       "     view           NaN       NaN\n",
       "25   purchase       NaN       NaN\n",
       "     view           NaN       NaN\n",
       "27   purchase       NaN       NaN\n",
       "     view           NaN       NaN\n",
       "28   purchase       NaN       NaN\n",
       "     view           NaN       NaN\n",
       "32   purchase       NaN       NaN\n",
       "     view           NaN       NaN\n",
       "33   purchase       NaN       NaN\n",
       "     view           NaN       NaN\n",
       "34   purchase       NaN       NaN\n",
       "     view           NaN       NaN\n",
       "35   purchase       NaN       NaN\n",
       "     view           NaN       NaN\n",
       "37   purchase  1.000000 -0.516722\n",
       "     view     -0.516722  1.000000\n",
       "...                 ...       ...\n",
       "3701 purchase       NaN       NaN\n",
       "     view           NaN       NaN\n",
       "3703 purchase       NaN       NaN\n",
       "     view           NaN       NaN\n",
       "3717 purchase       NaN       NaN\n",
       "     view           NaN       NaN\n",
       "3720 purchase       NaN       NaN\n",
       "     view           NaN       NaN\n",
       "3722 purchase       NaN       NaN\n",
       "     view           NaN       NaN\n",
       "3742 purchase  1.000000 -1.000000\n",
       "     view     -1.000000  1.000000\n",
       "3743 purchase       NaN       NaN\n",
       "     view           NaN       NaN\n",
       "3771 purchase       NaN       NaN\n",
       "     view           NaN       NaN\n",
       "3789 purchase       NaN       NaN\n",
       "     view           NaN       NaN\n",
       "3793 purchase       NaN       NaN\n",
       "     view           NaN       NaN\n",
       "3794 purchase       NaN       NaN\n",
       "     view           NaN       NaN\n",
       "3801 purchase       NaN       NaN\n",
       "     view           NaN       NaN\n",
       "3804 purchase       NaN       NaN\n",
       "     view           NaN       NaN\n",
       "3815 purchase       NaN       NaN\n",
       "     view           NaN       NaN\n",
       "3849 purchase       NaN       NaN\n",
       "     view           NaN       NaN\n",
       "\n",
       "[3754 rows x 2 columns]"
      ]
     },
     "execution_count": 100,
     "metadata": {},
     "output_type": "execute_result"
    }
   ],
   "source": [
    "monthlyStat.groupby(monthlyStat.index).corr()"
   ]
  },
  {
   "cell_type": "code",
   "execution_count": 82,
   "metadata": {},
   "outputs": [
    {
     "data": {
      "text/html": [
       "<div>\n",
       "<style scoped>\n",
       "    .dataframe tbody tr th:only-of-type {\n",
       "        vertical-align: middle;\n",
       "    }\n",
       "\n",
       "    .dataframe tbody tr th {\n",
       "        vertical-align: top;\n",
       "    }\n",
       "\n",
       "    .dataframe thead th {\n",
       "        text-align: right;\n",
       "    }\n",
       "</style>\n",
       "<table border=\"1\" class=\"dataframe\">\n",
       "  <thead>\n",
       "    <tr style=\"text-align: right;\">\n",
       "      <th></th>\n",
       "      <th></th>\n",
       "      <th>customer_id</th>\n",
       "      <th>customer_id</th>\n",
       "    </tr>\n",
       "  </thead>\n",
       "  <tbody>\n",
       "    <tr>\n",
       "      <th rowspan=\"2\" valign=\"top\">(2, 2018-01-31 00:00:00)</th>\n",
       "      <th>customer_id</th>\n",
       "      <td>NaN</td>\n",
       "      <td>NaN</td>\n",
       "    </tr>\n",
       "    <tr>\n",
       "      <th>customer_id</th>\n",
       "      <td>NaN</td>\n",
       "      <td>NaN</td>\n",
       "    </tr>\n",
       "    <tr>\n",
       "      <th rowspan=\"2\" valign=\"top\">(2, 2018-02-28 00:00:00)</th>\n",
       "      <th>customer_id</th>\n",
       "      <td>NaN</td>\n",
       "      <td>NaN</td>\n",
       "    </tr>\n",
       "    <tr>\n",
       "      <th>customer_id</th>\n",
       "      <td>NaN</td>\n",
       "      <td>NaN</td>\n",
       "    </tr>\n",
       "    <tr>\n",
       "      <th rowspan=\"2\" valign=\"top\">(2, 2018-03-31 00:00:00)</th>\n",
       "      <th>customer_id</th>\n",
       "      <td>NaN</td>\n",
       "      <td>NaN</td>\n",
       "    </tr>\n",
       "    <tr>\n",
       "      <th>customer_id</th>\n",
       "      <td>NaN</td>\n",
       "      <td>NaN</td>\n",
       "    </tr>\n",
       "    <tr>\n",
       "      <th rowspan=\"2\" valign=\"top\">(2, 2018-04-30 00:00:00)</th>\n",
       "      <th>customer_id</th>\n",
       "      <td>NaN</td>\n",
       "      <td>NaN</td>\n",
       "    </tr>\n",
       "    <tr>\n",
       "      <th>customer_id</th>\n",
       "      <td>NaN</td>\n",
       "      <td>NaN</td>\n",
       "    </tr>\n",
       "    <tr>\n",
       "      <th rowspan=\"2\" valign=\"top\">(2, 2018-05-31 00:00:00)</th>\n",
       "      <th>customer_id</th>\n",
       "      <td>NaN</td>\n",
       "      <td>NaN</td>\n",
       "    </tr>\n",
       "    <tr>\n",
       "      <th>customer_id</th>\n",
       "      <td>NaN</td>\n",
       "      <td>NaN</td>\n",
       "    </tr>\n",
       "    <tr>\n",
       "      <th rowspan=\"2\" valign=\"top\">(2, 2018-06-30 00:00:00)</th>\n",
       "      <th>customer_id</th>\n",
       "      <td>NaN</td>\n",
       "      <td>NaN</td>\n",
       "    </tr>\n",
       "    <tr>\n",
       "      <th>customer_id</th>\n",
       "      <td>NaN</td>\n",
       "      <td>NaN</td>\n",
       "    </tr>\n",
       "    <tr>\n",
       "      <th rowspan=\"2\" valign=\"top\">(2, 2018-07-31 00:00:00)</th>\n",
       "      <th>customer_id</th>\n",
       "      <td>NaN</td>\n",
       "      <td>NaN</td>\n",
       "    </tr>\n",
       "    <tr>\n",
       "      <th>customer_id</th>\n",
       "      <td>NaN</td>\n",
       "      <td>NaN</td>\n",
       "    </tr>\n",
       "    <tr>\n",
       "      <th rowspan=\"2\" valign=\"top\">(2, 2018-08-31 00:00:00)</th>\n",
       "      <th>customer_id</th>\n",
       "      <td>NaN</td>\n",
       "      <td>NaN</td>\n",
       "    </tr>\n",
       "    <tr>\n",
       "      <th>customer_id</th>\n",
       "      <td>NaN</td>\n",
       "      <td>NaN</td>\n",
       "    </tr>\n",
       "    <tr>\n",
       "      <th rowspan=\"2\" valign=\"top\">(2, 2018-09-30 00:00:00)</th>\n",
       "      <th>customer_id</th>\n",
       "      <td>NaN</td>\n",
       "      <td>NaN</td>\n",
       "    </tr>\n",
       "    <tr>\n",
       "      <th>customer_id</th>\n",
       "      <td>NaN</td>\n",
       "      <td>NaN</td>\n",
       "    </tr>\n",
       "    <tr>\n",
       "      <th rowspan=\"2\" valign=\"top\">(3, 2018-02-28 00:00:00)</th>\n",
       "      <th>customer_id</th>\n",
       "      <td>NaN</td>\n",
       "      <td>NaN</td>\n",
       "    </tr>\n",
       "    <tr>\n",
       "      <th>customer_id</th>\n",
       "      <td>NaN</td>\n",
       "      <td>NaN</td>\n",
       "    </tr>\n",
       "    <tr>\n",
       "      <th rowspan=\"2\" valign=\"top\">(3, 2018-03-31 00:00:00)</th>\n",
       "      <th>customer_id</th>\n",
       "      <td>NaN</td>\n",
       "      <td>NaN</td>\n",
       "    </tr>\n",
       "    <tr>\n",
       "      <th>customer_id</th>\n",
       "      <td>NaN</td>\n",
       "      <td>NaN</td>\n",
       "    </tr>\n",
       "    <tr>\n",
       "      <th rowspan=\"2\" valign=\"top\">(3, 2018-04-30 00:00:00)</th>\n",
       "      <th>customer_id</th>\n",
       "      <td>NaN</td>\n",
       "      <td>NaN</td>\n",
       "    </tr>\n",
       "    <tr>\n",
       "      <th>customer_id</th>\n",
       "      <td>NaN</td>\n",
       "      <td>NaN</td>\n",
       "    </tr>\n",
       "    <tr>\n",
       "      <th rowspan=\"2\" valign=\"top\">(3, 2018-05-31 00:00:00)</th>\n",
       "      <th>customer_id</th>\n",
       "      <td>NaN</td>\n",
       "      <td>NaN</td>\n",
       "    </tr>\n",
       "    <tr>\n",
       "      <th>customer_id</th>\n",
       "      <td>NaN</td>\n",
       "      <td>NaN</td>\n",
       "    </tr>\n",
       "    <tr>\n",
       "      <th rowspan=\"2\" valign=\"top\">(3, 2018-06-30 00:00:00)</th>\n",
       "      <th>customer_id</th>\n",
       "      <td>NaN</td>\n",
       "      <td>NaN</td>\n",
       "    </tr>\n",
       "    <tr>\n",
       "      <th>customer_id</th>\n",
       "      <td>NaN</td>\n",
       "      <td>NaN</td>\n",
       "    </tr>\n",
       "    <tr>\n",
       "      <th rowspan=\"2\" valign=\"top\">(3, 2018-07-31 00:00:00)</th>\n",
       "      <th>customer_id</th>\n",
       "      <td>NaN</td>\n",
       "      <td>NaN</td>\n",
       "    </tr>\n",
       "    <tr>\n",
       "      <th>customer_id</th>\n",
       "      <td>NaN</td>\n",
       "      <td>NaN</td>\n",
       "    </tr>\n",
       "    <tr>\n",
       "      <th>...</th>\n",
       "      <th>...</th>\n",
       "      <td>...</td>\n",
       "      <td>...</td>\n",
       "    </tr>\n",
       "    <tr>\n",
       "      <th rowspan=\"2\" valign=\"top\">(3703, 2018-09-30 00:00:00)</th>\n",
       "      <th>customer_id</th>\n",
       "      <td>NaN</td>\n",
       "      <td>NaN</td>\n",
       "    </tr>\n",
       "    <tr>\n",
       "      <th>customer_id</th>\n",
       "      <td>NaN</td>\n",
       "      <td>NaN</td>\n",
       "    </tr>\n",
       "    <tr>\n",
       "      <th rowspan=\"2\" valign=\"top\">(3717, 2018-09-30 00:00:00)</th>\n",
       "      <th>customer_id</th>\n",
       "      <td>NaN</td>\n",
       "      <td>NaN</td>\n",
       "    </tr>\n",
       "    <tr>\n",
       "      <th>customer_id</th>\n",
       "      <td>NaN</td>\n",
       "      <td>NaN</td>\n",
       "    </tr>\n",
       "    <tr>\n",
       "      <th rowspan=\"2\" valign=\"top\">(3720, 2018-07-31 00:00:00)</th>\n",
       "      <th>customer_id</th>\n",
       "      <td>NaN</td>\n",
       "      <td>NaN</td>\n",
       "    </tr>\n",
       "    <tr>\n",
       "      <th>customer_id</th>\n",
       "      <td>NaN</td>\n",
       "      <td>NaN</td>\n",
       "    </tr>\n",
       "    <tr>\n",
       "      <th rowspan=\"2\" valign=\"top\">(3722, 2018-09-30 00:00:00)</th>\n",
       "      <th>customer_id</th>\n",
       "      <td>NaN</td>\n",
       "      <td>NaN</td>\n",
       "    </tr>\n",
       "    <tr>\n",
       "      <th>customer_id</th>\n",
       "      <td>NaN</td>\n",
       "      <td>NaN</td>\n",
       "    </tr>\n",
       "    <tr>\n",
       "      <th rowspan=\"2\" valign=\"top\">(3742, 2018-08-31 00:00:00)</th>\n",
       "      <th>customer_id</th>\n",
       "      <td>NaN</td>\n",
       "      <td>NaN</td>\n",
       "    </tr>\n",
       "    <tr>\n",
       "      <th>customer_id</th>\n",
       "      <td>NaN</td>\n",
       "      <td>NaN</td>\n",
       "    </tr>\n",
       "    <tr>\n",
       "      <th rowspan=\"2\" valign=\"top\">(3742, 2018-09-30 00:00:00)</th>\n",
       "      <th>customer_id</th>\n",
       "      <td>NaN</td>\n",
       "      <td>NaN</td>\n",
       "    </tr>\n",
       "    <tr>\n",
       "      <th>customer_id</th>\n",
       "      <td>NaN</td>\n",
       "      <td>NaN</td>\n",
       "    </tr>\n",
       "    <tr>\n",
       "      <th rowspan=\"2\" valign=\"top\">(3743, 2018-09-30 00:00:00)</th>\n",
       "      <th>customer_id</th>\n",
       "      <td>NaN</td>\n",
       "      <td>NaN</td>\n",
       "    </tr>\n",
       "    <tr>\n",
       "      <th>customer_id</th>\n",
       "      <td>NaN</td>\n",
       "      <td>NaN</td>\n",
       "    </tr>\n",
       "    <tr>\n",
       "      <th rowspan=\"2\" valign=\"top\">(3771, 2018-09-30 00:00:00)</th>\n",
       "      <th>customer_id</th>\n",
       "      <td>NaN</td>\n",
       "      <td>NaN</td>\n",
       "    </tr>\n",
       "    <tr>\n",
       "      <th>customer_id</th>\n",
       "      <td>NaN</td>\n",
       "      <td>NaN</td>\n",
       "    </tr>\n",
       "    <tr>\n",
       "      <th rowspan=\"2\" valign=\"top\">(3789, 2018-09-30 00:00:00)</th>\n",
       "      <th>customer_id</th>\n",
       "      <td>NaN</td>\n",
       "      <td>NaN</td>\n",
       "    </tr>\n",
       "    <tr>\n",
       "      <th>customer_id</th>\n",
       "      <td>NaN</td>\n",
       "      <td>NaN</td>\n",
       "    </tr>\n",
       "    <tr>\n",
       "      <th rowspan=\"2\" valign=\"top\">(3793, 2018-09-30 00:00:00)</th>\n",
       "      <th>customer_id</th>\n",
       "      <td>NaN</td>\n",
       "      <td>NaN</td>\n",
       "    </tr>\n",
       "    <tr>\n",
       "      <th>customer_id</th>\n",
       "      <td>NaN</td>\n",
       "      <td>NaN</td>\n",
       "    </tr>\n",
       "    <tr>\n",
       "      <th rowspan=\"2\" valign=\"top\">(3794, 2018-09-30 00:00:00)</th>\n",
       "      <th>customer_id</th>\n",
       "      <td>NaN</td>\n",
       "      <td>NaN</td>\n",
       "    </tr>\n",
       "    <tr>\n",
       "      <th>customer_id</th>\n",
       "      <td>NaN</td>\n",
       "      <td>NaN</td>\n",
       "    </tr>\n",
       "    <tr>\n",
       "      <th rowspan=\"2\" valign=\"top\">(3801, 2018-09-30 00:00:00)</th>\n",
       "      <th>customer_id</th>\n",
       "      <td>NaN</td>\n",
       "      <td>NaN</td>\n",
       "    </tr>\n",
       "    <tr>\n",
       "      <th>customer_id</th>\n",
       "      <td>NaN</td>\n",
       "      <td>NaN</td>\n",
       "    </tr>\n",
       "    <tr>\n",
       "      <th rowspan=\"2\" valign=\"top\">(3804, 2018-09-30 00:00:00)</th>\n",
       "      <th>customer_id</th>\n",
       "      <td>NaN</td>\n",
       "      <td>NaN</td>\n",
       "    </tr>\n",
       "    <tr>\n",
       "      <th>customer_id</th>\n",
       "      <td>NaN</td>\n",
       "      <td>NaN</td>\n",
       "    </tr>\n",
       "    <tr>\n",
       "      <th rowspan=\"2\" valign=\"top\">(3815, 2018-09-30 00:00:00)</th>\n",
       "      <th>customer_id</th>\n",
       "      <td>NaN</td>\n",
       "      <td>NaN</td>\n",
       "    </tr>\n",
       "    <tr>\n",
       "      <th>customer_id</th>\n",
       "      <td>NaN</td>\n",
       "      <td>NaN</td>\n",
       "    </tr>\n",
       "    <tr>\n",
       "      <th rowspan=\"2\" valign=\"top\">(3849, 2018-09-30 00:00:00)</th>\n",
       "      <th>customer_id</th>\n",
       "      <td>NaN</td>\n",
       "      <td>NaN</td>\n",
       "    </tr>\n",
       "    <tr>\n",
       "      <th>customer_id</th>\n",
       "      <td>NaN</td>\n",
       "      <td>NaN</td>\n",
       "    </tr>\n",
       "  </tbody>\n",
       "</table>\n",
       "<p>12762 rows × 2 columns</p>\n",
       "</div>"
      ],
      "text/plain": [
       "                                         customer_id  customer_id\n",
       "(2, 2018-01-31 00:00:00)    customer_id          NaN          NaN\n",
       "                            customer_id          NaN          NaN\n",
       "(2, 2018-02-28 00:00:00)    customer_id          NaN          NaN\n",
       "                            customer_id          NaN          NaN\n",
       "(2, 2018-03-31 00:00:00)    customer_id          NaN          NaN\n",
       "                            customer_id          NaN          NaN\n",
       "(2, 2018-04-30 00:00:00)    customer_id          NaN          NaN\n",
       "                            customer_id          NaN          NaN\n",
       "(2, 2018-05-31 00:00:00)    customer_id          NaN          NaN\n",
       "                            customer_id          NaN          NaN\n",
       "(2, 2018-06-30 00:00:00)    customer_id          NaN          NaN\n",
       "                            customer_id          NaN          NaN\n",
       "(2, 2018-07-31 00:00:00)    customer_id          NaN          NaN\n",
       "                            customer_id          NaN          NaN\n",
       "(2, 2018-08-31 00:00:00)    customer_id          NaN          NaN\n",
       "                            customer_id          NaN          NaN\n",
       "(2, 2018-09-30 00:00:00)    customer_id          NaN          NaN\n",
       "                            customer_id          NaN          NaN\n",
       "(3, 2018-02-28 00:00:00)    customer_id          NaN          NaN\n",
       "                            customer_id          NaN          NaN\n",
       "(3, 2018-03-31 00:00:00)    customer_id          NaN          NaN\n",
       "                            customer_id          NaN          NaN\n",
       "(3, 2018-04-30 00:00:00)    customer_id          NaN          NaN\n",
       "                            customer_id          NaN          NaN\n",
       "(3, 2018-05-31 00:00:00)    customer_id          NaN          NaN\n",
       "                            customer_id          NaN          NaN\n",
       "(3, 2018-06-30 00:00:00)    customer_id          NaN          NaN\n",
       "                            customer_id          NaN          NaN\n",
       "(3, 2018-07-31 00:00:00)    customer_id          NaN          NaN\n",
       "                            customer_id          NaN          NaN\n",
       "...                                              ...          ...\n",
       "(3703, 2018-09-30 00:00:00) customer_id          NaN          NaN\n",
       "                            customer_id          NaN          NaN\n",
       "(3717, 2018-09-30 00:00:00) customer_id          NaN          NaN\n",
       "                            customer_id          NaN          NaN\n",
       "(3720, 2018-07-31 00:00:00) customer_id          NaN          NaN\n",
       "                            customer_id          NaN          NaN\n",
       "(3722, 2018-09-30 00:00:00) customer_id          NaN          NaN\n",
       "                            customer_id          NaN          NaN\n",
       "(3742, 2018-08-31 00:00:00) customer_id          NaN          NaN\n",
       "                            customer_id          NaN          NaN\n",
       "(3742, 2018-09-30 00:00:00) customer_id          NaN          NaN\n",
       "                            customer_id          NaN          NaN\n",
       "(3743, 2018-09-30 00:00:00) customer_id          NaN          NaN\n",
       "                            customer_id          NaN          NaN\n",
       "(3771, 2018-09-30 00:00:00) customer_id          NaN          NaN\n",
       "                            customer_id          NaN          NaN\n",
       "(3789, 2018-09-30 00:00:00) customer_id          NaN          NaN\n",
       "                            customer_id          NaN          NaN\n",
       "(3793, 2018-09-30 00:00:00) customer_id          NaN          NaN\n",
       "                            customer_id          NaN          NaN\n",
       "(3794, 2018-09-30 00:00:00) customer_id          NaN          NaN\n",
       "                            customer_id          NaN          NaN\n",
       "(3801, 2018-09-30 00:00:00) customer_id          NaN          NaN\n",
       "                            customer_id          NaN          NaN\n",
       "(3804, 2018-09-30 00:00:00) customer_id          NaN          NaN\n",
       "                            customer_id          NaN          NaN\n",
       "(3815, 2018-09-30 00:00:00) customer_id          NaN          NaN\n",
       "                            customer_id          NaN          NaN\n",
       "(3849, 2018-09-30 00:00:00) customer_id          NaN          NaN\n",
       "                            customer_id          NaN          NaN\n",
       "\n",
       "[12762 rows x 2 columns]"
      ]
     },
     "execution_count": 82,
     "metadata": {},
     "output_type": "execute_result"
    }
   ],
   "source": [
    "a.corr()"
   ]
  },
  {
   "cell_type": "code",
   "execution_count": 130,
   "metadata": {},
   "outputs": [
    {
     "data": {
      "text/plain": [
       "Timestamp('2018-10-02 19:17:09.567000')"
      ]
     },
     "execution_count": 130,
     "metadata": {},
     "output_type": "execute_result"
    }
   ],
   "source": [
    "views[views['product_id'] == 3742].index[lastEntry]"
   ]
  },
  {
   "cell_type": "code",
   "execution_count": 123,
   "metadata": {},
   "outputs": [
    {
     "data": {
      "text/html": [
       "<div>\n",
       "<style scoped>\n",
       "    .dataframe tbody tr th:only-of-type {\n",
       "        vertical-align: middle;\n",
       "    }\n",
       "\n",
       "    .dataframe tbody tr th {\n",
       "        vertical-align: top;\n",
       "    }\n",
       "\n",
       "    .dataframe thead th {\n",
       "        text-align: right;\n",
       "    }\n",
       "</style>\n",
       "<table border=\"1\" class=\"dataframe\">\n",
       "  <thead>\n",
       "    <tr style=\"text-align: right;\">\n",
       "      <th></th>\n",
       "      <th>customer_id</th>\n",
       "      <th>product_id</th>\n",
       "      <th>full_price</th>\n",
       "      <th>actual_price</th>\n",
       "    </tr>\n",
       "    <tr>\n",
       "      <th>timestamp</th>\n",
       "      <th></th>\n",
       "      <th></th>\n",
       "      <th></th>\n",
       "      <th></th>\n",
       "    </tr>\n",
       "  </thead>\n",
       "  <tbody>\n",
       "    <tr>\n",
       "      <th>2018-10-02 11:55:15.994</th>\n",
       "      <td>fdf7cc89ddbc5295</td>\n",
       "      <td>3742</td>\n",
       "      <td>10.743802</td>\n",
       "      <td>10.743802</td>\n",
       "    </tr>\n",
       "    <tr>\n",
       "      <th>2018-10-02 12:08:40.489</th>\n",
       "      <td>fdf7cc89ddbc5295</td>\n",
       "      <td>3742</td>\n",
       "      <td>10.743802</td>\n",
       "      <td>10.743802</td>\n",
       "    </tr>\n",
       "    <tr>\n",
       "      <th>2018-10-02 13:25:12.825</th>\n",
       "      <td>c8ecfa75063e9051</td>\n",
       "      <td>3742</td>\n",
       "      <td>10.743802</td>\n",
       "      <td>10.743802</td>\n",
       "    </tr>\n",
       "    <tr>\n",
       "      <th>2018-10-02 19:16:10.209</th>\n",
       "      <td>ee6b6897ab6059f5</td>\n",
       "      <td>3742</td>\n",
       "      <td>10.743802</td>\n",
       "      <td>10.743802</td>\n",
       "    </tr>\n",
       "    <tr>\n",
       "      <th>2018-10-02 19:17:09.567</th>\n",
       "      <td>ee6b6897ab6059f5</td>\n",
       "      <td>3742</td>\n",
       "      <td>10.743802</td>\n",
       "      <td>10.743802</td>\n",
       "    </tr>\n",
       "  </tbody>\n",
       "</table>\n",
       "</div>"
      ],
      "text/plain": [
       "                              customer_id  product_id  full_price  \\\n",
       "timestamp                                                           \n",
       "2018-10-02 11:55:15.994  fdf7cc89ddbc5295        3742   10.743802   \n",
       "2018-10-02 12:08:40.489  fdf7cc89ddbc5295        3742   10.743802   \n",
       "2018-10-02 13:25:12.825  c8ecfa75063e9051        3742   10.743802   \n",
       "2018-10-02 19:16:10.209  ee6b6897ab6059f5        3742   10.743802   \n",
       "2018-10-02 19:17:09.567  ee6b6897ab6059f5        3742   10.743802   \n",
       "\n",
       "                         actual_price  \n",
       "timestamp                              \n",
       "2018-10-02 11:55:15.994     10.743802  \n",
       "2018-10-02 12:08:40.489     10.743802  \n",
       "2018-10-02 13:25:12.825     10.743802  \n",
       "2018-10-02 19:16:10.209     10.743802  \n",
       "2018-10-02 19:17:09.567     10.743802  "
      ]
     },
     "execution_count": 123,
     "metadata": {},
     "output_type": "execute_result"
    }
   ],
   "source": [
    "views[views['product_id'] == 3742].tail()"
   ]
  },
  {
   "cell_type": "code",
   "execution_count": 135,
   "metadata": {},
   "outputs": [],
   "source": [
    "lastEntry = len(views[views['product_id'] == 2]) - 1"
   ]
  },
  {
   "cell_type": "code",
   "execution_count": 141,
   "metadata": {},
   "outputs": [
    {
     "data": {
      "text/plain": [
       "False"
      ]
     },
     "execution_count": 141,
     "metadata": {},
     "output_type": "execute_result"
    }
   ],
   "source": [
    "(views[views['product_id'] == 2].index[lastEntry] - views[views['product_id'] == 2].index[0]) > pd.Timedelta(days=300)"
   ]
  },
  {
   "cell_type": "code",
   "execution_count": 17,
   "metadata": {},
   "outputs": [],
   "source": [
    "def timeDelta(pid):\n",
    "    lastEntry = len(views[views['product_id'] == pid]) - 1\n",
    "    res = ((views[views['product_id'] == pid].index[lastEntry] - views[views['product_id'] == pid].index[0]) \n",
    "           >\n",
    "           pd.Timedelta(days=150))\n",
    "    return res"
   ]
  },
  {
   "cell_type": "code",
   "execution_count": 10,
   "metadata": {},
   "outputs": [
    {
     "data": {
      "text/plain": [
       "False"
      ]
     },
     "execution_count": 10,
     "metadata": {},
     "output_type": "execute_result"
    }
   ],
   "source": [
    "timeDelta(1962)"
   ]
  },
  {
   "cell_type": "code",
   "execution_count": 13,
   "metadata": {},
   "outputs": [
    {
     "data": {
      "text/html": [
       "<div>\n",
       "<style scoped>\n",
       "    .dataframe tbody tr th:only-of-type {\n",
       "        vertical-align: middle;\n",
       "    }\n",
       "\n",
       "    .dataframe tbody tr th {\n",
       "        vertical-align: top;\n",
       "    }\n",
       "\n",
       "    .dataframe thead th {\n",
       "        text-align: right;\n",
       "    }\n",
       "</style>\n",
       "<table border=\"1\" class=\"dataframe\">\n",
       "  <thead>\n",
       "    <tr style=\"text-align: right;\">\n",
       "      <th></th>\n",
       "      <th>customer_id</th>\n",
       "      <th>product_id</th>\n",
       "      <th>full_price</th>\n",
       "      <th>actual_price</th>\n",
       "    </tr>\n",
       "    <tr>\n",
       "      <th>timestamp</th>\n",
       "      <th></th>\n",
       "      <th></th>\n",
       "      <th></th>\n",
       "      <th></th>\n",
       "    </tr>\n",
       "  </thead>\n",
       "  <tbody>\n",
       "    <tr>\n",
       "      <th>2017-12-31 23:00:21.389</th>\n",
       "      <td>a1768f6141ba9932</td>\n",
       "      <td>1962</td>\n",
       "      <td>238.842975</td>\n",
       "      <td>167.190083</td>\n",
       "    </tr>\n",
       "    <tr>\n",
       "      <th>2017-12-31 23:02:09.316</th>\n",
       "      <td>9afedb29c50f8ab9</td>\n",
       "      <td>804</td>\n",
       "      <td>57.024793</td>\n",
       "      <td>57.024793</td>\n",
       "    </tr>\n",
       "    <tr>\n",
       "      <th>2017-12-31 23:02:43.368</th>\n",
       "      <td>f5d79ddd326abb30</td>\n",
       "      <td>1681</td>\n",
       "      <td>57.851240</td>\n",
       "      <td>57.851240</td>\n",
       "    </tr>\n",
       "    <tr>\n",
       "      <th>2017-12-31 23:03:10.137</th>\n",
       "      <td>64937cc7dc6d57dd</td>\n",
       "      <td>2005</td>\n",
       "      <td>164.462810</td>\n",
       "      <td>115.123967</td>\n",
       "    </tr>\n",
       "    <tr>\n",
       "      <th>2017-12-31 23:03:17.932</th>\n",
       "      <td>9c4edff0e7e785e7</td>\n",
       "      <td>2546</td>\n",
       "      <td>681.820579</td>\n",
       "      <td>681.820579</td>\n",
       "    </tr>\n",
       "  </tbody>\n",
       "</table>\n",
       "</div>"
      ],
      "text/plain": [
       "                              customer_id  product_id  full_price  \\\n",
       "timestamp                                                           \n",
       "2017-12-31 23:00:21.389  a1768f6141ba9932        1962  238.842975   \n",
       "2017-12-31 23:02:09.316  9afedb29c50f8ab9         804   57.024793   \n",
       "2017-12-31 23:02:43.368  f5d79ddd326abb30        1681   57.851240   \n",
       "2017-12-31 23:03:10.137  64937cc7dc6d57dd        2005  164.462810   \n",
       "2017-12-31 23:03:17.932  9c4edff0e7e785e7        2546  681.820579   \n",
       "\n",
       "                         actual_price  \n",
       "timestamp                              \n",
       "2017-12-31 23:00:21.389    167.190083  \n",
       "2017-12-31 23:02:09.316     57.024793  \n",
       "2017-12-31 23:02:43.368     57.851240  \n",
       "2017-12-31 23:03:10.137    115.123967  \n",
       "2017-12-31 23:03:17.932    681.820579  "
      ]
     },
     "execution_count": 13,
     "metadata": {},
     "output_type": "execute_result"
    }
   ],
   "source": [
    "views.head()"
   ]
  },
  {
   "cell_type": "code",
   "execution_count": 19,
   "metadata": {},
   "outputs": [],
   "source": [
    "ind = []\n",
    "for row in views['product_id'].unique():\n",
    "    if timeDelta(row):\n",
    "        ind.append(row)"
   ]
  },
  {
   "cell_type": "code",
   "execution_count": 21,
   "metadata": {},
   "outputs": [],
   "source": [
    "viewCounts = (views[views['product_id'].isin(ind)]['Jan 2018':'Sep 2018']\n",
    "              .groupby('product_id')\n",
    "              .resample('M')\n",
    "              .count()['customer_id'])"
   ]
  },
  {
   "cell_type": "code",
   "execution_count": 23,
   "metadata": {},
   "outputs": [
    {
     "data": {
      "text/plain": [
       "product_id  timestamp \n",
       "2           2018-01-31    463\n",
       "            2018-02-28    438\n",
       "            2018-03-31    320\n",
       "            2018-04-30    381\n",
       "            2018-05-31    328\n",
       "Name: customer_id, dtype: int64"
      ]
     },
     "execution_count": 23,
     "metadata": {},
     "output_type": "execute_result"
    }
   ],
   "source": [
    "viewCounts.head()"
   ]
  },
  {
   "cell_type": "code",
   "execution_count": 27,
   "metadata": {},
   "outputs": [],
   "source": [
    "purchaseCount = (cart_flatten[cart_flatten['product_ids'].isin(ind)]['Jan 2018':'Sep 2018']\n",
    "                 .groupby('product_ids')\n",
    "                 .resample('M')\n",
    "                 .count()['customer_id'])"
   ]
  },
  {
   "cell_type": "code",
   "execution_count": null,
   "metadata": {},
   "outputs": [],
   "source": []
  }
 ],
 "metadata": {
  "kernelspec": {
   "display_name": "Python 3",
   "language": "python",
   "name": "python3"
  },
  "language_info": {
   "codemirror_mode": {
    "name": "ipython",
    "version": 3
   },
   "file_extension": ".py",
   "mimetype": "text/x-python",
   "name": "python",
   "nbconvert_exporter": "python",
   "pygments_lexer": "ipython3",
   "version": "3.7.0"
  }
 },
 "nbformat": 4,
 "nbformat_minor": 2
}
