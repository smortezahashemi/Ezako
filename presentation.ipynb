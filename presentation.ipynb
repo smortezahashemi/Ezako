{
 "cells": [
  {
   "cell_type": "markdown",
   "metadata": {
    "slideshow": {
     "slide_type": "slide"
    }
   },
   "source": [
    "# [Ezako](https://www.ezako.com) Case-Study\n",
    "## A data exploratory journey through two e-commerce datasets in order to find anomalous products \n",
    "### Presented to you by:\n",
    "### -Morteza HASHEMI [Github](https://www.github.com/smortezahashemi)\n",
    "### -Eralda FRROKU"
   ]
  },
  {
   "cell_type": "code",
   "execution_count": 7,
   "metadata": {
    "slideshow": {
     "slide_type": "slide"
    }
   },
   "outputs": [],
   "source": [
    "#-------Import needed libraries\n",
    "import pandas as pd\n",
    "import numpy as np\n",
    "import matplotlib.pyplot as plt\n",
    "\n",
    "#-------Plot size configurarion\n",
    "plt.rcParams['figure.figsize'] = 15, 5\n",
    "\n",
    "#-------Load dataset into Pandas Dataframe \n",
    "views = pd.read_csv(\"C:/Users/Spa-Francorchamps/Downloads/eco_v0.2/all_product_2018.csv\")\n",
    "carts = pd.read_csv(\"C:/Users/Spa-Francorchamps/Downloads/eco_v0.2/all_order_2018.csv\")"
   ]
  },
  {
   "cell_type": "code",
   "execution_count": 8,
   "metadata": {
    "slideshow": {
     "slide_type": "subslide"
    }
   },
   "outputs": [],
   "source": [
    "#-------Convert timestamp to human readable time units\n",
    "carts.index = pd.to_datetime(carts['timestamp'], unit='ms')\n",
    "views.index = pd.to_datetime(views['timestamp'], unit='ms')\n",
    "\n",
    "carts = carts.drop(['timestamp'], axis=1)\n",
    "views = views.drop(['timestamp'], axis=1)\n",
    "\n",
    "\n",
    "#-------Small optimization & cleaning\n",
    "carts.dropna(subset=[\"product_ids\"], inplace=True)\n",
    "views['product_id'] = views['product_id'].astype('int')"
   ]
  },
  {
   "cell_type": "code",
   "execution_count": 5,
   "metadata": {
    "slideshow": {
     "slide_type": "subslide"
    }
   },
   "outputs": [
    {
     "data": {
      "text/html": [
       "<div>\n",
       "<style scoped>\n",
       "    .dataframe tbody tr th:only-of-type {\n",
       "        vertical-align: middle;\n",
       "    }\n",
       "\n",
       "    .dataframe tbody tr th {\n",
       "        vertical-align: top;\n",
       "    }\n",
       "\n",
       "    .dataframe thead th {\n",
       "        text-align: right;\n",
       "    }\n",
       "</style>\n",
       "<table border=\"1\" class=\"dataframe\">\n",
       "  <thead>\n",
       "    <tr style=\"text-align: right;\">\n",
       "      <th></th>\n",
       "      <th>customer_id</th>\n",
       "      <th>product_id</th>\n",
       "      <th>full_price</th>\n",
       "      <th>actual_price</th>\n",
       "    </tr>\n",
       "    <tr>\n",
       "      <th>timestamp</th>\n",
       "      <th></th>\n",
       "      <th></th>\n",
       "      <th></th>\n",
       "      <th></th>\n",
       "    </tr>\n",
       "  </thead>\n",
       "  <tbody>\n",
       "    <tr>\n",
       "      <th>2017-12-31 23:00:21.389</th>\n",
       "      <td>a1768f6141ba9932</td>\n",
       "      <td>1962</td>\n",
       "      <td>238.842975</td>\n",
       "      <td>167.190083</td>\n",
       "    </tr>\n",
       "    <tr>\n",
       "      <th>2017-12-31 23:02:09.316</th>\n",
       "      <td>9afedb29c50f8ab9</td>\n",
       "      <td>804</td>\n",
       "      <td>57.024793</td>\n",
       "      <td>57.024793</td>\n",
       "    </tr>\n",
       "    <tr>\n",
       "      <th>2017-12-31 23:02:43.368</th>\n",
       "      <td>f5d79ddd326abb30</td>\n",
       "      <td>1681</td>\n",
       "      <td>57.851240</td>\n",
       "      <td>57.851240</td>\n",
       "    </tr>\n",
       "    <tr>\n",
       "      <th>2017-12-31 23:03:10.137</th>\n",
       "      <td>64937cc7dc6d57dd</td>\n",
       "      <td>2005</td>\n",
       "      <td>164.462810</td>\n",
       "      <td>115.123967</td>\n",
       "    </tr>\n",
       "    <tr>\n",
       "      <th>2017-12-31 23:03:17.932</th>\n",
       "      <td>9c4edff0e7e785e7</td>\n",
       "      <td>2546</td>\n",
       "      <td>681.820579</td>\n",
       "      <td>681.820579</td>\n",
       "    </tr>\n",
       "  </tbody>\n",
       "</table>\n",
       "</div>"
      ],
      "text/plain": [
       "                              customer_id  product_id  full_price  \\\n",
       "timestamp                                                           \n",
       "2017-12-31 23:00:21.389  a1768f6141ba9932        1962  238.842975   \n",
       "2017-12-31 23:02:09.316  9afedb29c50f8ab9         804   57.024793   \n",
       "2017-12-31 23:02:43.368  f5d79ddd326abb30        1681   57.851240   \n",
       "2017-12-31 23:03:10.137  64937cc7dc6d57dd        2005  164.462810   \n",
       "2017-12-31 23:03:17.932  9c4edff0e7e785e7        2546  681.820579   \n",
       "\n",
       "                         actual_price  \n",
       "timestamp                              \n",
       "2017-12-31 23:00:21.389    167.190083  \n",
       "2017-12-31 23:02:09.316     57.024793  \n",
       "2017-12-31 23:02:43.368     57.851240  \n",
       "2017-12-31 23:03:10.137    115.123967  \n",
       "2017-12-31 23:03:17.932    681.820579  "
      ]
     },
     "execution_count": 5,
     "metadata": {},
     "output_type": "execute_result"
    }
   ],
   "source": [
    "views.head()"
   ]
  },
  {
   "cell_type": "code",
   "execution_count": 6,
   "metadata": {
    "slideshow": {
     "slide_type": "subslide"
    }
   },
   "outputs": [
    {
     "data": {
      "text/html": [
       "<div>\n",
       "<style scoped>\n",
       "    .dataframe tbody tr th:only-of-type {\n",
       "        vertical-align: middle;\n",
       "    }\n",
       "\n",
       "    .dataframe tbody tr th {\n",
       "        vertical-align: top;\n",
       "    }\n",
       "\n",
       "    .dataframe thead th {\n",
       "        text-align: right;\n",
       "    }\n",
       "</style>\n",
       "<table border=\"1\" class=\"dataframe\">\n",
       "  <thead>\n",
       "    <tr style=\"text-align: right;\">\n",
       "      <th></th>\n",
       "      <th>customer_id</th>\n",
       "      <th>product_ids</th>\n",
       "      <th>cart_price</th>\n",
       "    </tr>\n",
       "    <tr>\n",
       "      <th>timestamp</th>\n",
       "      <th></th>\n",
       "      <th></th>\n",
       "      <th></th>\n",
       "    </tr>\n",
       "  </thead>\n",
       "  <tbody>\n",
       "    <tr>\n",
       "      <th>2018-10-03 09:46:44.771</th>\n",
       "      <td>fa52201d38369060</td>\n",
       "      <td>527|696|825</td>\n",
       "      <td>27.05</td>\n",
       "    </tr>\n",
       "    <tr>\n",
       "      <th>2018-10-03 10:41:43.425</th>\n",
       "      <td>6c424d74c52a6601</td>\n",
       "      <td>47</td>\n",
       "      <td>18.40</td>\n",
       "    </tr>\n",
       "    <tr>\n",
       "      <th>2018-10-03 10:45:54.570</th>\n",
       "      <td>7e48090cbb1eba3a</td>\n",
       "      <td>1669|1472|3806|94</td>\n",
       "      <td>159.84</td>\n",
       "    </tr>\n",
       "    <tr>\n",
       "      <th>2018-10-03 11:03:55.150</th>\n",
       "      <td>7e48090cbb1eba3a</td>\n",
       "      <td>1669|1472|3806|94</td>\n",
       "      <td>159.84</td>\n",
       "    </tr>\n",
       "    <tr>\n",
       "      <th>2018-10-03 11:28:07.719</th>\n",
       "      <td>3b34464611a1aa02</td>\n",
       "      <td>47</td>\n",
       "      <td>18.40</td>\n",
       "    </tr>\n",
       "  </tbody>\n",
       "</table>\n",
       "</div>"
      ],
      "text/plain": [
       "                              customer_id        product_ids  cart_price\n",
       "timestamp                                                               \n",
       "2018-10-03 09:46:44.771  fa52201d38369060        527|696|825       27.05\n",
       "2018-10-03 10:41:43.425  6c424d74c52a6601                 47       18.40\n",
       "2018-10-03 10:45:54.570  7e48090cbb1eba3a  1669|1472|3806|94      159.84\n",
       "2018-10-03 11:03:55.150  7e48090cbb1eba3a  1669|1472|3806|94      159.84\n",
       "2018-10-03 11:28:07.719  3b34464611a1aa02                 47       18.40"
      ]
     },
     "execution_count": 6,
     "metadata": {},
     "output_type": "execute_result"
    }
   ],
   "source": [
    "carts.tail()"
   ]
  },
  {
   "cell_type": "code",
   "execution_count": 4,
   "metadata": {
    "slideshow": {
     "slide_type": "slide"
    }
   },
   "outputs": [
    {
     "data": {
      "text/html": [
       "<div>\n",
       "<style scoped>\n",
       "    .dataframe tbody tr th:only-of-type {\n",
       "        vertical-align: middle;\n",
       "    }\n",
       "\n",
       "    .dataframe tbody tr th {\n",
       "        vertical-align: top;\n",
       "    }\n",
       "\n",
       "    .dataframe thead th {\n",
       "        text-align: right;\n",
       "    }\n",
       "</style>\n",
       "<table border=\"1\" class=\"dataframe\">\n",
       "  <thead>\n",
       "    <tr style=\"text-align: right;\">\n",
       "      <th></th>\n",
       "      <th>customer_id</th>\n",
       "      <th>product_ids</th>\n",
       "      <th>cart_price</th>\n",
       "    </tr>\n",
       "  </thead>\n",
       "  <tbody>\n",
       "    <tr>\n",
       "      <th>2017-12-31 23:41:11.712</th>\n",
       "      <td>401a01d8c3a64e11</td>\n",
       "      <td>188</td>\n",
       "      <td>28.89</td>\n",
       "    </tr>\n",
       "    <tr>\n",
       "      <th>2017-12-31 23:41:11.712</th>\n",
       "      <td>401a01d8c3a64e11</td>\n",
       "      <td>1439</td>\n",
       "      <td>28.89</td>\n",
       "    </tr>\n",
       "    <tr>\n",
       "      <th>2018-01-01 11:56:16.242</th>\n",
       "      <td>3e87edf753a9f1a1</td>\n",
       "      <td>2790</td>\n",
       "      <td>199.95</td>\n",
       "    </tr>\n",
       "    <tr>\n",
       "      <th>2018-01-01 13:26:38.703</th>\n",
       "      <td>bd750602eac31a94</td>\n",
       "      <td>157</td>\n",
       "      <td>11.20</td>\n",
       "    </tr>\n",
       "    <tr>\n",
       "      <th>2018-01-01 13:40:24.978</th>\n",
       "      <td>3e083e3a130b21b2</td>\n",
       "      <td>647</td>\n",
       "      <td>17.85</td>\n",
       "    </tr>\n",
       "  </tbody>\n",
       "</table>\n",
       "</div>"
      ],
      "text/plain": [
       "                              customer_id  product_ids  cart_price\n",
       "2017-12-31 23:41:11.712  401a01d8c3a64e11          188       28.89\n",
       "2017-12-31 23:41:11.712  401a01d8c3a64e11         1439       28.89\n",
       "2018-01-01 11:56:16.242  3e87edf753a9f1a1         2790      199.95\n",
       "2018-01-01 13:26:38.703  bd750602eac31a94          157       11.20\n",
       "2018-01-01 13:40:24.978  3e083e3a130b21b2          647       17.85"
      ]
     },
     "execution_count": 4,
     "metadata": {},
     "output_type": "execute_result"
    }
   ],
   "source": [
    "#------Spliting 'product_ids' column in carts dataframe by delimiter \"|\"\n",
    "\n",
    "lst = []\n",
    "index = []\n",
    "\n",
    "for row in carts.iterrows():\n",
    "    vals = row[1].values\n",
    "    product_ids = vals[1]\n",
    "    for id_prod in product_ids.split(\"|\"):\n",
    "        lst.append([vals[0], int(id_prod), vals[2]])\n",
    "        index.append(row[0])\n",
    "\n",
    "\n",
    "cols = carts.columns.tolist()\n",
    "cart_flatten = pd.DataFrame(lst, columns=cols, index=index)\n",
    "cart_flatten.head()"
   ]
  },
  {
   "cell_type": "code",
   "execution_count": 9,
   "metadata": {
    "slideshow": {
     "slide_type": "slide"
    }
   },
   "outputs": [
    {
     "data": {
      "text/html": [
       "<div>\n",
       "<style scoped>\n",
       "    .dataframe tbody tr th:only-of-type {\n",
       "        vertical-align: middle;\n",
       "    }\n",
       "\n",
       "    .dataframe tbody tr th {\n",
       "        vertical-align: top;\n",
       "    }\n",
       "\n",
       "    .dataframe thead th {\n",
       "        text-align: right;\n",
       "    }\n",
       "</style>\n",
       "<table border=\"1\" class=\"dataframe\">\n",
       "  <thead>\n",
       "    <tr style=\"text-align: right;\">\n",
       "      <th></th>\n",
       "      <th>customer_id_cart</th>\n",
       "      <th>product_ids</th>\n",
       "      <th>cart_price</th>\n",
       "      <th>customer_id_view</th>\n",
       "      <th>product_id</th>\n",
       "      <th>full_price</th>\n",
       "      <th>actual_price</th>\n",
       "    </tr>\n",
       "  </thead>\n",
       "  <tbody>\n",
       "    <tr>\n",
       "      <th>0</th>\n",
       "      <td>401a01d8c3a64e11</td>\n",
       "      <td>188</td>\n",
       "      <td>28.89</td>\n",
       "      <td>7b4464d06d7ffbfb</td>\n",
       "      <td>188.0</td>\n",
       "      <td>4.950413</td>\n",
       "      <td>4.950413</td>\n",
       "    </tr>\n",
       "    <tr>\n",
       "      <th>1</th>\n",
       "      <td>401a01d8c3a64e11</td>\n",
       "      <td>188</td>\n",
       "      <td>28.89</td>\n",
       "      <td>75dd9fe3daae2927</td>\n",
       "      <td>188.0</td>\n",
       "      <td>4.950413</td>\n",
       "      <td>4.950413</td>\n",
       "    </tr>\n",
       "    <tr>\n",
       "      <th>2</th>\n",
       "      <td>401a01d8c3a64e11</td>\n",
       "      <td>188</td>\n",
       "      <td>28.89</td>\n",
       "      <td>ba557ca06e436eaf</td>\n",
       "      <td>188.0</td>\n",
       "      <td>4.950413</td>\n",
       "      <td>4.950413</td>\n",
       "    </tr>\n",
       "    <tr>\n",
       "      <th>3</th>\n",
       "      <td>401a01d8c3a64e11</td>\n",
       "      <td>188</td>\n",
       "      <td>28.89</td>\n",
       "      <td>485fbe5297fbeefa</td>\n",
       "      <td>188.0</td>\n",
       "      <td>4.950413</td>\n",
       "      <td>4.950413</td>\n",
       "    </tr>\n",
       "    <tr>\n",
       "      <th>4</th>\n",
       "      <td>401a01d8c3a64e11</td>\n",
       "      <td>188</td>\n",
       "      <td>28.89</td>\n",
       "      <td>c0e3a1443cb5d177</td>\n",
       "      <td>188.0</td>\n",
       "      <td>4.950413</td>\n",
       "      <td>4.950413</td>\n",
       "    </tr>\n",
       "  </tbody>\n",
       "</table>\n",
       "</div>"
      ],
      "text/plain": [
       "   customer_id_cart  product_ids  cart_price  customer_id_view  product_id  \\\n",
       "0  401a01d8c3a64e11          188       28.89  7b4464d06d7ffbfb       188.0   \n",
       "1  401a01d8c3a64e11          188       28.89  75dd9fe3daae2927       188.0   \n",
       "2  401a01d8c3a64e11          188       28.89  ba557ca06e436eaf       188.0   \n",
       "3  401a01d8c3a64e11          188       28.89  485fbe5297fbeefa       188.0   \n",
       "4  401a01d8c3a64e11          188       28.89  c0e3a1443cb5d177       188.0   \n",
       "\n",
       "   full_price  actual_price  \n",
       "0    4.950413      4.950413  \n",
       "1    4.950413      4.950413  \n",
       "2    4.950413      4.950413  \n",
       "3    4.950413      4.950413  \n",
       "4    4.950413      4.950413  "
      ]
     },
     "execution_count": 9,
     "metadata": {},
     "output_type": "execute_result"
    }
   ],
   "source": [
    "#-----------Merge the two datasets (cart_flatten and views)\n",
    "mergedProd = cart_flatten.merge(views, how='left', left_on='product_ids', \n",
    "                                right_on='product_id', suffixes=['_cart', '_view'])\n",
    "\n",
    "\n",
    "#-----------Locating rows where the \"product_id\" is null\n",
    "mergedProd[mergedProd['product_id'].isnull()]\n",
    "\n",
    "\n",
    "#----------Drop Na rows\n",
    "mergedProd.dropna(subset=['product_id'], inplace=True)\n",
    "\n",
    "mergedProd.head()"
   ]
  },
  {
   "cell_type": "code",
   "execution_count": 9,
   "metadata": {
    "slideshow": {
     "slide_type": "slide"
    }
   },
   "outputs": [],
   "source": [
    "groupedView = views.groupby('product_id')\n",
    "groupedCart = cart_flatten.groupby('product_ids')\n",
    "numOfViewsPerProd = groupedView.count()['customer_id']\n",
    "numOfPurchasesPerProd = groupedCart.count()['customer_id']"
   ]
  },
  {
   "cell_type": "code",
   "execution_count": 42,
   "metadata": {
    "slideshow": {
     "slide_type": "subslide"
    }
   },
   "outputs": [
    {
     "data": {
      "text/plain": [
       "<matplotlib.axes._subplots.AxesSubplot at 0x1cafd6b7940>"
      ]
     },
     "execution_count": 42,
     "metadata": {},
     "output_type": "execute_result"
    },
    {
     "data": {
      "image/png": "[encoded data removed]",
      "text/plain": [
       "<Figure size 1080x360 with 1 Axes>"
      ]
     },
     "metadata": {
      "needs_background": "light"
     },
     "output_type": "display_data"
    }
   ],
   "source": [
    "numOfViewsPerProd.hist(bins=60)"
   ]
  },
  {
   "cell_type": "markdown",
   "metadata": {
    "slideshow": {
     "slide_type": "subslide"
    }
   },
   "source": [
    "#### Statistics on _views_ and _carts_ dataframes:\n",
    "- __views__: Numbers indicate the frequency of views per each product\n",
    "- __carts__: Numbers indicate the frequency of purchases (being added to cart) per each product"
   ]
  },
  {
   "cell_type": "code",
   "execution_count": 25,
   "metadata": {
    "slideshow": {
     "slide_type": "fragment"
    }
   },
   "outputs": [
    {
     "name": "stdout",
     "output_type": "stream",
     "text": [
      "count    3181.000000\n",
      "mean      260.152468\n",
      "std       403.532928\n",
      "min         1.000000\n",
      "25%        57.000000\n",
      "50%       132.000000\n",
      "75%       289.000000\n",
      "max      4828.000000\n",
      "Name: customer_id, dtype: float64 \n",
      "\n",
      "Median  132.0\n"
     ]
    }
   ],
   "source": [
    "print(numOfViewsPerProd.describe(),'\\n')\n",
    "print(\"Median \",format(numOfViewsPerProd.median()))"
   ]
  },
  {
   "cell_type": "code",
   "execution_count": 36,
   "metadata": {
    "slideshow": {
     "slide_type": "fragment"
    }
   },
   "outputs": [
    {
     "name": "stdout",
     "output_type": "stream",
     "text": [
      "count    1910.000000\n",
      "mean        5.060733\n",
      "std        11.945023\n",
      "min         1.000000\n",
      "25%         1.000000\n",
      "50%         2.000000\n",
      "75%         5.000000\n",
      "max       165.000000\n",
      "Name: customer_id, dtype: float64 \n",
      "\n",
      "Median  2.0\n"
     ]
    }
   ],
   "source": [
    "print(numOfPurchasesPerProd.describe(),'\\n')\n",
    "print(\"Median \",format(numOfPurchasesPerProd.median()))\n"
   ]
  },
  {
   "cell_type": "markdown",
   "metadata": {
    "slideshow": {
     "slide_type": "fragment"
    }
   },
   "source": [
    "- median of 2 indicates that on the second quartile items have been purchased only two times!"
   ]
  },
  {
   "cell_type": "markdown",
   "metadata": {
    "slideshow": {
     "slide_type": "slide"
    }
   },
   "source": [
    "- products with minimal number of views:"
   ]
  },
  {
   "cell_type": "code",
   "execution_count": 14,
   "metadata": {
    "slideshow": {
     "slide_type": "fragment"
    }
   },
   "outputs": [
    {
     "data": {
      "text/plain": [
       "320"
      ]
     },
     "execution_count": 14,
     "metadata": {},
     "output_type": "execute_result"
    }
   ],
   "source": [
    "numOfViewsPerProd[numOfViewsPerProd<20].count()"
   ]
  },
  {
   "cell_type": "code",
   "execution_count": 15,
   "metadata": {
    "slideshow": {
     "slide_type": "subslide"
    }
   },
   "outputs": [
    {
     "data": {
      "text/html": [
       "<div>\n",
       "<style scoped>\n",
       "    .dataframe tbody tr th:only-of-type {\n",
       "        vertical-align: middle;\n",
       "    }\n",
       "\n",
       "    .dataframe tbody tr th {\n",
       "        vertical-align: top;\n",
       "    }\n",
       "\n",
       "    .dataframe thead th {\n",
       "        text-align: right;\n",
       "    }\n",
       "</style>\n",
       "<table border=\"1\" class=\"dataframe\">\n",
       "  <thead>\n",
       "    <tr style=\"text-align: right;\">\n",
       "      <th></th>\n",
       "      <th>view</th>\n",
       "      <th>purchase</th>\n",
       "    </tr>\n",
       "  </thead>\n",
       "  <tbody>\n",
       "    <tr>\n",
       "      <th>2</th>\n",
       "      <td>3762.0</td>\n",
       "      <td>126.0</td>\n",
       "    </tr>\n",
       "    <tr>\n",
       "      <th>3</th>\n",
       "      <td>3960.0</td>\n",
       "      <td>6.0</td>\n",
       "    </tr>\n",
       "    <tr>\n",
       "      <th>14</th>\n",
       "      <td>1164.0</td>\n",
       "      <td>11.0</td>\n",
       "    </tr>\n",
       "    <tr>\n",
       "      <th>15</th>\n",
       "      <td>156.0</td>\n",
       "      <td>2.0</td>\n",
       "    </tr>\n",
       "    <tr>\n",
       "      <th>17</th>\n",
       "      <td>100.0</td>\n",
       "      <td>NaN</td>\n",
       "    </tr>\n",
       "  </tbody>\n",
       "</table>\n",
       "</div>"
      ],
      "text/plain": [
       "      view  purchase\n",
       "2   3762.0     126.0\n",
       "3   3960.0       6.0\n",
       "14  1164.0      11.0\n",
       "15   156.0       2.0\n",
       "17   100.0       NaN"
      ]
     },
     "execution_count": 15,
     "metadata": {},
     "output_type": "execute_result"
    }
   ],
   "source": [
    "#-----Picking products that have been viewed at least 20 times over the period\n",
    "indRemove = numOfViewsPerProd[numOfViewsPerProd<20].index\n",
    "modifiedViews = numOfViewsPerProd[~numOfViewsPerProd.index.isin(indRemove)]\n",
    "modifiedPurchases = numOfPurchasesPerProd[~numOfPurchasesPerProd.index.isin(indRemove)]\n",
    "\n",
    "df = pd.DataFrame({'view': modifiedViews, 'purchase': modifiedPurchases})\n",
    "df.head()"
   ]
  },
  {
   "cell_type": "code",
   "execution_count": 16,
   "metadata": {
    "slideshow": {
     "slide_type": "fragment"
    }
   },
   "outputs": [
    {
     "data": {
      "text/plain": [
       "2     0.033493\n",
       "3     0.001515\n",
       "14    0.009450\n",
       "15    0.012821\n",
       "17         NaN\n",
       "dtype: float64"
      ]
     },
     "execution_count": 16,
     "metadata": {},
     "output_type": "execute_result"
    }
   ],
   "source": [
    "purchasePerView = (df['purchase'] / df['view'])\n",
    "viewPerPurchase = (df['view'] / df['purchase'])\n",
    "purchasePerView.head()"
   ]
  },
  {
   "cell_type": "code",
   "execution_count": 17,
   "metadata": {
    "slideshow": {
     "slide_type": "subslide"
    }
   },
   "outputs": [
    {
     "name": "stdout",
     "output_type": "stream",
     "text": [
      "Best Seller Ratio: 0.5\n",
      "Least Seller Ratio: 3571.0\n"
     ]
    }
   ],
   "source": [
    "print(\"Best Seller Ratio: {}\".format(purchasePerView.max()))\n",
    "print(\"Least Seller Ratio: {}\".format(viewPerPurchase.max()))"
   ]
  },
  {
   "cell_type": "markdown",
   "metadata": {
    "slideshow": {
     "slide_type": "slide"
    }
   },
   "source": [
    "- Plotting _purchase per view_ and _view per purchase_ reveals more information on best-selling and least-selling products. Additioanlly, it helps to spot record high ratios."
   ]
  },
  {
   "cell_type": "code",
   "execution_count": 19,
   "metadata": {
    "slideshow": {
     "slide_type": "fragment"
    }
   },
   "outputs": [
    {
     "data": {
      "text/plain": [
       "Text(0, 0.5, 'Purchase per view ratio')"
      ]
     },
     "execution_count": 19,
     "metadata": {},
     "output_type": "execute_result"
    },
    {
     "data": {
      "image/png": "[encoded data removed]",
      "text/plain": [
       "<Figure size 1080x360 with 1 Axes>"
      ]
     },
     "metadata": {
      "needs_background": "light"
     },
     "output_type": "display_data"
    }
   ],
   "source": [
    "plt.bar(purchasePerView.index, purchasePerView, width=6)\n",
    "plt.xlabel(\"Product id range\")\n",
    "plt.ylabel(\"Purchase per view ratio\")"
   ]
  },
  {
   "cell_type": "code",
   "execution_count": 20,
   "metadata": {
    "slideshow": {
     "slide_type": "subslide"
    }
   },
   "outputs": [
    {
     "data": {
      "text/plain": [
       "Text(0, 0.5, 'View per purchase ratio')"
      ]
     },
     "execution_count": 20,
     "metadata": {},
     "output_type": "execute_result"
    },
    {
     "data": {
      "image/png": "[encoded data removed]",
      "text/plain": [
       "<Figure size 1080x360 with 1 Axes>"
      ]
     },
     "metadata": {
      "needs_background": "light"
     },
     "output_type": "display_data"
    }
   ],
   "source": [
    "plt.bar(viewPerPurchase.index, viewPerPurchase, width=6, color='salmon')\n",
    "plt.xlabel(\"Product id range\")\n",
    "plt.ylabel(\"View per purchase ratio\")"
   ]
  },
  {
   "cell_type": "code",
   "execution_count": 21,
   "metadata": {
    "slideshow": {
     "slide_type": "subslide"
    }
   },
   "outputs": [
    {
     "name": "stdout",
     "output_type": "stream",
     "text": [
      "Top 5 purchase/view ratios:\n",
      "2469    0.500000\n",
      "1364    0.230769\n",
      "2359    0.208333\n",
      "1425    0.181818\n",
      "825     0.179348\n",
      "dtype: float64 \n",
      "\n",
      "\n",
      "Top 5 view/purchase ratios:\n",
      "2184    3571.0\n",
      "1282    3225.0\n",
      "1501    2820.0\n",
      "1893    2313.0\n",
      "1738    1849.0\n",
      "dtype: float64\n"
     ]
    }
   ],
   "source": [
    "print(\"Top 5 purchase/view ratios:\")\n",
    "print(purchasePerView.nlargest(5),'\\n\\n')\n",
    "print(\"Top 5 view/purchase ratios:\")\n",
    "print(viewPerPurchase.nlargest(5))"
   ]
  },
  {
   "cell_type": "markdown",
   "metadata": {
    "slideshow": {
     "slide_type": "slide"
    }
   },
   "source": [
    "#### We are interested in behavior of \"least-selling\" products :\n",
    "- Product id: 2184 with the ratio of 3571 views per each purchase over the whole period. "
   ]
  },
  {
   "cell_type": "code",
   "execution_count": 71,
   "metadata": {
    "slideshow": {
     "slide_type": "fragment"
    }
   },
   "outputs": [
    {
     "data": {
      "text/html": [
       "<div>\n",
       "<style scoped>\n",
       "    .dataframe tbody tr th:only-of-type {\n",
       "        vertical-align: middle;\n",
       "    }\n",
       "\n",
       "    .dataframe tbody tr th {\n",
       "        vertical-align: top;\n",
       "    }\n",
       "\n",
       "    .dataframe thead th {\n",
       "        text-align: right;\n",
       "    }\n",
       "</style>\n",
       "<table border=\"1\" class=\"dataframe\">\n",
       "  <thead>\n",
       "    <tr style=\"text-align: right;\">\n",
       "      <th></th>\n",
       "      <th>customer_id</th>\n",
       "      <th>product_id</th>\n",
       "      <th>full_price</th>\n",
       "      <th>actual_price</th>\n",
       "    </tr>\n",
       "    <tr>\n",
       "      <th>timestamp</th>\n",
       "      <th></th>\n",
       "      <th></th>\n",
       "      <th></th>\n",
       "      <th></th>\n",
       "    </tr>\n",
       "  </thead>\n",
       "  <tbody>\n",
       "    <tr>\n",
       "      <th>2018-01-01 00:23:49.626</th>\n",
       "      <td>a02b997bf5257800</td>\n",
       "      <td>2184</td>\n",
       "      <td>321.487603</td>\n",
       "      <td>321.487603</td>\n",
       "    </tr>\n",
       "    <tr>\n",
       "      <th>2018-01-01 00:37:32.533</th>\n",
       "      <td>a02b997bf5257800</td>\n",
       "      <td>2184</td>\n",
       "      <td>321.487603</td>\n",
       "      <td>321.487603</td>\n",
       "    </tr>\n",
       "    <tr>\n",
       "      <th>2018-01-01 13:10:54.466</th>\n",
       "      <td>bc5ba20b1f3183f1</td>\n",
       "      <td>2184</td>\n",
       "      <td>321.487603</td>\n",
       "      <td>321.487603</td>\n",
       "    </tr>\n",
       "    <tr>\n",
       "      <th>2018-01-01 13:11:38.016</th>\n",
       "      <td>bc5ba20b1f3183f1</td>\n",
       "      <td>2184</td>\n",
       "      <td>321.487603</td>\n",
       "      <td>321.487603</td>\n",
       "    </tr>\n",
       "    <tr>\n",
       "      <th>2018-01-01 15:07:16.085</th>\n",
       "      <td>081c3a51286a088a</td>\n",
       "      <td>2184</td>\n",
       "      <td>321.487603</td>\n",
       "      <td>321.487603</td>\n",
       "    </tr>\n",
       "    <tr>\n",
       "      <th>2018-01-01 15:11:21.695</th>\n",
       "      <td>081c3a51286a088a</td>\n",
       "      <td>2184</td>\n",
       "      <td>321.487603</td>\n",
       "      <td>321.487603</td>\n",
       "    </tr>\n",
       "    <tr>\n",
       "      <th>2018-01-01 15:20:08.555</th>\n",
       "      <td>081c3a51286a088a</td>\n",
       "      <td>2184</td>\n",
       "      <td>321.487603</td>\n",
       "      <td>321.487603</td>\n",
       "    </tr>\n",
       "    <tr>\n",
       "      <th>2018-01-01 15:29:28.301</th>\n",
       "      <td>081c3a51286a088a</td>\n",
       "      <td>2184</td>\n",
       "      <td>321.487603</td>\n",
       "      <td>321.487603</td>\n",
       "    </tr>\n",
       "    <tr>\n",
       "      <th>2018-01-01 15:56:59.582</th>\n",
       "      <td>081c3a51286a088a</td>\n",
       "      <td>2184</td>\n",
       "      <td>321.487603</td>\n",
       "      <td>321.487603</td>\n",
       "    </tr>\n",
       "    <tr>\n",
       "      <th>2018-01-01 17:32:06.188</th>\n",
       "      <td>354709e080870098</td>\n",
       "      <td>2184</td>\n",
       "      <td>321.487603</td>\n",
       "      <td>321.487603</td>\n",
       "    </tr>\n",
       "    <tr>\n",
       "      <th>2018-01-01 20:04:05.899</th>\n",
       "      <td>e7bfdbae597866e6</td>\n",
       "      <td>2184</td>\n",
       "      <td>321.487603</td>\n",
       "      <td>321.487603</td>\n",
       "    </tr>\n",
       "    <tr>\n",
       "      <th>2018-01-01 22:09:52.915</th>\n",
       "      <td>28095178f118c019</td>\n",
       "      <td>2184</td>\n",
       "      <td>321.487603</td>\n",
       "      <td>321.487603</td>\n",
       "    </tr>\n",
       "    <tr>\n",
       "      <th>2018-01-02 00:05:50.256</th>\n",
       "      <td>7e7ad9277ba2adbb</td>\n",
       "      <td>2184</td>\n",
       "      <td>321.487603</td>\n",
       "      <td>321.487603</td>\n",
       "    </tr>\n",
       "    <tr>\n",
       "      <th>2018-01-02 07:42:00.225</th>\n",
       "      <td>be22528e91011318</td>\n",
       "      <td>2184</td>\n",
       "      <td>321.487603</td>\n",
       "      <td>321.487603</td>\n",
       "    </tr>\n",
       "    <tr>\n",
       "      <th>2018-01-02 11:43:27.831</th>\n",
       "      <td>da39923b0bbf12eb</td>\n",
       "      <td>2184</td>\n",
       "      <td>321.487603</td>\n",
       "      <td>321.487603</td>\n",
       "    </tr>\n",
       "    <tr>\n",
       "      <th>2018-01-02 14:41:28.694</th>\n",
       "      <td>e7bfdbae597866e6</td>\n",
       "      <td>2184</td>\n",
       "      <td>321.487603</td>\n",
       "      <td>321.487603</td>\n",
       "    </tr>\n",
       "    <tr>\n",
       "      <th>2018-01-02 15:29:37.399</th>\n",
       "      <td>52067da09fc414d4</td>\n",
       "      <td>2184</td>\n",
       "      <td>321.487603</td>\n",
       "      <td>321.487603</td>\n",
       "    </tr>\n",
       "    <tr>\n",
       "      <th>2018-01-02 17:37:25.640</th>\n",
       "      <td>d8330852d610d7af</td>\n",
       "      <td>2184</td>\n",
       "      <td>321.487603</td>\n",
       "      <td>321.487603</td>\n",
       "    </tr>\n",
       "    <tr>\n",
       "      <th>2018-01-02 21:25:05.053</th>\n",
       "      <td>8296af7ee1cef081</td>\n",
       "      <td>2184</td>\n",
       "      <td>321.487603</td>\n",
       "      <td>321.487603</td>\n",
       "    </tr>\n",
       "    <tr>\n",
       "      <th>2018-01-02 22:44:09.664</th>\n",
       "      <td>09b710ca4f428c94</td>\n",
       "      <td>2184</td>\n",
       "      <td>321.487603</td>\n",
       "      <td>321.487603</td>\n",
       "    </tr>\n",
       "    <tr>\n",
       "      <th>2018-01-02 22:44:16.988</th>\n",
       "      <td>90a110f694e0316a</td>\n",
       "      <td>2184</td>\n",
       "      <td>321.487603</td>\n",
       "      <td>321.487603</td>\n",
       "    </tr>\n",
       "    <tr>\n",
       "      <th>2018-01-03 01:12:33.720</th>\n",
       "      <td>fe7dcc0e9e4a8eb7</td>\n",
       "      <td>2184</td>\n",
       "      <td>321.487603</td>\n",
       "      <td>321.487603</td>\n",
       "    </tr>\n",
       "    <tr>\n",
       "      <th>2018-01-03 09:03:06.125</th>\n",
       "      <td>516d2254725707fa</td>\n",
       "      <td>2184</td>\n",
       "      <td>321.487603</td>\n",
       "      <td>321.487603</td>\n",
       "    </tr>\n",
       "    <tr>\n",
       "      <th>2018-01-03 09:49:20.690</th>\n",
       "      <td>79f5b9f1ad5158ec</td>\n",
       "      <td>2184</td>\n",
       "      <td>321.487603</td>\n",
       "      <td>321.487603</td>\n",
       "    </tr>\n",
       "    <tr>\n",
       "      <th>2018-01-03 15:27:55.622</th>\n",
       "      <td>b9169c8faf35619d</td>\n",
       "      <td>2184</td>\n",
       "      <td>321.487603</td>\n",
       "      <td>321.487603</td>\n",
       "    </tr>\n",
       "    <tr>\n",
       "      <th>2018-01-03 21:18:12.965</th>\n",
       "      <td>c394603ca8262155</td>\n",
       "      <td>2184</td>\n",
       "      <td>321.487603</td>\n",
       "      <td>321.487603</td>\n",
       "    </tr>\n",
       "    <tr>\n",
       "      <th>2018-01-04 01:19:08.766</th>\n",
       "      <td>4ec2ad1b81ee55bb</td>\n",
       "      <td>2184</td>\n",
       "      <td>321.487603</td>\n",
       "      <td>321.487603</td>\n",
       "    </tr>\n",
       "    <tr>\n",
       "      <th>2018-01-04 15:46:06.821</th>\n",
       "      <td>b5bd94507f53d488</td>\n",
       "      <td>2184</td>\n",
       "      <td>321.487603</td>\n",
       "      <td>321.487603</td>\n",
       "    </tr>\n",
       "    <tr>\n",
       "      <th>2018-01-04 16:58:27.989</th>\n",
       "      <td>4ee8f04d8237d813</td>\n",
       "      <td>2184</td>\n",
       "      <td>321.487603</td>\n",
       "      <td>321.487603</td>\n",
       "    </tr>\n",
       "    <tr>\n",
       "      <th>2018-01-04 17:00:11.962</th>\n",
       "      <td>1f3874b6ae26a11d</td>\n",
       "      <td>2184</td>\n",
       "      <td>321.487603</td>\n",
       "      <td>321.487603</td>\n",
       "    </tr>\n",
       "    <tr>\n",
       "      <th>...</th>\n",
       "      <td>...</td>\n",
       "      <td>...</td>\n",
       "      <td>...</td>\n",
       "      <td>...</td>\n",
       "    </tr>\n",
       "    <tr>\n",
       "      <th>2018-10-01 20:19:11.101</th>\n",
       "      <td>85e9a36e37ede8ce</td>\n",
       "      <td>2184</td>\n",
       "      <td>321.487603</td>\n",
       "      <td>289.338843</td>\n",
       "    </tr>\n",
       "    <tr>\n",
       "      <th>2018-10-01 20:41:25.908</th>\n",
       "      <td>f8f0cf189f459c3f</td>\n",
       "      <td>2184</td>\n",
       "      <td>321.487603</td>\n",
       "      <td>289.338843</td>\n",
       "    </tr>\n",
       "    <tr>\n",
       "      <th>2018-10-01 21:32:42.382</th>\n",
       "      <td>c773398de353560b</td>\n",
       "      <td>2184</td>\n",
       "      <td>321.487603</td>\n",
       "      <td>289.338843</td>\n",
       "    </tr>\n",
       "    <tr>\n",
       "      <th>2018-10-01 21:33:42.392</th>\n",
       "      <td>c773398de353560b</td>\n",
       "      <td>2184</td>\n",
       "      <td>321.487603</td>\n",
       "      <td>289.338843</td>\n",
       "    </tr>\n",
       "    <tr>\n",
       "      <th>2018-10-01 23:01:26.764</th>\n",
       "      <td>c226aa039010317e</td>\n",
       "      <td>2184</td>\n",
       "      <td>321.487603</td>\n",
       "      <td>289.338843</td>\n",
       "    </tr>\n",
       "    <tr>\n",
       "      <th>2018-10-02 04:54:39.136</th>\n",
       "      <td>f05593a9773edb41</td>\n",
       "      <td>2184</td>\n",
       "      <td>321.487603</td>\n",
       "      <td>289.338843</td>\n",
       "    </tr>\n",
       "    <tr>\n",
       "      <th>2018-10-02 05:50:16.351</th>\n",
       "      <td>b77f45d763962007</td>\n",
       "      <td>2184</td>\n",
       "      <td>321.487603</td>\n",
       "      <td>289.338843</td>\n",
       "    </tr>\n",
       "    <tr>\n",
       "      <th>2018-10-02 07:54:18.207</th>\n",
       "      <td>f05593a9773edb41</td>\n",
       "      <td>2184</td>\n",
       "      <td>321.487603</td>\n",
       "      <td>289.338843</td>\n",
       "    </tr>\n",
       "    <tr>\n",
       "      <th>2018-10-02 08:14:42.582</th>\n",
       "      <td>38868317ae2c0db2</td>\n",
       "      <td>2184</td>\n",
       "      <td>321.487603</td>\n",
       "      <td>289.338843</td>\n",
       "    </tr>\n",
       "    <tr>\n",
       "      <th>2018-10-02 09:46:27.769</th>\n",
       "      <td>bf2677ef6f5d2444</td>\n",
       "      <td>2184</td>\n",
       "      <td>321.487603</td>\n",
       "      <td>289.338843</td>\n",
       "    </tr>\n",
       "    <tr>\n",
       "      <th>2018-10-02 09:49:14.202</th>\n",
       "      <td>0594a995d2ace3df</td>\n",
       "      <td>2184</td>\n",
       "      <td>321.487603</td>\n",
       "      <td>289.338843</td>\n",
       "    </tr>\n",
       "    <tr>\n",
       "      <th>2018-10-02 12:35:02.141</th>\n",
       "      <td>1c7cc135b4cdb29f</td>\n",
       "      <td>2184</td>\n",
       "      <td>321.487603</td>\n",
       "      <td>289.338843</td>\n",
       "    </tr>\n",
       "    <tr>\n",
       "      <th>2018-10-02 13:41:57.696</th>\n",
       "      <td>48c9ed4cbdb31130</td>\n",
       "      <td>2184</td>\n",
       "      <td>321.487603</td>\n",
       "      <td>289.338843</td>\n",
       "    </tr>\n",
       "    <tr>\n",
       "      <th>2018-10-02 14:53:54.007</th>\n",
       "      <td>97f72413f35fa400</td>\n",
       "      <td>2184</td>\n",
       "      <td>321.487603</td>\n",
       "      <td>289.338843</td>\n",
       "    </tr>\n",
       "    <tr>\n",
       "      <th>2018-10-02 15:09:27.507</th>\n",
       "      <td>11dd1f5c54e0d5c3</td>\n",
       "      <td>2184</td>\n",
       "      <td>321.487603</td>\n",
       "      <td>289.338843</td>\n",
       "    </tr>\n",
       "    <tr>\n",
       "      <th>2018-10-02 15:53:59.171</th>\n",
       "      <td>416f1dec86a99ac0</td>\n",
       "      <td>2184</td>\n",
       "      <td>321.487603</td>\n",
       "      <td>289.338843</td>\n",
       "    </tr>\n",
       "    <tr>\n",
       "      <th>2018-10-02 17:02:54.435</th>\n",
       "      <td>33e4a44199ac76d3</td>\n",
       "      <td>2184</td>\n",
       "      <td>321.487603</td>\n",
       "      <td>289.338843</td>\n",
       "    </tr>\n",
       "    <tr>\n",
       "      <th>2018-10-02 17:14:22.897</th>\n",
       "      <td>72ee96553db9d8e0</td>\n",
       "      <td>2184</td>\n",
       "      <td>321.487603</td>\n",
       "      <td>289.338843</td>\n",
       "    </tr>\n",
       "    <tr>\n",
       "      <th>2018-10-02 18:23:33.086</th>\n",
       "      <td>ef5c77655d863058</td>\n",
       "      <td>2184</td>\n",
       "      <td>321.487603</td>\n",
       "      <td>289.338843</td>\n",
       "    </tr>\n",
       "    <tr>\n",
       "      <th>2018-10-02 18:34:35.824</th>\n",
       "      <td>3c4237d1bb9959ee</td>\n",
       "      <td>2184</td>\n",
       "      <td>321.487603</td>\n",
       "      <td>289.338843</td>\n",
       "    </tr>\n",
       "    <tr>\n",
       "      <th>2018-10-02 18:59:00.391</th>\n",
       "      <td>e3786deefaf33cc5</td>\n",
       "      <td>2184</td>\n",
       "      <td>321.487603</td>\n",
       "      <td>289.338843</td>\n",
       "    </tr>\n",
       "    <tr>\n",
       "      <th>2018-10-02 20:57:21.261</th>\n",
       "      <td>185d619075f1d426</td>\n",
       "      <td>2184</td>\n",
       "      <td>321.487603</td>\n",
       "      <td>289.338843</td>\n",
       "    </tr>\n",
       "    <tr>\n",
       "      <th>2018-10-02 20:58:49.561</th>\n",
       "      <td>185d619075f1d426</td>\n",
       "      <td>2184</td>\n",
       "      <td>321.487603</td>\n",
       "      <td>289.338843</td>\n",
       "    </tr>\n",
       "    <tr>\n",
       "      <th>2018-10-02 21:56:51.357</th>\n",
       "      <td>cc34042c57137e05</td>\n",
       "      <td>2184</td>\n",
       "      <td>321.487603</td>\n",
       "      <td>289.338843</td>\n",
       "    </tr>\n",
       "    <tr>\n",
       "      <th>2018-10-02 22:55:41.238</th>\n",
       "      <td>63be759ef5e72364</td>\n",
       "      <td>2184</td>\n",
       "      <td>321.487603</td>\n",
       "      <td>289.338843</td>\n",
       "    </tr>\n",
       "    <tr>\n",
       "      <th>2018-10-02 23:03:51.593</th>\n",
       "      <td>1d6918c4e1869279</td>\n",
       "      <td>2184</td>\n",
       "      <td>321.487603</td>\n",
       "      <td>289.338843</td>\n",
       "    </tr>\n",
       "    <tr>\n",
       "      <th>2018-10-03 05:45:01.385</th>\n",
       "      <td>6ae6376ea144b5a2</td>\n",
       "      <td>2184</td>\n",
       "      <td>324.097796</td>\n",
       "      <td>291.688016</td>\n",
       "    </tr>\n",
       "    <tr>\n",
       "      <th>2018-10-03 08:10:20.033</th>\n",
       "      <td>4f6e8f6b9190c286</td>\n",
       "      <td>2184</td>\n",
       "      <td>321.487603</td>\n",
       "      <td>289.338843</td>\n",
       "    </tr>\n",
       "    <tr>\n",
       "      <th>2018-10-03 10:11:33.486</th>\n",
       "      <td>ff28281cbd662d04</td>\n",
       "      <td>2184</td>\n",
       "      <td>321.487603</td>\n",
       "      <td>289.338843</td>\n",
       "    </tr>\n",
       "    <tr>\n",
       "      <th>2018-10-03 10:27:24.498</th>\n",
       "      <td>479cc3bbec2371e0</td>\n",
       "      <td>2184</td>\n",
       "      <td>321.487603</td>\n",
       "      <td>289.338843</td>\n",
       "    </tr>\n",
       "  </tbody>\n",
       "</table>\n",
       "<p>3571 rows × 4 columns</p>\n",
       "</div>"
      ],
      "text/plain": [
       "                              customer_id  product_id  full_price  \\\n",
       "timestamp                                                           \n",
       "2018-01-01 00:23:49.626  a02b997bf5257800        2184  321.487603   \n",
       "2018-01-01 00:37:32.533  a02b997bf5257800        2184  321.487603   \n",
       "2018-01-01 13:10:54.466  bc5ba20b1f3183f1        2184  321.487603   \n",
       "2018-01-01 13:11:38.016  bc5ba20b1f3183f1        2184  321.487603   \n",
       "2018-01-01 15:07:16.085  081c3a51286a088a        2184  321.487603   \n",
       "2018-01-01 15:11:21.695  081c3a51286a088a        2184  321.487603   \n",
       "2018-01-01 15:20:08.555  081c3a51286a088a        2184  321.487603   \n",
       "2018-01-01 15:29:28.301  081c3a51286a088a        2184  321.487603   \n",
       "2018-01-01 15:56:59.582  081c3a51286a088a        2184  321.487603   \n",
       "2018-01-01 17:32:06.188  354709e080870098        2184  321.487603   \n",
       "2018-01-01 20:04:05.899  e7bfdbae597866e6        2184  321.487603   \n",
       "2018-01-01 22:09:52.915  28095178f118c019        2184  321.487603   \n",
       "2018-01-02 00:05:50.256  7e7ad9277ba2adbb        2184  321.487603   \n",
       "2018-01-02 07:42:00.225  be22528e91011318        2184  321.487603   \n",
       "2018-01-02 11:43:27.831  da39923b0bbf12eb        2184  321.487603   \n",
       "2018-01-02 14:41:28.694  e7bfdbae597866e6        2184  321.487603   \n",
       "2018-01-02 15:29:37.399  52067da09fc414d4        2184  321.487603   \n",
       "2018-01-02 17:37:25.640  d8330852d610d7af        2184  321.487603   \n",
       "2018-01-02 21:25:05.053  8296af7ee1cef081        2184  321.487603   \n",
       "2018-01-02 22:44:09.664  09b710ca4f428c94        2184  321.487603   \n",
       "2018-01-02 22:44:16.988  90a110f694e0316a        2184  321.487603   \n",
       "2018-01-03 01:12:33.720  fe7dcc0e9e4a8eb7        2184  321.487603   \n",
       "2018-01-03 09:03:06.125  516d2254725707fa        2184  321.487603   \n",
       "2018-01-03 09:49:20.690  79f5b9f1ad5158ec        2184  321.487603   \n",
       "2018-01-03 15:27:55.622  b9169c8faf35619d        2184  321.487603   \n",
       "2018-01-03 21:18:12.965  c394603ca8262155        2184  321.487603   \n",
       "2018-01-04 01:19:08.766  4ec2ad1b81ee55bb        2184  321.487603   \n",
       "2018-01-04 15:46:06.821  b5bd94507f53d488        2184  321.487603   \n",
       "2018-01-04 16:58:27.989  4ee8f04d8237d813        2184  321.487603   \n",
       "2018-01-04 17:00:11.962  1f3874b6ae26a11d        2184  321.487603   \n",
       "...                                   ...         ...         ...   \n",
       "2018-10-01 20:19:11.101  85e9a36e37ede8ce        2184  321.487603   \n",
       "2018-10-01 20:41:25.908  f8f0cf189f459c3f        2184  321.487603   \n",
       "2018-10-01 21:32:42.382  c773398de353560b        2184  321.487603   \n",
       "2018-10-01 21:33:42.392  c773398de353560b        2184  321.487603   \n",
       "2018-10-01 23:01:26.764  c226aa039010317e        2184  321.487603   \n",
       "2018-10-02 04:54:39.136  f05593a9773edb41        2184  321.487603   \n",
       "2018-10-02 05:50:16.351  b77f45d763962007        2184  321.487603   \n",
       "2018-10-02 07:54:18.207  f05593a9773edb41        2184  321.487603   \n",
       "2018-10-02 08:14:42.582  38868317ae2c0db2        2184  321.487603   \n",
       "2018-10-02 09:46:27.769  bf2677ef6f5d2444        2184  321.487603   \n",
       "2018-10-02 09:49:14.202  0594a995d2ace3df        2184  321.487603   \n",
       "2018-10-02 12:35:02.141  1c7cc135b4cdb29f        2184  321.487603   \n",
       "2018-10-02 13:41:57.696  48c9ed4cbdb31130        2184  321.487603   \n",
       "2018-10-02 14:53:54.007  97f72413f35fa400        2184  321.487603   \n",
       "2018-10-02 15:09:27.507  11dd1f5c54e0d5c3        2184  321.487603   \n",
       "2018-10-02 15:53:59.171  416f1dec86a99ac0        2184  321.487603   \n",
       "2018-10-02 17:02:54.435  33e4a44199ac76d3        2184  321.487603   \n",
       "2018-10-02 17:14:22.897  72ee96553db9d8e0        2184  321.487603   \n",
       "2018-10-02 18:23:33.086  ef5c77655d863058        2184  321.487603   \n",
       "2018-10-02 18:34:35.824  3c4237d1bb9959ee        2184  321.487603   \n",
       "2018-10-02 18:59:00.391  e3786deefaf33cc5        2184  321.487603   \n",
       "2018-10-02 20:57:21.261  185d619075f1d426        2184  321.487603   \n",
       "2018-10-02 20:58:49.561  185d619075f1d426        2184  321.487603   \n",
       "2018-10-02 21:56:51.357  cc34042c57137e05        2184  321.487603   \n",
       "2018-10-02 22:55:41.238  63be759ef5e72364        2184  321.487603   \n",
       "2018-10-02 23:03:51.593  1d6918c4e1869279        2184  321.487603   \n",
       "2018-10-03 05:45:01.385  6ae6376ea144b5a2        2184  324.097796   \n",
       "2018-10-03 08:10:20.033  4f6e8f6b9190c286        2184  321.487603   \n",
       "2018-10-03 10:11:33.486  ff28281cbd662d04        2184  321.487603   \n",
       "2018-10-03 10:27:24.498  479cc3bbec2371e0        2184  321.487603   \n",
       "\n",
       "                         actual_price  \n",
       "timestamp                              \n",
       "2018-01-01 00:23:49.626    321.487603  \n",
       "2018-01-01 00:37:32.533    321.487603  \n",
       "2018-01-01 13:10:54.466    321.487603  \n",
       "2018-01-01 13:11:38.016    321.487603  \n",
       "2018-01-01 15:07:16.085    321.487603  \n",
       "2018-01-01 15:11:21.695    321.487603  \n",
       "2018-01-01 15:20:08.555    321.487603  \n",
       "2018-01-01 15:29:28.301    321.487603  \n",
       "2018-01-01 15:56:59.582    321.487603  \n",
       "2018-01-01 17:32:06.188    321.487603  \n",
       "2018-01-01 20:04:05.899    321.487603  \n",
       "2018-01-01 22:09:52.915    321.487603  \n",
       "2018-01-02 00:05:50.256    321.487603  \n",
       "2018-01-02 07:42:00.225    321.487603  \n",
       "2018-01-02 11:43:27.831    321.487603  \n",
       "2018-01-02 14:41:28.694    321.487603  \n",
       "2018-01-02 15:29:37.399    321.487603  \n",
       "2018-01-02 17:37:25.640    321.487603  \n",
       "2018-01-02 21:25:05.053    321.487603  \n",
       "2018-01-02 22:44:09.664    321.487603  \n",
       "2018-01-02 22:44:16.988    321.487603  \n",
       "2018-01-03 01:12:33.720    321.487603  \n",
       "2018-01-03 09:03:06.125    321.487603  \n",
       "2018-01-03 09:49:20.690    321.487603  \n",
       "2018-01-03 15:27:55.622    321.487603  \n",
       "2018-01-03 21:18:12.965    321.487603  \n",
       "2018-01-04 01:19:08.766    321.487603  \n",
       "2018-01-04 15:46:06.821    321.487603  \n",
       "2018-01-04 16:58:27.989    321.487603  \n",
       "2018-01-04 17:00:11.962    321.487603  \n",
       "...                               ...  \n",
       "2018-10-01 20:19:11.101    289.338843  \n",
       "2018-10-01 20:41:25.908    289.338843  \n",
       "2018-10-01 21:32:42.382    289.338843  \n",
       "2018-10-01 21:33:42.392    289.338843  \n",
       "2018-10-01 23:01:26.764    289.338843  \n",
       "2018-10-02 04:54:39.136    289.338843  \n",
       "2018-10-02 05:50:16.351    289.338843  \n",
       "2018-10-02 07:54:18.207    289.338843  \n",
       "2018-10-02 08:14:42.582    289.338843  \n",
       "2018-10-02 09:46:27.769    289.338843  \n",
       "2018-10-02 09:49:14.202    289.338843  \n",
       "2018-10-02 12:35:02.141    289.338843  \n",
       "2018-10-02 13:41:57.696    289.338843  \n",
       "2018-10-02 14:53:54.007    289.338843  \n",
       "2018-10-02 15:09:27.507    289.338843  \n",
       "2018-10-02 15:53:59.171    289.338843  \n",
       "2018-10-02 17:02:54.435    289.338843  \n",
       "2018-10-02 17:14:22.897    289.338843  \n",
       "2018-10-02 18:23:33.086    289.338843  \n",
       "2018-10-02 18:34:35.824    289.338843  \n",
       "2018-10-02 18:59:00.391    289.338843  \n",
       "2018-10-02 20:57:21.261    289.338843  \n",
       "2018-10-02 20:58:49.561    289.338843  \n",
       "2018-10-02 21:56:51.357    289.338843  \n",
       "2018-10-02 22:55:41.238    289.338843  \n",
       "2018-10-02 23:03:51.593    289.338843  \n",
       "2018-10-03 05:45:01.385    291.688016  \n",
       "2018-10-03 08:10:20.033    289.338843  \n",
       "2018-10-03 10:11:33.486    289.338843  \n",
       "2018-10-03 10:27:24.498    289.338843  \n",
       "\n",
       "[3571 rows x 4 columns]"
      ]
     },
     "execution_count": 71,
     "metadata": {},
     "output_type": "execute_result"
    }
   ],
   "source": [
    "views[views['product_id'] == 2184]"
   ]
  },
  {
   "cell_type": "code",
   "execution_count": 72,
   "metadata": {
    "slideshow": {
     "slide_type": "subslide"
    }
   },
   "outputs": [
    {
     "data": {
      "text/plain": [
       "<matplotlib.axes._subplots.AxesSubplot at 0x23acc366780>"
      ]
     },
     "execution_count": 72,
     "metadata": {},
     "output_type": "execute_result"
    },
    {
     "data": {
      "image/png": "[encoded data removed]",
      "text/plain": [
       "<Figure size 1080x360 with 1 Axes>"
      ]
     },
     "metadata": {
      "needs_background": "light"
     },
     "output_type": "display_data"
    }
   ],
   "source": [
    "noSellView = views[views['product_id'] == 2184]['Jan 2018':'Sep 2018']\n",
    "noSellView = noSellView.resample('M').count()['customer_id']\n",
    "noSellView.plot()"
   ]
  },
  {
   "cell_type": "code",
   "execution_count": 75,
   "metadata": {
    "slideshow": {
     "slide_type": "subslide"
    }
   },
   "outputs": [
    {
     "data": {
      "text/html": [
       "<div>\n",
       "<style scoped>\n",
       "    .dataframe tbody tr th:only-of-type {\n",
       "        vertical-align: middle;\n",
       "    }\n",
       "\n",
       "    .dataframe tbody tr th {\n",
       "        vertical-align: top;\n",
       "    }\n",
       "\n",
       "    .dataframe thead th {\n",
       "        text-align: right;\n",
       "    }\n",
       "</style>\n",
       "<table border=\"1\" class=\"dataframe\">\n",
       "  <thead>\n",
       "    <tr style=\"text-align: right;\">\n",
       "      <th></th>\n",
       "      <th>customer_id</th>\n",
       "      <th>product_ids</th>\n",
       "      <th>cart_price</th>\n",
       "    </tr>\n",
       "  </thead>\n",
       "  <tbody>\n",
       "    <tr>\n",
       "      <th>2018-05-19 10:17:20.553</th>\n",
       "      <td>9d6b6abc55e4cf47</td>\n",
       "      <td>2184</td>\n",
       "      <td>4158.1</td>\n",
       "    </tr>\n",
       "  </tbody>\n",
       "</table>\n",
       "</div>"
      ],
      "text/plain": [
       "                              customer_id  product_ids  cart_price\n",
       "2018-05-19 10:17:20.553  9d6b6abc55e4cf47         2184      4158.1"
      ]
     },
     "execution_count": 75,
     "metadata": {},
     "output_type": "execute_result"
    }
   ],
   "source": [
    "cart_flatten[cart_flatten['product_ids'] == 2184]"
   ]
  },
  {
   "cell_type": "markdown",
   "metadata": {
    "slideshow": {
     "slide_type": "slide"
    }
   },
   "source": [
    "#### We are also interested in behavior of \"Best-sellers\" (are they really?)\n",
    "- product id: 2469 has the purchase/view ratio of 0.5 -> It means 50% chance of purchase for every view"
   ]
  },
  {
   "cell_type": "code",
   "execution_count": 86,
   "metadata": {
    "slideshow": {
     "slide_type": "subslide"
    }
   },
   "outputs": [
    {
     "data": {
      "text/html": [
       "<div>\n",
       "<style scoped>\n",
       "    .dataframe tbody tr th:only-of-type {\n",
       "        vertical-align: middle;\n",
       "    }\n",
       "\n",
       "    .dataframe tbody tr th {\n",
       "        vertical-align: top;\n",
       "    }\n",
       "\n",
       "    .dataframe thead th {\n",
       "        text-align: right;\n",
       "    }\n",
       "</style>\n",
       "<table border=\"1\" class=\"dataframe\">\n",
       "  <thead>\n",
       "    <tr style=\"text-align: right;\">\n",
       "      <th></th>\n",
       "      <th>customer_id</th>\n",
       "      <th>product_ids</th>\n",
       "      <th>cart_price</th>\n",
       "    </tr>\n",
       "  </thead>\n",
       "  <tbody>\n",
       "    <tr>\n",
       "      <th>2018-01-31 15:48:26.388</th>\n",
       "      <td>6e7792695c700721</td>\n",
       "      <td>2469</td>\n",
       "      <td>42.88</td>\n",
       "    </tr>\n",
       "    <tr>\n",
       "      <th>2018-01-31 15:51:41.150</th>\n",
       "      <td>6e7792695c700721</td>\n",
       "      <td>2469</td>\n",
       "      <td>42.88</td>\n",
       "    </tr>\n",
       "    <tr>\n",
       "      <th>2018-01-31 15:51:43.618</th>\n",
       "      <td>6e7792695c700721</td>\n",
       "      <td>2469</td>\n",
       "      <td>42.88</td>\n",
       "    </tr>\n",
       "    <tr>\n",
       "      <th>2018-01-31 15:53:06.415</th>\n",
       "      <td>6e7792695c700721</td>\n",
       "      <td>2469</td>\n",
       "      <td>42.88</td>\n",
       "    </tr>\n",
       "    <tr>\n",
       "      <th>2018-01-31 15:53:31.383</th>\n",
       "      <td>6e7792695c700721</td>\n",
       "      <td>2469</td>\n",
       "      <td>42.88</td>\n",
       "    </tr>\n",
       "    <tr>\n",
       "      <th>2018-01-31 15:53:33.415</th>\n",
       "      <td>6e7792695c700721</td>\n",
       "      <td>2469</td>\n",
       "      <td>42.88</td>\n",
       "    </tr>\n",
       "    <tr>\n",
       "      <th>2018-01-31 15:54:00.051</th>\n",
       "      <td>6e7792695c700721</td>\n",
       "      <td>2469</td>\n",
       "      <td>42.88</td>\n",
       "    </tr>\n",
       "    <tr>\n",
       "      <th>2018-01-31 15:54:40.887</th>\n",
       "      <td>6e7792695c700721</td>\n",
       "      <td>2469</td>\n",
       "      <td>42.88</td>\n",
       "    </tr>\n",
       "    <tr>\n",
       "      <th>2018-01-31 15:54:43.218</th>\n",
       "      <td>6e7792695c700721</td>\n",
       "      <td>2469</td>\n",
       "      <td>42.88</td>\n",
       "    </tr>\n",
       "    <tr>\n",
       "      <th>2018-01-31 15:55:56.298</th>\n",
       "      <td>6e7792695c700721</td>\n",
       "      <td>2469</td>\n",
       "      <td>42.88</td>\n",
       "    </tr>\n",
       "    <tr>\n",
       "      <th>2018-01-31 15:55:58.528</th>\n",
       "      <td>6e7792695c700721</td>\n",
       "      <td>2469</td>\n",
       "      <td>42.88</td>\n",
       "    </tr>\n",
       "    <tr>\n",
       "      <th>2018-01-31 15:56:18.321</th>\n",
       "      <td>6e7792695c700721</td>\n",
       "      <td>2469</td>\n",
       "      <td>42.88</td>\n",
       "    </tr>\n",
       "    <tr>\n",
       "      <th>2018-02-25 17:58:19.486</th>\n",
       "      <td>46be3304c4b1c53e</td>\n",
       "      <td>2469</td>\n",
       "      <td>783.70</td>\n",
       "    </tr>\n",
       "  </tbody>\n",
       "</table>\n",
       "</div>"
      ],
      "text/plain": [
       "                              customer_id  product_ids  cart_price\n",
       "2018-01-31 15:48:26.388  6e7792695c700721         2469       42.88\n",
       "2018-01-31 15:51:41.150  6e7792695c700721         2469       42.88\n",
       "2018-01-31 15:51:43.618  6e7792695c700721         2469       42.88\n",
       "2018-01-31 15:53:06.415  6e7792695c700721         2469       42.88\n",
       "2018-01-31 15:53:31.383  6e7792695c700721         2469       42.88\n",
       "2018-01-31 15:53:33.415  6e7792695c700721         2469       42.88\n",
       "2018-01-31 15:54:00.051  6e7792695c700721         2469       42.88\n",
       "2018-01-31 15:54:40.887  6e7792695c700721         2469       42.88\n",
       "2018-01-31 15:54:43.218  6e7792695c700721         2469       42.88\n",
       "2018-01-31 15:55:56.298  6e7792695c700721         2469       42.88\n",
       "2018-01-31 15:55:58.528  6e7792695c700721         2469       42.88\n",
       "2018-01-31 15:56:18.321  6e7792695c700721         2469       42.88\n",
       "2018-02-25 17:58:19.486  46be3304c4b1c53e         2469      783.70"
      ]
     },
     "execution_count": 86,
     "metadata": {},
     "output_type": "execute_result"
    }
   ],
   "source": [
    "cart_flatten[cart_flatten['product_ids'] == 2469]"
   ]
  },
  {
   "cell_type": "markdown",
   "metadata": {
    "slideshow": {
     "slide_type": "fragment"
    }
   },
   "source": [
    "Evidently there was a guy who repeatedly add the item to the cart, yet we do not know if he finally bought it or not. "
   ]
  },
  {
   "cell_type": "markdown",
   "metadata": {
    "slideshow": {
     "slide_type": "slide"
    }
   },
   "source": [
    "#### We are also interested in behavior of \"Best sellers\" (are they really?)\n",
    "- product id: 2469 has the purchase/view ratio of 0.5 -> It means 50% chance of purchase for every view\n",
    "- product id: 825 has the purchase/view ratio of 0.179348"
   ]
  },
  {
   "cell_type": "code",
   "execution_count": 98,
   "metadata": {
    "slideshow": {
     "slide_type": "subslide"
    }
   },
   "outputs": [
    {
     "data": {
      "text/html": [
       "<div>\n",
       "<style scoped>\n",
       "    .dataframe tbody tr th:only-of-type {\n",
       "        vertical-align: middle;\n",
       "    }\n",
       "\n",
       "    .dataframe tbody tr th {\n",
       "        vertical-align: top;\n",
       "    }\n",
       "\n",
       "    .dataframe thead th {\n",
       "        text-align: right;\n",
       "    }\n",
       "</style>\n",
       "<table border=\"1\" class=\"dataframe\">\n",
       "  <thead>\n",
       "    <tr style=\"text-align: right;\">\n",
       "      <th></th>\n",
       "      <th>customer_id</th>\n",
       "      <th>product_ids</th>\n",
       "      <th>cart_price</th>\n",
       "    </tr>\n",
       "  </thead>\n",
       "  <tbody>\n",
       "    <tr>\n",
       "      <th>2018-01-04 16:50:39.608</th>\n",
       "      <td>80df2f97917306bb</td>\n",
       "      <td>825</td>\n",
       "      <td>42.00</td>\n",
       "    </tr>\n",
       "    <tr>\n",
       "      <th>2018-01-19 17:27:35.528</th>\n",
       "      <td>ff56e18147723fa4</td>\n",
       "      <td>825</td>\n",
       "      <td>879.84</td>\n",
       "    </tr>\n",
       "    <tr>\n",
       "      <th>2018-02-05 22:20:38.771</th>\n",
       "      <td>0030800434897a86</td>\n",
       "      <td>825</td>\n",
       "      <td>30.90</td>\n",
       "    </tr>\n",
       "    <tr>\n",
       "      <th>2018-02-23 17:19:49.206</th>\n",
       "      <td>548d7b3e16143c18</td>\n",
       "      <td>825</td>\n",
       "      <td>1391.92</td>\n",
       "    </tr>\n",
       "    <tr>\n",
       "      <th>2018-03-20 15:28:46.281</th>\n",
       "      <td>4cc26592cce2de11</td>\n",
       "      <td>825</td>\n",
       "      <td>38.20</td>\n",
       "    </tr>\n",
       "  </tbody>\n",
       "</table>\n",
       "</div>"
      ],
      "text/plain": [
       "                              customer_id  product_ids  cart_price\n",
       "2018-01-04 16:50:39.608  80df2f97917306bb          825       42.00\n",
       "2018-01-19 17:27:35.528  ff56e18147723fa4          825      879.84\n",
       "2018-02-05 22:20:38.771  0030800434897a86          825       30.90\n",
       "2018-02-23 17:19:49.206  548d7b3e16143c18          825     1391.92\n",
       "2018-03-20 15:28:46.281  4cc26592cce2de11          825       38.20"
      ]
     },
     "execution_count": 98,
     "metadata": {},
     "output_type": "execute_result"
    }
   ],
   "source": [
    "bestSellerView = views[views['product_id'] == 825]\n",
    "bestSellerView = bestSellerView['Jan 2018' : 'Sep 2018']\n",
    "bestSellerCart = cart_flatten[cart_flatten['product_ids'] == 825]\n",
    "bestSellerCart = bestSellerCart['Jan 2018' : 'Sep 2018']\n",
    "bestSellerCart.head()"
   ]
  },
  {
   "cell_type": "code",
   "execution_count": 99,
   "metadata": {
    "slideshow": {
     "slide_type": "notes"
    }
   },
   "outputs": [],
   "source": [
    "bestSellerCartByWeek = bestSellerCart.resample('M').count()['customer_id']\n",
    "bestSellerViewByWeek = bestSellerView.resample('M').count()['customer_id']"
   ]
  },
  {
   "cell_type": "code",
   "execution_count": 100,
   "metadata": {
    "slideshow": {
     "slide_type": "subslide"
    }
   },
   "outputs": [
    {
     "data": {
      "text/plain": [
       "<matplotlib.legend.Legend at 0x23acd934a58>"
      ]
     },
     "execution_count": 100,
     "metadata": {},
     "output_type": "execute_result"
    },
    {
     "data": {
      "image/png": "[encoded data removed]",
      "text/plain": [
       "<Figure size 1080x360 with 1 Axes>"
      ]
     },
     "metadata": {
      "needs_background": "light"
     },
     "output_type": "display_data"
    }
   ],
   "source": [
    "plt.plot(bestSellerCartByWeek.index, bestSellerCartByWeek, label='Product Cart')\n",
    "plt.plot(bestSellerViewByWeek.index, bestSellerViewByWeek, label='Product View')\n",
    "plt.legend(loc='upper left')"
   ]
  },
  {
   "cell_type": "markdown",
   "metadata": {
    "slideshow": {
     "slide_type": "slide"
    }
   },
   "source": [
    "#### Products with the most number of purchases:"
   ]
  },
  {
   "cell_type": "code",
   "execution_count": 101,
   "metadata": {
    "slideshow": {
     "slide_type": "fragment"
    }
   },
   "outputs": [
    {
     "data": {
      "text/plain": [
       "44      165.0\n",
       "47      154.0\n",
       "1129    154.0\n",
       "46      153.0\n",
       "53      145.0\n",
       "Name: purchase, dtype: float64"
      ]
     },
     "execution_count": 101,
     "metadata": {},
     "output_type": "execute_result"
    }
   ],
   "source": [
    "df['purchase'].nlargest()"
   ]
  },
  {
   "cell_type": "code",
   "execution_count": 102,
   "metadata": {
    "slideshow": {
     "slide_type": "notes"
    }
   },
   "outputs": [],
   "source": [
    "cartID44 = cart_flatten[cart_flatten['product_ids'] == 44]['Jan 2018' : 'Sep 2018']\n",
    "viewID44 = views[views['product_id'] == 44]['Jan 2018' : 'Sep 2018']\n",
    "cartID44ByDay = cartID44.resample('M').count()['customer_id']\n",
    "viewID44ByDay = viewID44.resample('M').count()['customer_id']"
   ]
  },
  {
   "cell_type": "code",
   "execution_count": 103,
   "metadata": {
    "slideshow": {
     "slide_type": "subslide"
    }
   },
   "outputs": [
    {
     "data": {
      "text/plain": [
       "Text(0.5,1,'Product id: 44')"
      ]
     },
     "execution_count": 103,
     "metadata": {},
     "output_type": "execute_result"
    },
    {
     "data": {
      "image/png": "[encoded data removed]",
      "text/plain": [
       "<Figure size 1080x360 with 1 Axes>"
      ]
     },
     "metadata": {
      "needs_background": "light"
     },
     "output_type": "display_data"
    }
   ],
   "source": [
    "plt.plot(cartID44ByDay.index, cartID44ByDay, label='Product Cart')\n",
    "plt.plot(viewID44ByDay.index, viewID44ByDay, label='Product View')\n",
    "plt.legend(loc='upper left')\n",
    "plt.title(\"Product id: 44\")"
   ]
  },
  {
   "cell_type": "code",
   "execution_count": 104,
   "metadata": {
    "slideshow": {
     "slide_type": "notes"
    }
   },
   "outputs": [],
   "source": [
    "cartID_1129 = cart_flatten[cart_flatten['product_ids'] == 1129]['Jan 2018' : 'Sep 2018']\n",
    "viewID_1129 = views[views['product_id'] == 1129]['Jan 2018' : 'Sep 2018']\n",
    "cartID_1129_ByDay = cartID_1129.resample('M').count()['customer_id']\n",
    "viewID_1129_ByDay = viewID_1129.resample('M').count()['customer_id']"
   ]
  },
  {
   "cell_type": "code",
   "execution_count": 105,
   "metadata": {
    "slideshow": {
     "slide_type": "subslide"
    }
   },
   "outputs": [
    {
     "data": {
      "text/plain": [
       "Text(0.5,1,'Product id: 1129')"
      ]
     },
     "execution_count": 105,
     "metadata": {},
     "output_type": "execute_result"
    },
    {
     "data": {
      "image/png": "[encoded data removed]",
      "text/plain": [
       "<Figure size 1080x360 with 1 Axes>"
      ]
     },
     "metadata": {
      "needs_background": "light"
     },
     "output_type": "display_data"
    }
   ],
   "source": [
    "plt.plot(cartID_1129_ByDay.index, cartID_1129_ByDay, label='Product Cart')\n",
    "plt.plot(viewID_1129_ByDay.index, viewID_1129_ByDay, label='Product View')\n",
    "plt.legend(loc='upper left')\n",
    "plt.title(\"Product id: 1129\")"
   ]
  },
  {
   "cell_type": "markdown",
   "metadata": {
    "slideshow": {
     "slide_type": "slide"
    }
   },
   "source": [
    "#### Anomaly in products sell:\n",
    "- Sheer number of views with few number of purchase\n",
    "- Contradictory behavior in product view and purchase"
   ]
  },
  {
   "cell_type": "markdown",
   "metadata": {
    "slideshow": {
     "slide_type": "subslide"
    }
   },
   "source": [
    "##### Contradictory behavior:\n",
    "- Products existing for more than 5 months in the dataframe\n",
    "- Items being put to the cart at least 10 times\n",
    "- Compute correlation (Pearson) between purchases and views for each product $$ r = \\frac{\\sum\\limits_{i=1}^{n} {(x_i - \\bar{x})(y_i - \\bar{y})}}{\\sqrt{\\sum\\limits_{i=1}^{n} {(x_i - \\bar{x})^2}}\\sqrt{\\sum\\limits_{i=1}^{n} {(y_i - \\bar{y})^2}}}$$"
   ]
  },
  {
   "cell_type": "code",
   "execution_count": 3,
   "metadata": {
    "slideshow": {
     "slide_type": "subslide"
    }
   },
   "outputs": [],
   "source": [
    "def timeDelta(pid):\n",
    "    lastEntry = len(views[views['product_id'] == pid]) - 1\n",
    "    res = (views[views['product_id'] == pid].index[lastEntry] - views[views['product_id'] == pid].index[0] \n",
    "           >\n",
    "           pd.Timedelta(days=150))\n",
    "    return res"
   ]
  },
  {
   "cell_type": "code",
   "execution_count": 12,
   "metadata": {
    "slideshow": {
     "slide_type": "fragment"
    }
   },
   "outputs": [],
   "source": [
    "ind = []\n",
    "for row in views['product_id'].unique():\n",
    "    if timeDelta(row):\n",
    "        ind.append(row)\n",
    "        \n",
    "viewCounts = (views[views['product_id'].isin(ind)]['Jan 2018':'Sep 2018']\n",
    "              .groupby('product_id')\n",
    "              .resample('M')\n",
    "              .count()['customer_id'])\n",
    "\n",
    "numOfPurchasesPerProd = groupedCart.count()['customer_id']\n",
    "purchaseIndex = numOfPurchasesPerProd[numOfPurchasesPerProd > 10].index\n",
    "purchaseCount = (cart_flatten[cart_flatten['product_ids'].isin(purchaseIndex)]['Jan 2018':'Sep 2018']\n",
    "                 .groupby('product_ids')\n",
    "                 .resample('M')\n",
    "                 .count()['customer_id'])"
   ]
  },
  {
   "cell_type": "code",
   "execution_count": 20,
   "metadata": {
    "slideshow": {
     "slide_type": "slide"
    }
   },
   "outputs": [
    {
     "data": {
      "text/html": [
       "<div>\n",
       "<style scoped>\n",
       "    .dataframe tbody tr th:only-of-type {\n",
       "        vertical-align: middle;\n",
       "    }\n",
       "\n",
       "    .dataframe tbody tr th {\n",
       "        vertical-align: top;\n",
       "    }\n",
       "\n",
       "    .dataframe thead th {\n",
       "        text-align: right;\n",
       "    }\n",
       "</style>\n",
       "<table border=\"1\" class=\"dataframe\">\n",
       "  <thead>\n",
       "    <tr style=\"text-align: right;\">\n",
       "      <th></th>\n",
       "      <th></th>\n",
       "      <th>purchase</th>\n",
       "      <th>view</th>\n",
       "    </tr>\n",
       "  </thead>\n",
       "  <tbody>\n",
       "    <tr>\n",
       "      <th rowspan=\"5\" valign=\"top\">2</th>\n",
       "      <th>2018-01-31</th>\n",
       "      <td>16</td>\n",
       "      <td>463</td>\n",
       "    </tr>\n",
       "    <tr>\n",
       "      <th>2018-02-28</th>\n",
       "      <td>13</td>\n",
       "      <td>438</td>\n",
       "    </tr>\n",
       "    <tr>\n",
       "      <th>2018-03-31</th>\n",
       "      <td>15</td>\n",
       "      <td>320</td>\n",
       "    </tr>\n",
       "    <tr>\n",
       "      <th>2018-04-30</th>\n",
       "      <td>12</td>\n",
       "      <td>381</td>\n",
       "    </tr>\n",
       "    <tr>\n",
       "      <th>2018-05-31</th>\n",
       "      <td>9</td>\n",
       "      <td>328</td>\n",
       "    </tr>\n",
       "  </tbody>\n",
       "</table>\n",
       "</div>"
      ],
      "text/plain": [
       "              purchase  view\n",
       "2 2018-01-31        16   463\n",
       "  2018-02-28        13   438\n",
       "  2018-03-31        15   320\n",
       "  2018-04-30        12   381\n",
       "  2018-05-31         9   328"
      ]
     },
     "execution_count": 20,
     "metadata": {},
     "output_type": "execute_result"
    }
   ],
   "source": [
    "monthlyStat = pd.concat([purchaseCount, viewCounts], axis=1, join='inner', keys=['purchase', 'view'])\n",
    "monthlyStat.head()"
   ]
  },
  {
   "cell_type": "code",
   "execution_count": 21,
   "metadata": {
    "slideshow": {
     "slide_type": "notes"
    }
   },
   "outputs": [],
   "source": [
    "monthlyStat.reset_index(level=1,drop=True, inplace=True)"
   ]
  },
  {
   "cell_type": "code",
   "execution_count": 22,
   "metadata": {
    "slideshow": {
     "slide_type": "subslide"
    }
   },
   "outputs": [
    {
     "data": {
      "text/html": [
       "<div>\n",
       "<style scoped>\n",
       "    .dataframe tbody tr th:only-of-type {\n",
       "        vertical-align: middle;\n",
       "    }\n",
       "\n",
       "    .dataframe tbody tr th {\n",
       "        vertical-align: top;\n",
       "    }\n",
       "\n",
       "    .dataframe thead th {\n",
       "        text-align: right;\n",
       "    }\n",
       "</style>\n",
       "<table border=\"1\" class=\"dataframe\">\n",
       "  <thead>\n",
       "    <tr style=\"text-align: right;\">\n",
       "      <th></th>\n",
       "      <th></th>\n",
       "      <th>view</th>\n",
       "    </tr>\n",
       "  </thead>\n",
       "  <tbody>\n",
       "    <tr>\n",
       "      <th>2</th>\n",
       "      <th>purchase</th>\n",
       "      <td>-0.110291</td>\n",
       "    </tr>\n",
       "    <tr>\n",
       "      <th>14</th>\n",
       "      <th>purchase</th>\n",
       "      <td>0.053417</td>\n",
       "    </tr>\n",
       "    <tr>\n",
       "      <th>23</th>\n",
       "      <th>purchase</th>\n",
       "      <td>-0.212022</td>\n",
       "    </tr>\n",
       "    <tr>\n",
       "      <th>43</th>\n",
       "      <th>purchase</th>\n",
       "      <td>-0.113892</td>\n",
       "    </tr>\n",
       "    <tr>\n",
       "      <th>44</th>\n",
       "      <th>purchase</th>\n",
       "      <td>0.752232</td>\n",
       "    </tr>\n",
       "  </tbody>\n",
       "</table>\n",
       "</div>"
      ],
      "text/plain": [
       "                 view\n",
       "2  purchase -0.110291\n",
       "14 purchase  0.053417\n",
       "23 purchase -0.212022\n",
       "43 purchase -0.113892\n",
       "44 purchase  0.752232"
      ]
     },
     "execution_count": 22,
     "metadata": {},
     "output_type": "execute_result"
    }
   ],
   "source": [
    "prodCorr = monthlyStat.groupby(monthlyStat.index).corr().iloc[0::2][['view']]\n",
    "prodCorr.head()"
   ]
  },
  {
   "cell_type": "code",
   "execution_count": 23,
   "metadata": {
    "slideshow": {
     "slide_type": "subslide"
    }
   },
   "outputs": [
    {
     "data": {
      "text/plain": [
       "3357  purchase   -0.413712\n",
       "208   purchase   -0.411018\n",
       "211   purchase   -0.395179\n",
       "151   purchase   -0.374792\n",
       "2777  purchase   -0.364257\n",
       "Name: view, dtype: float64"
      ]
     },
     "execution_count": 23,
     "metadata": {},
     "output_type": "execute_result"
    }
   ],
   "source": [
    "prodCorr['view'].nsmallest(5)"
   ]
  },
  {
   "cell_type": "code",
   "execution_count": 34,
   "metadata": {
    "slideshow": {
     "slide_type": "subslide"
    }
   },
   "outputs": [
    {
     "data": {
      "text/plain": [
       "<matplotlib.legend.Legend at 0x1cafaa6eeb8>"
      ]
     },
     "execution_count": 34,
     "metadata": {},
     "output_type": "execute_result"
    },
    {
     "data": {
      "image/png": "[encoded data removed]",
      "text/plain": [
       "<Figure size 1080x360 with 1 Axes>"
      ]
     },
     "metadata": {
      "needs_background": "light"
     },
     "output_type": "display_data"
    }
   ],
   "source": [
    "a = cart_flatten[cart_flatten['product_ids'] == 3357].resample('M')['customer_id'].count()\n",
    "b = views[views['product_id'] == 3357].resample('M')['customer_id'].count()\n",
    "a.plot(label='Carts')\n",
    "b.plot(label='Views')\n",
    "plt.legend(loc='upper left')"
   ]
  },
  {
   "cell_type": "code",
   "execution_count": 35,
   "metadata": {
    "slideshow": {
     "slide_type": "subslide"
    }
   },
   "outputs": [
    {
     "data": {
      "text/plain": [
       "<matplotlib.legend.Legend at 0x1cafaafd160>"
      ]
     },
     "execution_count": 35,
     "metadata": {},
     "output_type": "execute_result"
    },
    {
     "data": {
      "image/png": "[encoded data removed]",
      "text/plain": [
       "<Figure size 1080x360 with 1 Axes>"
      ]
     },
     "metadata": {
      "needs_background": "light"
     },
     "output_type": "display_data"
    }
   ],
   "source": [
    "a = cart_flatten[cart_flatten['product_ids'] == 208].resample('M')['customer_id'].count()\n",
    "b = views[views['product_id'] == 208].resample('M')['customer_id'].count()\n",
    "a.plot(label='Carts')\n",
    "b.plot(label='Views')\n",
    "plt.legend(loc='upper left')"
   ]
  },
  {
   "cell_type": "code",
   "execution_count": 36,
   "metadata": {
    "slideshow": {
     "slide_type": "subslide"
    }
   },
   "outputs": [
    {
     "data": {
      "text/plain": [
       "<matplotlib.legend.Legend at 0x1cafacba518>"
      ]
     },
     "execution_count": 36,
     "metadata": {},
     "output_type": "execute_result"
    },
    {
     "data": {
      "image/png": "[encoded data removed]",
      "text/plain": [
       "<Figure size 1080x360 with 1 Axes>"
      ]
     },
     "metadata": {
      "needs_background": "light"
     },
     "output_type": "display_data"
    }
   ],
   "source": [
    "a = cart_flatten[cart_flatten['product_ids'] == 211].resample('M')['customer_id'].count()\n",
    "b = views[views['product_id'] == 211].resample('M')['customer_id'].count()\n",
    "a.plot(label='Carts')\n",
    "b.plot(label='Views')\n",
    "plt.legend(loc='upper left')"
   ]
  },
  {
   "cell_type": "code",
   "execution_count": 37,
   "metadata": {
    "slideshow": {
     "slide_type": "subslide"
    }
   },
   "outputs": [
    {
     "data": {
      "text/plain": [
       "<matplotlib.legend.Legend at 0x1cafad22470>"
      ]
     },
     "execution_count": 37,
     "metadata": {},
     "output_type": "execute_result"
    },
    {
     "data": {
      "image/png": "[encoded data removed]",
      "text/plain": [
       "<Figure size 1080x360 with 1 Axes>"
      ]
     },
     "metadata": {
      "needs_background": "light"
     },
     "output_type": "display_data"
    }
   ],
   "source": [
    "a = cart_flatten[cart_flatten['product_ids'] == 151].resample('M')['customer_id'].count()\n",
    "b = views[views['product_id'] == 151].resample('M')['customer_id'].count()\n",
    "a.plot(label='Carts')\n",
    "b.plot(label='Views')\n",
    "plt.legend(loc='upper left')"
   ]
  },
  {
   "cell_type": "code",
   "execution_count": 33,
   "metadata": {
    "slideshow": {
     "slide_type": "slide"
    }
   },
   "outputs": [
    {
     "data": {
      "text/plain": [
       "2652  purchase    0.992065\n",
       "3095  purchase    0.966236\n",
       "2824  purchase    0.959301\n",
       "1455  purchase    0.959153\n",
       "1493  purchase    0.942135\n",
       "Name: view, dtype: float64"
      ]
     },
     "execution_count": 33,
     "metadata": {},
     "output_type": "execute_result"
    }
   ],
   "source": [
    "prodCorr['view'].nlargest(5)"
   ]
  },
  {
   "cell_type": "code",
   "execution_count": 38,
   "metadata": {
    "slideshow": {
     "slide_type": "subslide"
    }
   },
   "outputs": [
    {
     "data": {
      "text/plain": [
       "<matplotlib.legend.Legend at 0x1cafadaa898>"
      ]
     },
     "execution_count": 38,
     "metadata": {},
     "output_type": "execute_result"
    },
    {
     "data": {
      "image/png": "[encoded data removed]",
      "text/plain": [
       "<Figure size 1080x360 with 1 Axes>"
      ]
     },
     "metadata": {
      "needs_background": "light"
     },
     "output_type": "display_data"
    }
   ],
   "source": [
    "a = cart_flatten[cart_flatten['product_ids'] == 1493].resample('M')['customer_id'].count()\n",
    "b = views[views['product_id'] == 1493].resample('M')['customer_id'].count()\n",
    "a.plot(label='Carts')\n",
    "b.plot(label='Views')\n",
    "plt.legend(loc='upper left')"
   ]
  },
  {
   "cell_type": "markdown",
   "metadata": {
    "slideshow": {
     "slide_type": "slide"
    }
   },
   "source": [
    "### Conclusion:\n",
    "- There are more types of anomaly which needs to be addressed\n",
    " 1. Products being added to cart repeatedly by the same person\n",
    " 2. Customers visiting the products page repeatedly\n",
    "- Gathering more products with frequent visits or purchase to increase the credibility of the results\n",
    "- Analyzing the behavior of customers based on products or season "
   ]
  }
 ],
 "metadata": {
  "celltoolbar": "Slideshow",
  "kernelspec": {
   "display_name": "Python 3",
   "language": "python",
   "name": "python3"
  },
  "language_info": {
   "codemirror_mode": {
    "name": "ipython",
    "version": 3
   },
   "file_extension": ".py",
   "mimetype": "text/x-python",
   "name": "python",
   "nbconvert_exporter": "python",
   "pygments_lexer": "ipython3",
   "version": "3.6.7"
  }
 },
 "nbformat": 4,
 "nbformat_minor": 2
}
